{
  "nbformat": 4,
  "nbformat_minor": 0,
  "metadata": {
    "colab": {
      "provenance": []
    },
    "kernelspec": {
      "name": "python3",
      "display_name": "Python 3"
    },
    "language_info": {
      "name": "python"
    }
  },
  "cells": [
    {
      "cell_type": "markdown",
      "source": [
        "#1. 조건문"
      ],
      "metadata": {
        "id": "Smc8-f87pIjA"
      }
    },
    {
      "cell_type": "code",
      "execution_count": null,
      "metadata": {
        "id": "Bi-iWrMLpEbM"
      },
      "outputs": [],
      "source": [
        "#1.1 if문의 기본 구조\n",
        "\n",
        "# if 다음에 조건이 참인 경우에만 코드블록이 실행된다.\n",
        "\n",
        "# x = 2일때\n",
        "# x = 1일때\n",
        "# x = 0일때\n",
        "\n",
        "x = 2 # 비교할 대상\n",
        "\n",
        "if x > 1: # 비교 식 -> 비교식이 참일 경우에 하단의 print('True')가 실행된다.\n",
        "    print('True') # 출력: True\n",
        "\n",
        "#참이 아닌경우에는 조건식이 실행되지 않는다."
      ]
    },
    {
      "cell_type": "code",
      "source": [
        "# 결국 x = 2일때 if x > 1은 => True\n",
        "if True:\n",
        "    print('True') # 출력: True"
      ],
      "metadata": {
        "colab": {
          "base_uri": "https://localhost:8080/"
        },
        "id": "Vr605JUKpiUr",
        "outputId": "1c32464a-487e-4b78-fbc4-ae8bcfc0d308"
      },
      "execution_count": null,
      "outputs": [
        {
          "output_type": "stream",
          "name": "stdout",
          "text": [
            "True\n"
          ]
        }
      ]
    },
    {
      "cell_type": "code",
      "source": [
        "# 결국 x = 2일때 if x > 1은 => True\n",
        "if 1:\n",
        "    print('True') # 출력: True"
      ],
      "metadata": {
        "colab": {
          "base_uri": "https://localhost:8080/"
        },
        "id": "AL8xU4ysqV7f",
        "outputId": "356004cb-42fb-46bd-b591-3dd132f11f96"
      },
      "execution_count": null,
      "outputs": [
        {
          "output_type": "stream",
          "name": "stdout",
          "text": [
            "True\n"
          ]
        }
      ]
    },
    {
      "cell_type": "code",
      "source": [
        "# 결국 x = 2일때 if x > 1은 => True\n",
        "if \" \":\n",
        "    print('True') # 출력: True"
      ],
      "metadata": {
        "colab": {
          "base_uri": "https://localhost:8080/"
        },
        "id": "Bbb3SnHFqZMG",
        "outputId": "8b932eb9-0cf4-464b-b497-301740376a55"
      },
      "execution_count": null,
      "outputs": [
        {
          "output_type": "stream",
          "name": "stdout",
          "text": [
            "True\n"
          ]
        }
      ]
    },
    {
      "cell_type": "code",
      "source": [
        "# if문 안에 있는 코드블럭과 바깥에 있는 코드블럭\n",
        "\n",
        "if 0: # 정수를 바꿔서도 실습해보세요\n",
        "    print('hello') # 1번 출력\n",
        "\n",
        "print('end') # 2번 출력"
      ],
      "metadata": {
        "colab": {
          "base_uri": "https://localhost:8080/"
        },
        "id": "c3ElUFjeqdHm",
        "outputId": "e5d6118a-d027-47f3-9b2d-589b6d6e6da8"
      },
      "execution_count": null,
      "outputs": [
        {
          "output_type": "stream",
          "name": "stdout",
          "text": [
            "end\n"
          ]
        }
      ]
    },
    {
      "cell_type": "code",
      "source": [
        "# 공백이 있는 문자열\n",
        "if ' ': # True\n",
        "    print('hello')\n",
        "print('end')\n",
        "\n",
        "# 공백이 없는 문자열\n",
        "if '': # False\n",
        "    print('hello')\n",
        "print('end')"
      ],
      "metadata": {
        "colab": {
          "base_uri": "https://localhost:8080/"
        },
        "id": "cjcb7jAIrWYF",
        "outputId": "20ca7006-79c7-45aa-ead5-c11a1bc73365"
      },
      "execution_count": null,
      "outputs": [
        {
          "output_type": "stream",
          "name": "stdout",
          "text": [
            "hello\n",
            "end\n",
            "end\n"
          ]
        }
      ]
    },
    {
      "cell_type": "code",
      "source": [
        "# None인 경우\n",
        "\n",
        "if None: # None은 False로 처리됩니다.\n",
        "    print('hello')\n",
        "print('end')\n",
        "\n",
        "if not None:\n",
        "    print('hello')\n",
        "print('end')"
      ],
      "metadata": {
        "colab": {
          "base_uri": "https://localhost:8080/"
        },
        "id": "CrUeAEhRsQQn",
        "outputId": "5677073f-b131-4cbd-c7df-8cd1b2daef31"
      },
      "execution_count": null,
      "outputs": [
        {
          "output_type": "stream",
          "name": "stdout",
          "text": [
            "end\n",
            "hello\n",
            "end\n"
          ]
        }
      ]
    },
    {
      "cell_type": "code",
      "source": [
        "# 단락평가\n",
        "\n",
        "# 성능에 영향을 끼칩니다!\n",
        "\n",
        "# f()함수 아규먼트 x 파라미터 x\n",
        "def f():\n",
        "    return True # True가 무조건 반환되는 함수\n",
        "\n",
        "# f()함수 아규먼트 x 파라미터 x\n",
        "def ff():\n",
        "    x = 100 / 0 # error\n",
        "    return 'hello' # 실행되지 않았으면 하는 함수\n",
        "\n",
        "if f() or ff(): #f() ff() -> 하나의 조건 불과!\n",
        "    print('hello') # 출력: hello"
      ],
      "metadata": {
        "colab": {
          "base_uri": "https://localhost:8080/"
        },
        "id": "_ZK1OcmHsVfS",
        "outputId": "f345aceb-d44d-4c87-b84a-d4514ef9c54e"
      },
      "execution_count": null,
      "outputs": [
        {
          "output_type": "stream",
          "name": "stdout",
          "text": [
            "hello\n"
          ]
        }
      ]
    },
    {
      "cell_type": "code",
      "source": [
        "# 삼항 연산자\n",
        "\n",
        "#if x > y:\n",
        "#    print('x가')\n",
        "#else:\n",
        "#    print\n",
        "\n",
        "x = 5\n",
        "y = 10\n",
        "# 맞았을때 조건 / if / 조건 / else / 틀렸을때 조건\n",
        "result = 'x가 더 큽니다' if x > y else 'y와 같거나 y가 더 큽니다.'\n",
        "print(result) # 출력: 'y와 같거나 y가 더 큽니다.'"
      ],
      "metadata": {
        "colab": {
          "base_uri": "https://localhost:8080/"
        },
        "id": "hCCvN4byyahq",
        "outputId": "1df85834-25a2-4387-ca3e-aafdb3eb9f64"
      },
      "execution_count": null,
      "outputs": [
        {
          "output_type": "stream",
          "name": "stdout",
          "text": [
            "y와 같거나 y가 더 큽니다.\n"
          ]
        }
      ]
    },
    {
      "cell_type": "markdown",
      "source": [
        "# 람다함수\n",
        "\n",
        "* 익명함수 - 한줄로 표현 / 임시 함수 만들때 사용"
      ],
      "metadata": {
        "id": "eaIHX5bQ0OEY"
      }
    },
    {
      "cell_type": "code",
      "source": [
        "# 예) 두 숫자를 더하는 간단한 람다함수를 만든다.\n",
        "\n",
        "#def sum(x,y):\n",
        "#   z = x + y\n",
        "#   return z\n",
        "#sum(5,3)\n",
        "\n",
        "add = lambda x, y : x + y\n",
        "print(add(5,3))"
      ],
      "metadata": {
        "colab": {
          "base_uri": "https://localhost:8080/"
        },
        "id": "HPNQpDQm0VhL",
        "outputId": "6f720dce-ffc5-48e3-edbe-f51e81acb59c"
      },
      "execution_count": null,
      "outputs": [
        {
          "output_type": "stream",
          "name": "stdout",
          "text": [
            "8\n"
          ]
        }
      ]
    },
    {
      "cell_type": "code",
      "source": [
        "# 홀짝!\n",
        "my_function = lambda x: 'Even' if x % 2 == 0 else 'Odd'"
      ],
      "metadata": {
        "id": "Mf3HafgdzeM6"
      },
      "execution_count": null,
      "outputs": []
    },
    {
      "cell_type": "markdown",
      "source": [
        "#2. if - else - elif 중첩 조건문"
      ],
      "metadata": {
        "id": "NWtm6fyB0Nvl"
      }
    },
    {
      "cell_type": "code",
      "source": [
        "# if, else문의 기본구조\n",
        "if 조건문: # 조건문을 확인해서 만약 '참'이면 if 문 다음에 문장들은 수행합니다.\n",
        "    pass\n",
        "\t  # 수행할 문장 1 - 참일 경우에는 수행할 문장 1이 실행\n",
        "else: # if문의 조건이 거짓이면 else 문이 실행됩니다. (else에는 조건을 따로 적지 않아도 된다.)\n",
        "    pass\n",
        "\t  # 수행할 문장 2 - if에 조건문이 거짓일 경우 else에 있는 수행할 문장 2가 실행"
      ],
      "metadata": {
        "id": "zCYXZ28sz8tt"
      },
      "execution_count": null,
      "outputs": []
    },
    {
      "cell_type": "code",
      "source": [
        "# if문이 1개만 있을때는 거짓일때 아무것도 출력이 되지 않게!\n",
        "x = 3\n",
        "y = 1\n",
        "\n",
        "if x > y:\n",
        "    print('첫번째 값이 더 큽니다.') # 참일때만 수행\n"
      ],
      "metadata": {
        "id": "KKHhcBdN2mLK"
      },
      "execution_count": null,
      "outputs": []
    },
    {
      "cell_type": "code",
      "source": [
        "x = 1\n",
        "y = 3\n",
        "\n",
        "if x > y:\n",
        "    print('첫번째 값이 더 큽니다.')\n",
        "else:\n",
        "    print('두번째 값이 더 크거나 같습니다.') # 거짓일때 수행"
      ],
      "metadata": {
        "colab": {
          "base_uri": "https://localhost:8080/"
        },
        "id": "1aZlP-la2qUP",
        "outputId": "11b2dce7-b7b7-4fcc-d6b3-2350dad85e0b"
      },
      "execution_count": null,
      "outputs": [
        {
          "output_type": "stream",
          "name": "stdout",
          "text": [
            "두번째 값이 더 크거나 같습니다.\n"
          ]
        }
      ]
    },
    {
      "cell_type": "code",
      "source": [
        "# if, elif, else문의 기본구조 (조건이 3개 이상일 경우)\n",
        "# 조건이 늘어나면 elif만 추가하면 된다. if else는 그대로!\n",
        "# elif에는 조건식이 필요하다. 단 다른 조건과 겹치지 않게! (조건을 나누는 중요함)\n",
        "\n",
        "if 조건문: # 조건문을 확인해서 만약 '참'이면 if 문 다음에 문장들은 수행합니다.\n",
        "\t  # 수행할 문장 1\n",
        "    pass\n",
        "elif 추가조건: # if문의 조건이 '참'이 아니라면 elif 문의 조건문이 참이라면 수행한다.\n",
        "\t  # 수행할 문장 2\n",
        "    pass\n",
        "else: # 위 모든 if문, elif문의 조건이 '참'이 아니라면 수행합니다.\n",
        "\t  # 수행할 문장 3\n",
        "    pass"
      ],
      "metadata": {
        "id": "6LFHSEAj219m"
      },
      "execution_count": null,
      "outputs": []
    },
    {
      "cell_type": "code",
      "source": [
        "# if, elif, else문의 기본구조\n",
        "\n",
        "if 조건문: # 조건문을 확인해서 만약 '참'이면 if 문 다음에 문장들은 수행합니다.\n",
        "\t  # 수행할 문장 1\n",
        "    pass\n",
        "elif 추가조건: # if문의 조건이 '참'이 아니라면 elif 문의 조건문이 참이라면 수행한다.\n",
        "\t  # 수행할 문장 2\n",
        "    pass\n",
        "elif 추가조건: # if문의 조건이 '참'이 아니라면 elif 문의 조건문이 참이라면 수행한다.\n",
        "\t  # 수행할 문장 2\n",
        "    pass\n",
        "elif 추가조건: # if문의 조건이 '참'이 아니라면 elif 문의 조건문이 참이라면 수행한다.\n",
        "\t  # 수행할 문장 2\n",
        "    pass\n",
        "else: # 위 모든 if문, elif문의 조건이 '참'이 아니라면 수행합니다.\n",
        "\t  # 수행할 문장 3\n",
        "    pass"
      ],
      "metadata": {
        "id": "1ddX_YjN3YzC"
      },
      "execution_count": null,
      "outputs": []
    },
    {
      "cell_type": "code",
      "source": [
        "# 성적입력 프로그램 - 기본\n",
        "score = int(input(\"성적을 입력하세요 (0-100): \"))\n",
        "\n",
        "# 잘못된 예 if - 90이상 / elif - 90이하\n",
        "\n",
        "if score >= 90: # 90점 이상일때 A학점\n",
        "    print(\"A\")\n",
        "elif 90 > score >= 80: # 80점 이상 89점 이하 B학점\n",
        "    print(\"B\")\n",
        "elif 80 > score >= 70: # 70점 이상 79점 이하\n",
        "    print(\"C\")\n",
        "elif 70 > score >= 60: # 60점 이상 69점 이하\n",
        "    print(\"D\")\n",
        "else:                  # 59점 이하\n",
        "    print(\"F\")"
      ],
      "metadata": {
        "colab": {
          "base_uri": "https://localhost:8080/"
        },
        "id": "mlJQqJBA38bD",
        "outputId": "100033d1-0688-464e-b120-712e47dc2a7b"
      },
      "execution_count": null,
      "outputs": [
        {
          "output_type": "stream",
          "name": "stdout",
          "text": [
            "성적을 입력하세요 (0-100): 90\n",
            "A\n"
          ]
        }
      ]
    },
    {
      "cell_type": "code",
      "source": [
        "score = int(input(\"성적을 입력하세요 (0-100): \"))\n",
        "\n",
        "if score >= 90:\n",
        "    print(\"A\")\n",
        "elif score >= 80:\n",
        "    print(\"B\")\n",
        "elif score >= 70:\n",
        "    print(\"C\")\n",
        "elif score >= 60:\n",
        "    print(\"D\")\n",
        "else:\n",
        "    print(\"F\")"
      ],
      "metadata": {
        "id": "qD3q2sWw5-FF"
      },
      "execution_count": null,
      "outputs": []
    },
    {
      "cell_type": "code",
      "source": [
        "# Step 1 : 성적입력 프로그램 - 기본\n",
        "score = int(input(\"성적을 입력하세요 (0-100): \"))"
      ],
      "metadata": {
        "colab": {
          "base_uri": "https://localhost:8080/"
        },
        "id": "hpyffbz_4FqD",
        "outputId": "80cc1814-fdb5-4860-f934-dcfd937948c4"
      },
      "execution_count": null,
      "outputs": [
        {
          "name": "stdout",
          "output_type": "stream",
          "text": [
            "성적을 입력하세요 (0-100): 80\n"
          ]
        }
      ]
    },
    {
      "cell_type": "code",
      "source": [
        "# Step 2 : 기본 성적 처리 - A학점\n",
        "if score >= 90: # 90점 이상일때\n",
        "    print(\"A\")\n"
      ],
      "metadata": {
        "id": "Gv4p3Ko448CC"
      },
      "execution_count": null,
      "outputs": []
    },
    {
      "cell_type": "code",
      "source": [
        "# Step 3 : 90점이 아닐때\n",
        "if score >= 90: # 90점 이상일때\n",
        "    print(\"A\")\n",
        "else:\n",
        "    print(\"89점 이하입니다.\")"
      ],
      "metadata": {
        "colab": {
          "base_uri": "https://localhost:8080/"
        },
        "id": "ccdpiMQN5Eoj",
        "outputId": "ddcfc04b-1f37-4015-fa7b-a158de66a00b"
      },
      "execution_count": null,
      "outputs": [
        {
          "output_type": "stream",
          "name": "stdout",
          "text": [
            "89점 이하입니다.\n"
          ]
        }
      ]
    },
    {
      "cell_type": "code",
      "source": [
        "# Step 4 : 여러가지 조건을 입력해서 정리\n",
        "\n",
        "# 성적입력 프로그램 - 기본\n",
        "score = int(input(\"성적을 입력하세요 (0-100): \"))\n",
        "\n",
        "# 잘못된 예 if - 90이상 / elif - 90이하\n",
        "\n",
        "if score >= 90: # 90점 이상일때\n",
        "    print(\"A\")\n",
        "elif 90 > score >= 80: # 80점 이상 89점 이하\n",
        "    print(\"B\")\n",
        "elif 80 > score >= 70: # 70점 이상 79점 이하\n",
        "    print(\"C\")\n",
        "elif 70 > score >= 60: # 60점 이상 69점 이하\n",
        "    print(\"D\")\n",
        "else:                  # 59점 이하\n",
        "    print(\"F\")\n",
        "\n",
        "# 테스트를 다양하게 각 케이스(조건) 테스트 수행\n",
        "# 음수, 소수점!"
      ],
      "metadata": {
        "id": "pTg17fBM5R_1"
      },
      "execution_count": null,
      "outputs": []
    },
    {
      "cell_type": "code",
      "source": [
        "score = 81\n",
        "money = 0\n",
        "\n",
        "# 1개의 if문 (중첩 조건문)\n",
        "if score >= 90:\n",
        "    money += 1000000\n",
        "elif score >= 80:\n",
        "    money += 100000\n",
        "elif score >= 70:\n",
        "    money += 10000\n",
        "elif score >= 60:\n",
        "    money += 1000\n",
        "else:\n",
        "    money = 0\n",
        "print(money) # 출력: 100000"
      ],
      "metadata": {
        "colab": {
          "base_uri": "https://localhost:8080/"
        },
        "id": "fRSzXKz46K7C",
        "outputId": "d75f73db-b2b0-4d04-b3e8-6f13ec1e743a"
      },
      "execution_count": null,
      "outputs": [
        {
          "output_type": "stream",
          "name": "stdout",
          "text": [
            "100000\n"
          ]
        }
      ]
    },
    {
      "cell_type": "code",
      "source": [
        "score = 81\n",
        "money = 0\n",
        "\n",
        "# 총 4개의 if문!\n",
        "if score >= 90:\n",
        "    money += 1000000\n",
        "    if score >= 80:\n",
        "        money += 100000\n",
        "        if score >= 70:\n",
        "            money += 10000\n",
        "            if score >= 60:\n",
        "                money += 1000\n",
        "            else:\n",
        "                money = 0\n",
        "print(money) # 출력: 111000"
      ],
      "metadata": {
        "colab": {
          "base_uri": "https://localhost:8080/"
        },
        "id": "USfhXiKU-7z2",
        "outputId": "c1ac518a-9334-4696-fd06-5e4250d17d92"
      },
      "execution_count": null,
      "outputs": [
        {
          "output_type": "stream",
          "name": "stdout",
          "text": [
            "111000\n"
          ]
        }
      ]
    },
    {
      "cell_type": "code",
      "source": [
        "score = 81\n",
        "money = 0\n",
        "\n",
        "if score >= 90:\n",
        "    money += 1000000\n",
        "if 90 > score >= 80:\n",
        "    money += 100000\n",
        "if 80 > score >= 70:\n",
        "    money += 10000\n",
        "if 70 > score >= 60:\n",
        "    money += 1000\n",
        "else:\n",
        "    print(\"용돈이 없다!\")\n",
        "print(money)"
      ],
      "metadata": {
        "colab": {
          "base_uri": "https://localhost:8080/"
        },
        "id": "JlpQnsqF_AFm",
        "outputId": "b85d154f-56ef-4eec-ff13-7e3c585d1316"
      },
      "execution_count": null,
      "outputs": [
        {
          "output_type": "stream",
          "name": "stdout",
          "text": [
            "용돈이 없다!\n",
            "100000\n"
          ]
        }
      ]
    },
    {
      "cell_type": "markdown",
      "source": [
        "## 2.2 중첩 if-else문"
      ],
      "metadata": {
        "id": "gSpZbXPrA8zg"
      }
    },
    {
      "cell_type": "code",
      "source": [
        "# if를 중첩해서 사용하기\n",
        "movie = {\n",
        "    '영화': '레미제라블',\n",
        "    '장르': '드라마',\n",
        "    '서비스': '디즈니',\n",
        "    '비용': 15000,\n",
        "    '평점': 4.9\n",
        "}\n",
        "\n",
        "# 딕셔너리에 대한 값 비교!\n",
        "if movie['장르'] == '드라마':\n",
        "    if movie['서비스'] == '디즈니' or movie['서비스'] == '넷플릭스':\n",
        "        if movie['평점'] >= 4.5:\n",
        "            if movie['비용'] <= 20000:\n",
        "                print('영화시청') # 출력: 영화시청"
      ],
      "metadata": {
        "colab": {
          "base_uri": "https://localhost:8080/"
        },
        "id": "Kd-SD1NGAaqZ",
        "outputId": "0841b76d-b517-4843-a86d-a7f40ca9db87"
      },
      "execution_count": null,
      "outputs": [
        {
          "output_type": "stream",
          "name": "stdout",
          "text": [
            "영화시청\n"
          ]
        }
      ]
    },
    {
      "cell_type": "code",
      "source": [
        "if movie['장르'] == 'SF'\n",
        "  and (movie['서비스'] == '디즈니' or movie['서비스'] == '넷플릭스')\n",
        "  and movie['평점'] >= 4.5\n",
        "  and movie['비용'] <= 20000:\n",
        "  print('영화시청') # 출력: 영화시청"
      ],
      "metadata": {
        "id": "UEGrxtGOBM2P"
      },
      "execution_count": null,
      "outputs": []
    },
    {
      "cell_type": "code",
      "source": [
        "movie = {\n",
        "    '영화': '레미제라블',\n",
        "    '장르': '드라마',\n",
        "    '서비스': '왓챠',\n",
        "    '비용': 15000,\n",
        "    '평점': 4.9\n",
        "}\n",
        "\n",
        "if movie['장르'] == 'SF':\n",
        "    if movie['서비스'] == '디즈니' or movie['서비스'] == '넷플릭스':\n",
        "        if movie['평점'] >= 4.5 and movie['비용'] <= 20000:\n",
        "            print('영화시청')\n",
        "else:\n",
        "    print(movie['서비스'] + ' 구독하기!') # 출력: 왓챠 구독하기!"
      ],
      "metadata": {
        "colab": {
          "base_uri": "https://localhost:8080/"
        },
        "id": "CG4udIqWDBYN",
        "outputId": "7bc02fb1-ff79-4185-e414-e4790ce12337"
      },
      "execution_count": null,
      "outputs": [
        {
          "output_type": "stream",
          "name": "stdout",
          "text": [
            "왓챠 구독하기!\n"
          ]
        }
      ]
    },
    {
      "cell_type": "code",
      "source": [],
      "metadata": {
        "id": "MvtmjXILDHQy"
      },
      "execution_count": null,
      "outputs": []
    }
  ]
}