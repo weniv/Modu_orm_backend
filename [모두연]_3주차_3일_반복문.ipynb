{
  "nbformat": 4,
  "nbformat_minor": 0,
  "metadata": {
    "colab": {
      "provenance": []
    },
    "kernelspec": {
      "name": "python3",
      "display_name": "Python 3"
    },
    "language_info": {
      "name": "python"
    }
  },
  "cells": [
    {
      "cell_type": "markdown",
      "source": [
        "#1. While문"
      ],
      "metadata": {
        "id": "MN_ECJHfx2eS"
      }
    },
    {
      "cell_type": "code",
      "execution_count": null,
      "metadata": {
        "colab": {
          "base_uri": "https://localhost:8080/"
        },
        "id": "D38h8bLgxzOA",
        "outputId": "b8f12f2d-ca4f-4e13-fd2b-6a4798330f3c"
      },
      "outputs": [
        {
          "output_type": "stream",
          "name": "stdout",
          "text": [
            ">pwd\n",
            "/content\n",
            ">exit\n",
            "안녕히가세요.\n"
          ]
        }
      ],
      "source": [
        "# colab에서도 작동되지만 가능하면 .py파일로 작성해서 실행해보세요.\n",
        "import os\n",
        "\n",
        "while True:\n",
        "    userinput = input('>')\n",
        "    if userinput == 'pwd':\n",
        "        # print('현재 위치 출력')\n",
        "        # print('\\\\'.join(__file__.split('\\\\')[:-1]))\n",
        "        print(os.getcwd())\n",
        "    elif userinput == 'dir' or userinput == 'ls':\n",
        "        # print('현재 폴더에 폴더와 파일명 출력')\n",
        "        print(os.listdir(os.getcwd()))\n",
        "    elif userinput == 'exit':\n",
        "        print('안녕히가세요.')\n",
        "        break"
      ]
    },
    {
      "cell_type": "markdown",
      "source": [
        "#2. Break / continue"
      ],
      "metadata": {
        "id": "T8AMZDhwyRej"
      }
    },
    {
      "cell_type": "markdown",
      "source": [
        "* Break = 반복문을 즉시 종료!"
      ],
      "metadata": {
        "id": "LCFPlzxCzHVD"
      }
    },
    {
      "cell_type": "code",
      "source": [
        "# 전형적인 for 반복문!\n",
        "for i in range(10):\n",
        "    print(i)\n",
        "# 이 코드는 0부터 4까지 출력하고, i가 5가 되었을 때 반복문을 종료합니다."
      ],
      "metadata": {
        "colab": {
          "base_uri": "https://localhost:8080/"
        },
        "id": "h817dnuEx4G5",
        "outputId": "66b14d75-e9ba-4721-e7ce-548eed7a8dc8"
      },
      "execution_count": null,
      "outputs": [
        {
          "output_type": "stream",
          "name": "stdout",
          "text": [
            "0\n",
            "1\n",
            "2\n",
            "3\n",
            "4\n",
            "5\n",
            "6\n",
            "7\n",
            "8\n",
            "9\n"
          ]
        }
      ]
    },
    {
      "cell_type": "code",
      "source": [
        "for i in range(10):\n",
        "    if i == 5: #만약에 i가 5면 정지시켜라!  -> 0부터 5까지만 출력하고 나머지는 출력하지 않겠다.\n",
        "        break # break도 코드블록 4칸 띄어서!\n",
        "    print(i)"
      ],
      "metadata": {
        "colab": {
          "base_uri": "https://localhost:8080/"
        },
        "id": "XMqnS2Ixyo0W",
        "outputId": "c981b6af-9c81-4952-bbc4-41e038d7e78e"
      },
      "execution_count": null,
      "outputs": [
        {
          "output_type": "stream",
          "name": "stdout",
          "text": [
            "0\n",
            "1\n",
            "2\n",
            "3\n",
            "4\n"
          ]
        }
      ]
    },
    {
      "cell_type": "markdown",
      "source": [
        "* Continue = 반복문의 나머지 부분을 건너뛰고, 반복문을 다음 반복으로 즉시 이동"
      ],
      "metadata": {
        "id": "_KE0BnEGznTK"
      }
    },
    {
      "cell_type": "code",
      "source": [
        "for i in range(10):\n",
        "#    print(i)"
      ],
      "metadata": {
        "colab": {
          "base_uri": "https://localhost:8080/"
        },
        "id": "Crr6ZSnvzTC2",
        "outputId": "6ef8c438-e807-48d3-c219-e3f4c31459a7"
      },
      "execution_count": null,
      "outputs": [
        {
          "output_type": "stream",
          "name": "stdout",
          "text": [
            "0\n",
            "1\n",
            "2\n",
            "3\n",
            "4\n",
            "5\n",
            "6\n",
            "7\n",
            "8\n",
            "9\n"
          ]
        }
      ]
    },
    {
      "cell_type": "code",
      "source": [
        "for i in range(10):\n",
        "    if i % 2 == 0:\n",
        "        continue\n",
        "    print(i)"
      ],
      "metadata": {
        "colab": {
          "base_uri": "https://localhost:8080/"
        },
        "id": "UdupXYvY0g-2",
        "outputId": "418ad0bf-b658-4b91-fcfe-94949c139ad3"
      },
      "execution_count": null,
      "outputs": [
        {
          "output_type": "stream",
          "name": "stdout",
          "text": [
            "1\n",
            "3\n",
            "5\n",
            "7\n",
            "9\n"
          ]
        }
      ]
    },
    {
      "cell_type": "code",
      "source": [
        "#\n",
        "for i in range(10): # 0~9까지\n",
        "    if i % 2 == 0:  # 짝수인 경우에 하단 코드블럭을 실행\n",
        "        continue    # 짝수인 경우에 실행한 구문이 continue -> 짝수일때 -> 다시 반복문 다음순서로 이동!\n",
        "    print(i)        # for문안에 if문 실행 된후에 차례대로 print(i)\n",
        "#\n",
        "for i in range(10): # 0~9까지\n",
        "    if i % 2 == 0:  # 짝수인 경우에 하단 코드블럭을 실행\n",
        "        print(i)    # 짝수인 경우에 출력!"
      ],
      "metadata": {
        "colab": {
          "base_uri": "https://localhost:8080/"
        },
        "id": "_ilWBMd9zxoY",
        "outputId": "1ba5df33-5bd9-415f-9010-38e04536e3a1"
      },
      "execution_count": null,
      "outputs": [
        {
          "output_type": "stream",
          "name": "stdout",
          "text": [
            "1\n",
            "3\n",
            "5\n",
            "7\n",
            "9\n"
          ]
        }
      ]
    },
    {
      "cell_type": "code",
      "source": [
        "for i in range(10):\n",
        "    if i % 2 == 0:\n",
        "        print(i)\n",
        "    print(i)"
      ],
      "metadata": {
        "colab": {
          "base_uri": "https://localhost:8080/"
        },
        "id": "2yUx32aNz18h",
        "outputId": "bd525c60-0cf2-436f-fcfc-849d50772898"
      },
      "execution_count": null,
      "outputs": [
        {
          "output_type": "stream",
          "name": "stdout",
          "text": [
            "0\n",
            "0\n",
            "1\n",
            "2\n",
            "2\n",
            "3\n",
            "4\n",
            "4\n",
            "5\n",
            "6\n",
            "6\n",
            "7\n",
            "8\n",
            "8\n",
            "9\n"
          ]
        }
      ]
    },
    {
      "cell_type": "code",
      "source": [
        "for i in range(10):\n",
        "    if i % 2 == 0:\n",
        "        print(i)"
      ],
      "metadata": {
        "colab": {
          "base_uri": "https://localhost:8080/"
        },
        "id": "lckWyPaoz5IY",
        "outputId": "435ac1d4-1f99-435e-c872-3108e8663e35"
      },
      "execution_count": null,
      "outputs": [
        {
          "output_type": "stream",
          "name": "stdout",
          "text": [
            "0\n",
            "2\n",
            "4\n",
            "6\n",
            "8\n"
          ]
        }
      ]
    },
    {
      "cell_type": "code",
      "source": [
        "import random\n",
        "\n",
        "answer = random.randint(1, 1000)\n",
        "while True:\n",
        "    userinput = int(input('숫자를 입력해주세요.'))\n",
        "    if userinput > answer:\n",
        "        print('Down')\n",
        "\n",
        "    elif userinput < answer:\n",
        "        print('Up')\n",
        "    else:\n",
        "        print('축하합니다! 맞추셨어요!')\n",
        "        break"
      ],
      "metadata": {
        "colab": {
          "base_uri": "https://localhost:8080/"
        },
        "id": "fUoHnFPO0Nor",
        "outputId": "e2878685-9691-41eb-f5a9-057c19ed5a21"
      },
      "execution_count": null,
      "outputs": [
        {
          "output_type": "stream",
          "name": "stdout",
          "text": [
            "숫자를 입력해주세요.1000\n",
            "Down\n",
            "숫자를 입력해주세요.300\n",
            "Up\n",
            "숫자를 입력해주세요.400\n",
            "Up\n",
            "숫자를 입력해주세요.500\n",
            "Up\n",
            "숫자를 입력해주세요.600\n",
            "Up\n",
            "숫자를 입력해주세요.700\n",
            "Up\n",
            "숫자를 입력해주세요.800\n",
            "Up\n",
            "숫자를 입력해주세요.900\n",
            "Up\n",
            "숫자를 입력해주세요.950\n",
            "Up\n",
            "숫자를 입력해주세요.980\n",
            "축하합니다! 맞추셨어요!\n"
          ]
        }
      ]
    },
    {
      "cell_type": "code",
      "source": [
        "#중첩 While문\n",
        "while i < 10 :\n",
        "    while j < 10:\n",
        "        print(f'{i} X {j} = {i * j}')\n",
        "\n",
        "i = 2\n",
        "while i < 10 :\n",
        "    j = 1\n",
        "    while j < 10:\n",
        "        print(f'{i} X {j} = {i * j}')\n",
        "        j += 1\n",
        "    i += 1\n",
        "\n",
        "#중첩 for문\n",
        "for i in range(2, 10):  # 2부터 9까지 반복 (10은 포함되지 않음)\n",
        "    for j in range(1, 10):  # 1부터 9까지 반복 (10은 포함되지 않음)\n",
        "        print(f'{i} X {j} = {i * j}')"
      ],
      "metadata": {
        "id": "_dhPwicX2J9M"
      },
      "execution_count": null,
      "outputs": []
    },
    {
      "cell_type": "code",
      "source": [
        "i = 2\n",
        "while i < 10 :\n",
        "    j = 1\n",
        "    while j < 10:\n",
        "        print(f'{i} X {j} = {i * j}')\n",
        "        j += 1\n",
        "    i += 1"
      ],
      "metadata": {
        "colab": {
          "base_uri": "https://localhost:8080/"
        },
        "id": "JlhLWYoT-Nn6",
        "outputId": "bf0da5ba-0e25-40ca-843c-f31bf29851d1"
      },
      "execution_count": null,
      "outputs": [
        {
          "output_type": "stream",
          "name": "stdout",
          "text": [
            "2 X 1 = 2\n",
            "2 X 2 = 4\n",
            "2 X 3 = 6\n",
            "2 X 4 = 8\n",
            "2 X 5 = 10\n",
            "2 X 6 = 12\n",
            "2 X 7 = 14\n",
            "2 X 8 = 16\n",
            "2 X 9 = 18\n",
            "3 X 1 = 3\n",
            "3 X 2 = 6\n",
            "3 X 3 = 9\n",
            "3 X 4 = 12\n",
            "3 X 5 = 15\n",
            "3 X 6 = 18\n",
            "3 X 7 = 21\n",
            "3 X 8 = 24\n",
            "3 X 9 = 27\n",
            "4 X 1 = 4\n",
            "4 X 2 = 8\n",
            "4 X 3 = 12\n",
            "4 X 4 = 16\n",
            "4 X 5 = 20\n",
            "4 X 6 = 24\n",
            "4 X 7 = 28\n",
            "4 X 8 = 32\n",
            "4 X 9 = 36\n",
            "5 X 1 = 5\n",
            "5 X 2 = 10\n",
            "5 X 3 = 15\n",
            "5 X 4 = 20\n",
            "5 X 5 = 25\n",
            "5 X 6 = 30\n",
            "5 X 7 = 35\n",
            "5 X 8 = 40\n",
            "5 X 9 = 45\n",
            "6 X 1 = 6\n",
            "6 X 2 = 12\n",
            "6 X 3 = 18\n",
            "6 X 4 = 24\n",
            "6 X 5 = 30\n",
            "6 X 6 = 36\n",
            "6 X 7 = 42\n",
            "6 X 8 = 48\n",
            "6 X 9 = 54\n",
            "7 X 1 = 7\n",
            "7 X 2 = 14\n",
            "7 X 3 = 21\n",
            "7 X 4 = 28\n",
            "7 X 5 = 35\n",
            "7 X 6 = 42\n",
            "7 X 7 = 49\n",
            "7 X 8 = 56\n",
            "7 X 9 = 63\n",
            "8 X 1 = 8\n",
            "8 X 2 = 16\n",
            "8 X 3 = 24\n",
            "8 X 4 = 32\n",
            "8 X 5 = 40\n",
            "8 X 6 = 48\n",
            "8 X 7 = 56\n",
            "8 X 8 = 64\n",
            "8 X 9 = 72\n",
            "9 X 1 = 9\n",
            "9 X 2 = 18\n",
            "9 X 3 = 27\n",
            "9 X 4 = 36\n",
            "9 X 5 = 45\n",
            "9 X 6 = 54\n",
            "9 X 7 = 63\n",
            "9 X 8 = 72\n",
            "9 X 9 = 81\n"
          ]
        }
      ]
    },
    {
      "cell_type": "code",
      "source": [
        "switch = 0\n",
        "for i in range(5):\n",
        "    if switch == 1:\n",
        "        break\n",
        "    for j in range(5):\n",
        "        if j == 3:\n",
        "            switch = 1\n",
        "            break\n",
        "        print(f'{i}, {j}')"
      ],
      "metadata": {
        "colab": {
          "base_uri": "https://localhost:8080/"
        },
        "id": "PZkkkQvC-RQN",
        "outputId": "54de7ece-39c2-4d66-dadc-4d1740aaf3f1"
      },
      "execution_count": null,
      "outputs": [
        {
          "output_type": "stream",
          "name": "stdout",
          "text": [
            "0, 0\n",
            "0, 1\n",
            "0, 2\n"
          ]
        }
      ]
    },
    {
      "cell_type": "code",
      "source": [
        "try:\n",
        "    for i in range(2, 10):\n",
        "        for j in range(1, 10):\n",
        "            if j == 3:\n",
        "                raise StopIteration\n",
        "            print(f'{i} X {j} = {i*j}')\n",
        "except StopIteration:\n",
        "    print(\"Done\")"
      ],
      "metadata": {
        "id": "MNhpyoUuAhk9"
      },
      "execution_count": null,
      "outputs": []
    },
    {
      "cell_type": "code",
      "source": [
        "for i in range(5): #0~4\n",
        "    print(f'{i} 물고기를 잡았습니다.')\n",
        "    if i == 5:\n",
        "        print('만선입니다. 물고기를 다 잡았습니다.')\n",
        "        break\n",
        "else:\n",
        "    print('아직 여유가 좀 있지만, 물고기가 더 없는 것 같으니 이정도로 만족하고 돌아갑시다.')\n",
        "print('수고하셨습니다.')"
      ],
      "metadata": {
        "colab": {
          "base_uri": "https://localhost:8080/"
        },
        "id": "JhX7m12-CQLS",
        "outputId": "4390963e-7e12-4713-8052-676ab9378cba"
      },
      "execution_count": null,
      "outputs": [
        {
          "output_type": "stream",
          "name": "stdout",
          "text": [
            "0 물고기를 잡았습니다.\n",
            "1 물고기를 잡았습니다.\n",
            "2 물고기를 잡았습니다.\n",
            "3 물고기를 잡았습니다.\n",
            "4 물고기를 잡았습니다.\n",
            "아직 여유가 좀 있지만, 물고기가 더 없는 것 같으니 이정도로 만족하고 돌아갑시다.\n",
            "수고하셨습니다.\n"
          ]
        }
      ]
    },
    {
      "cell_type": "code",
      "source": [
        "todo_list = []\n",
        "\n",
        "def display_todo_list():\n",
        "    print(\"현재 할 일 목록:\")\n",
        "    for task in todo_list:\n",
        "        print(\"- \" + task)"
      ],
      "metadata": {
        "id": "ZB9nrKCBCVTO"
      },
      "execution_count": null,
      "outputs": []
    },
    {
      "cell_type": "code",
      "source": [
        "def add_task(task):\n",
        "    todo_list.append(task)\n",
        "    print(f\"'{task}'가 할 일 목록에 추가되었습니다.\")\n",
        "\n",
        "def remove_task(task):\n",
        "    if task in todo_list:\n",
        "        todo_list.remove(task)\n",
        "        print(f\"'{task}'가 할 일 목록에서 제거되었습니다.\")\n",
        "    else:\n",
        "        print(f\"할 일 목록에 '{task}'가 없습니다.\")"
      ],
      "metadata": {
        "id": "SRsFCK2ZJvIa"
      },
      "execution_count": null,
      "outputs": []
    },
    {
      "cell_type": "code",
      "source": [
        "while True:\n",
        "    print(\"\\n[1] 할 일 추가 [2] 할 일 삭제 [3] 목록 표시 [4] 종료\")\n",
        "    choice = input(\"선택: \")\n",
        "\n",
        "    if choice == '1':\n",
        "        task = input(\"추가할 할 일: \")\n",
        "        add_task(task)\n",
        "    elif choice == '2':\n",
        "        task = input(\"삭제할 할 일: \")\n",
        "        remove_task(task)\n",
        "    elif choice == '3':\n",
        "        display_todo_list()\n",
        "    elif choice == '4':\n",
        "        print(\"프로그램을 종료합니다.\")\n",
        "        break\n",
        "    else:\n",
        "        print(\"잘못된 선택입니다. 다시 입력하세요.\")"
      ],
      "metadata": {
        "colab": {
          "base_uri": "https://localhost:8080/"
        },
        "id": "Y6SyxOuWJxdt",
        "outputId": "85292fbc-f3f2-4175-8157-0abcb8a3276d"
      },
      "execution_count": null,
      "outputs": [
        {
          "output_type": "stream",
          "name": "stdout",
          "text": [
            "\n",
            "[1] 할 일 추가 [2] 할 일 삭제 [3] 목록 표시 [4] 종료\n",
            "선택: 1\n",
            "추가할 할 일: 배고파\n",
            "'배고파'가 할 일 목록에 추가되었습니다.\n",
            "\n",
            "[1] 할 일 추가 [2] 할 일 삭제 [3] 목록 표시 [4] 종료\n",
            "선택: 1\n",
            "추가할 할 일: 뭐하지\n",
            "'뭐하지'가 할 일 목록에 추가되었습니다.\n",
            "\n",
            "[1] 할 일 추가 [2] 할 일 삭제 [3] 목록 표시 [4] 종료\n",
            "선택: 3\n",
            "현재 할 일 목록:\n",
            "- 배고파\n",
            "- 뭐하지\n",
            "\n",
            "[1] 할 일 추가 [2] 할 일 삭제 [3] 목록 표시 [4] 종료\n",
            "선택: 4\n",
            "프로그램을 종료합니다.\n"
          ]
        }
      ]
    },
    {
      "cell_type": "code",
      "source": [
        "print(todo_list)"
      ],
      "metadata": {
        "colab": {
          "base_uri": "https://localhost:8080/"
        },
        "id": "FYOlEh3jJ14U",
        "outputId": "ead2cb5d-5028-4cac-f8cc-b8fb5bd3d78a"
      },
      "execution_count": null,
      "outputs": [
        {
          "output_type": "stream",
          "name": "stdout",
          "text": [
            "['배고파', '뭐하지']\n"
          ]
        }
      ]
    },
    {
      "cell_type": "code",
      "source": [
        "# 할 일 목록을 저장할 리스트\n",
        "todo_list = []\n",
        "\n",
        "# 할 일 목록을 표시하는 함수\n",
        "def display_todo_list():\n",
        "    print(\"현재 할 일 목록:\")\n",
        "    for task in todo_list:  # todo_list에 있는 모든 할 일을 순회\n",
        "        print(\"- \" + task)  # 각 할 일 앞에 '-'를 붙여서 출력\n",
        "\n",
        "# 할 일을 추가하는 함수\n",
        "def add_task(task):\n",
        "    todo_list.append(task)  # 리스트에 새 할 일 추가\n",
        "    print(f\"'{task}'가 할 일 목록에 추가되었습니다.\")\n",
        "\n",
        "# 할 일을 제거하는 함수\n",
        "def remove_task(task):\n",
        "    if task in todo_list:  # 할 일이 목록에 있는지 확인\n",
        "        todo_list.remove(task)  # 목록에서 할 일 제거\n",
        "        print(f\"'{task}'가 할 일 목록에서 제거되었습니다.\")\n",
        "    else:\n",
        "        print(f\"할 일 목록에 '{task}'가 없습니다.\")\n",
        "\n",
        "# 메인 루프\n",
        "while True:\n",
        "    print(\"\\n[1] 할 일 추가 [2] 할 일 삭제 [3] 목록 표시 [4] 종료\")\n",
        "    choice = input(\"선택: \")  # 사용자 입력 받기\n",
        "\n",
        "    if choice == '1':  # 할 일 추가\n",
        "        task = input(\"추가할 할 일: \")\n",
        "        add_task(task)\n",
        "    elif choice == '2':  # 할 일 삭제\n",
        "        task = input(\"삭제할 할 일: \")\n",
        "        remove_task(task)\n",
        "    elif choice == '3':  # 할 일 목록 표시\n",
        "        display_todo_list()\n",
        "    elif choice == '4':  # 프로그램 종료\n",
        "        print(\"프로그램을 종료합니다.\")\n",
        "        break  # while 루프 종료\n",
        "    else:\n",
        "        print(\"잘못된 선택입니다. 다시 입력하세요.\")\n"
      ],
      "metadata": {
        "colab": {
          "base_uri": "https://localhost:8080/"
        },
        "id": "kH2jQR6bLX_c",
        "outputId": "18f98d42-284f-4d58-94f5-b38e29d3cad0"
      },
      "execution_count": null,
      "outputs": [
        {
          "output_type": "stream",
          "name": "stdout",
          "text": [
            "\n",
            "[1] 할 일 추가 [2] 할 일 삭제 [3] 목록 표시 [4] 종료\n",
            "선택: 1\n",
            "추가할 할 일: 이따가 점심에 갈비먹어야지\n",
            "'이따가 점심에 갈비먹어야지'가 할 일 목록에 추가되었습니다.\n",
            "\n",
            "[1] 할 일 추가 [2] 할 일 삭제 [3] 목록 표시 [4] 종료\n",
            "선택: 1\n",
            "추가할 할 일: 점심에 스트레칭 좀 해야지\n",
            "'점심에 스트레칭 좀 해야지'가 할 일 목록에 추가되었습니다.\n",
            "\n",
            "[1] 할 일 추가 [2] 할 일 삭제 [3] 목록 표시 [4] 종료\n",
            "선택: 3\n",
            "현재 할 일 목록:\n",
            "- 이따가 점심에 갈비먹어야지\n",
            "- 점심에 스트레칭 좀 해야지\n",
            "\n",
            "[1] 할 일 추가 [2] 할 일 삭제 [3] 목록 표시 [4] 종료\n",
            "선택: 2\n",
            "삭제할 할 일: 점심에 스트레칭 좀 해야지\n",
            "'점심에 스트레칭 좀 해야지'가 할 일 목록에서 제거되었습니다.\n",
            "\n",
            "[1] 할 일 추가 [2] 할 일 삭제 [3] 목록 표시 [4] 종료\n",
            "선택: 3\n",
            "현재 할 일 목록:\n",
            "- 이따가 점심에 갈비먹어야지\n",
            "\n",
            "[1] 할 일 추가 [2] 할 일 삭제 [3] 목록 표시 [4] 종료\n",
            "선택: 4\n",
            "프로그램을 종료합니다.\n"
          ]
        }
      ]
    },
    {
      "cell_type": "code",
      "source": [],
      "metadata": {
        "id": "fwLVqx_NRYFW"
      },
      "execution_count": null,
      "outputs": []
    }
  ]
}