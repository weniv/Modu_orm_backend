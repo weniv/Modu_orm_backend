{
  "nbformat": 4,
  "nbformat_minor": 0,
  "metadata": {
    "colab": {
      "provenance": []
    },
    "kernelspec": {
      "name": "python3",
      "display_name": "Python 3"
    },
    "language_info": {
      "name": "python"
    }
  },
  "cells": [
    {
      "cell_type": "markdown",
      "source": [
        "# 함수의 이름은 변수다"
      ],
      "metadata": {
        "id": "bJOqOSvWChwA"
      }
    },
    {
      "cell_type": "code",
      "execution_count": null,
      "metadata": {
        "id": "PdkpQdzb4gsQ"
      },
      "outputs": [],
      "source": [
        "def hello():\n",
        "    '''\n",
        "    DocString\n",
        "    주석은 여기 답니다.\n",
        "    '''\n",
        "    pass"
      ]
    },
    {
      "cell_type": "code",
      "source": [
        "print(type(hello)) # 함수도 class입니다!?"
      ],
      "metadata": {
        "colab": {
          "base_uri": "https://localhost:8080/"
        },
        "id": "K8FeF24Q5eHc",
        "outputId": "311928cd-4580-4dda-dbc0-055e12957c2a"
      },
      "execution_count": null,
      "outputs": [
        {
          "output_type": "stream",
          "name": "stdout",
          "text": [
            "<class 'function'>\n"
          ]
        }
      ]
    },
    {
      "cell_type": "code",
      "source": [
        "a = 10\n",
        "# a는 무엇이죠?\n",
        "# a는 int에 인스턴스"
      ],
      "metadata": {
        "id": "Ith8NUnF5jAW"
      },
      "execution_count": null,
      "outputs": []
    },
    {
      "cell_type": "code",
      "source": [
        "l = [a, a, a]\n",
        "l[2]"
      ],
      "metadata": {
        "colab": {
          "base_uri": "https://localhost:8080/"
        },
        "id": "OIOkzEYB6NoV",
        "outputId": "53a0f858-bcd4-41b4-eb29-4bcf7eb908eb"
      },
      "execution_count": null,
      "outputs": [
        {
          "output_type": "execute_result",
          "data": {
            "text/plain": [
              "10"
            ]
          },
          "metadata": {},
          "execution_count": 5
        }
      ]
    },
    {
      "cell_type": "code",
      "source": [
        "print('hello world') # built-in function"
      ],
      "metadata": {
        "id": "x-ErUZcP5_QE"
      },
      "execution_count": null,
      "outputs": []
    },
    {
      "cell_type": "code",
      "source": [
        "l = [print, print, print]\n",
        "l[2]('hello world')"
      ],
      "metadata": {
        "colab": {
          "base_uri": "https://localhost:8080/"
        },
        "id": "YNm64Bmx6Wg2",
        "outputId": "e8317b35-1282-48cd-cea6-58f3a106db22"
      },
      "execution_count": null,
      "outputs": [
        {
          "output_type": "stream",
          "name": "stdout",
          "text": [
            "hello world\n"
          ]
        }
      ]
    },
    {
      "cell_type": "code",
      "source": [
        "hojun = print\n",
        "hojun('hello world')"
      ],
      "metadata": {
        "colab": {
          "base_uri": "https://localhost:8080/"
        },
        "id": "upt6kTlF6ZzD",
        "outputId": "7e15b591-2ba9-4217-dc52-135b71415aa2"
      },
      "execution_count": null,
      "outputs": [
        {
          "output_type": "stream",
          "name": "stdout",
          "text": [
            "hello world\n"
          ]
        }
      ]
    },
    {
      "cell_type": "code",
      "source": [
        "id(hojun), id(print)"
      ],
      "metadata": {
        "colab": {
          "base_uri": "https://localhost:8080/"
        },
        "id": "rslTWUyz6jSk",
        "outputId": "85f51c37-37cb-478a-8700-ba83f51dd18f"
      },
      "execution_count": null,
      "outputs": [
        {
          "output_type": "execute_result",
          "data": {
            "text/plain": [
              "(132681909245232, 132681909245232)"
            ]
          },
          "metadata": {},
          "execution_count": 9
        }
      ]
    },
    {
      "cell_type": "code",
      "source": [
        "print = 10"
      ],
      "metadata": {
        "id": "Y4NBw-w665qP"
      },
      "execution_count": null,
      "outputs": []
    },
    {
      "cell_type": "code",
      "source": [
        "print"
      ],
      "metadata": {
        "colab": {
          "base_uri": "https://localhost:8080/"
        },
        "id": "89fzgi5E7A87",
        "outputId": "2d303d2c-6573-4088-e3cf-17530a0147f0"
      },
      "execution_count": null,
      "outputs": [
        {
          "output_type": "execute_result",
          "data": {
            "text/plain": [
              "10"
            ]
          },
          "metadata": {},
          "execution_count": 11
        }
      ]
    },
    {
      "cell_type": "code",
      "source": [
        "print('hello world')"
      ],
      "metadata": {
        "colab": {
          "base_uri": "https://localhost:8080/",
          "height": 181
        },
        "id": "hhZM1SuD7BcB",
        "outputId": "b2517b60-a580-4c9f-b728-9093874c26db"
      },
      "execution_count": null,
      "outputs": [
        {
          "output_type": "error",
          "ename": "TypeError",
          "evalue": "'int' object is not callable",
          "traceback": [
            "\u001b[0;31m---------------------------------------------------------------------------\u001b[0m",
            "\u001b[0;31mTypeError\u001b[0m                                 Traceback (most recent call last)",
            "\u001b[0;32m<ipython-input-12-66eb98f8e52a>\u001b[0m in \u001b[0;36m<cell line: 1>\u001b[0;34m()\u001b[0m\n\u001b[0;32m----> 1\u001b[0;31m \u001b[0mprint\u001b[0m\u001b[0;34m(\u001b[0m\u001b[0;34m'hello world'\u001b[0m\u001b[0;34m)\u001b[0m\u001b[0;34m\u001b[0m\u001b[0;34m\u001b[0m\u001b[0m\n\u001b[0m",
            "\u001b[0;31mTypeError\u001b[0m: 'int' object is not callable"
          ]
        }
      ]
    },
    {
      "cell_type": "code",
      "source": [
        "hojun('hello')"
      ],
      "metadata": {
        "colab": {
          "base_uri": "https://localhost:8080/"
        },
        "id": "ZTzVrg3l7DNt",
        "outputId": "eb94c100-e371-4c81-b227-f3cb3ecc3cc7"
      },
      "execution_count": null,
      "outputs": [
        {
          "output_type": "stream",
          "name": "stdout",
          "text": [
            "hello\n"
          ]
        }
      ]
    },
    {
      "cell_type": "code",
      "source": [
        "print = hojun"
      ],
      "metadata": {
        "id": "3mT_BazM7EvJ"
      },
      "execution_count": null,
      "outputs": []
    },
    {
      "cell_type": "code",
      "source": [
        "id(print)"
      ],
      "metadata": {
        "colab": {
          "base_uri": "https://localhost:8080/"
        },
        "id": "Rcd4igKz7TVd",
        "outputId": "23c15dc4-9f31-4012-962d-6aae2d760ea1"
      },
      "execution_count": null,
      "outputs": [
        {
          "output_type": "execute_result",
          "data": {
            "text/plain": [
              "132681909245232"
            ]
          },
          "metadata": {},
          "execution_count": 15
        }
      ]
    },
    {
      "cell_type": "code",
      "source": [
        "print('hello world')"
      ],
      "metadata": {
        "colab": {
          "base_uri": "https://localhost:8080/"
        },
        "id": "BznV4_CE7UJX",
        "outputId": "4879773a-3ef4-4011-c27e-5a590c9b11ae"
      },
      "execution_count": null,
      "outputs": [
        {
          "output_type": "stream",
          "name": "stdout",
          "text": [
            "hello world\n"
          ]
        }
      ]
    },
    {
      "cell_type": "markdown",
      "source": [
        "# lambda의 응용"
      ],
      "metadata": {
        "id": "7QGSRWTJCmQa"
      }
    },
    {
      "cell_type": "code",
      "source": [
        "add = lambda x, y : x + y\n",
        "add(3, 5)"
      ],
      "metadata": {
        "colab": {
          "base_uri": "https://localhost:8080/"
        },
        "id": "W_NynTLrKAOL",
        "outputId": "ee094fff-9050-4102-99ef-35de1e11ff0f"
      },
      "execution_count": null,
      "outputs": [
        {
          "output_type": "execute_result",
          "data": {
            "text/plain": [
              "8"
            ]
          },
          "metadata": {},
          "execution_count": 34
        }
      ]
    },
    {
      "cell_type": "code",
      "source": [
        "홀수 = lambda x : x % 2\n",
        "홀수(3)"
      ],
      "metadata": {
        "colab": {
          "base_uri": "https://localhost:8080/"
        },
        "id": "zAxDmzZaJyBh",
        "outputId": "00c21940-f41e-4968-f81a-d49da04f6498"
      },
      "execution_count": null,
      "outputs": [
        {
          "output_type": "execute_result",
          "data": {
            "text/plain": [
              "1"
            ]
          },
          "metadata": {},
          "execution_count": 35
        }
      ]
    },
    {
      "cell_type": "markdown",
      "source": [
        "## Top3 - 1. map에서 사용!"
      ],
      "metadata": {
        "id": "IBn2IhyJIRdx"
      }
    },
    {
      "cell_type": "code",
      "source": [
        "add = lambda x, y: x + y"
      ],
      "metadata": {
        "id": "Sb_8o4D47WoW"
      },
      "execution_count": null,
      "outputs": []
    },
    {
      "cell_type": "code",
      "source": [
        "# 코드가 이해가 안된다 => 이해할려고 노력하는 것 보다는\n",
        "# 예제를 30개 정도 만들어보시는 것을 권합니다.\n",
        "# Django 어려우면 30개 만들어보세요.\n",
        "# lambda 어려우면 30개 만들어보세요. 30개가 어려우면 50개\n",
        "# lambda x: x **2\n",
        "# lambda x, y: x + y ..."
      ],
      "metadata": {
        "colab": {
          "base_uri": "https://localhost:8080/"
        },
        "id": "bkoKUWJD7kBs",
        "outputId": "712a6a0d-4989-41d8-9e85-7d641cc72290"
      },
      "execution_count": null,
      "outputs": [
        {
          "output_type": "execute_result",
          "data": {
            "text/plain": [
              "True"
            ]
          },
          "metadata": {},
          "execution_count": 18
        }
      ]
    },
    {
      "cell_type": "code",
      "source": [
        "# lambda + 3항 연산자 많이 사용합니다.\n",
        "x = 10\n",
        "y = True if x % 2 == 0 else False\n",
        "\n",
        "y"
      ],
      "metadata": {
        "id": "tmNMKyr-85yo"
      },
      "execution_count": null,
      "outputs": []
    },
    {
      "cell_type": "code",
      "source": [
        "# 재사용 할 것이면 이렇게 함수로\n",
        "\n",
        "def 제곱(x):\n",
        "    return x ** 2\n",
        "\n",
        "list(map(제곱, [1, 2, 3, 4]))"
      ],
      "metadata": {
        "colab": {
          "base_uri": "https://localhost:8080/"
        },
        "id": "ZPCiOda79axj",
        "outputId": "e830c848-4fa4-451c-d109-2e783247b0b5"
      },
      "execution_count": null,
      "outputs": [
        {
          "output_type": "execute_result",
          "data": {
            "text/plain": [
              "[1, 4, 9, 16]"
            ]
          },
          "metadata": {},
          "execution_count": 19
        }
      ]
    },
    {
      "cell_type": "code",
      "source": [
        "# 재사용 하지 않을 것이면 이렇게 lambda로!\n",
        "# lambda가 실무에서 좀 더 많이 사용됩니다.\n",
        "# 수식이 복잡해지면 재사용과 별개로 lambda로 했을 경우 가독성이 떨어지는 경우도 발생합니다.\n",
        "# 이럴 때에는 함수로 빼기도 합니다.\n",
        "\n",
        "list(map(lambda x: x**2, [1, 2, 3, 4]))"
      ],
      "metadata": {
        "id": "LL7RjVXt9xwa"
      },
      "execution_count": null,
      "outputs": []
    },
    {
      "cell_type": "code",
      "source": [
        "list(map(lambda x: True if x % 2 == 0 else False, [1, 2, 3, 4])) # 마스킹, 필터링"
      ],
      "metadata": {
        "colab": {
          "base_uri": "https://localhost:8080/"
        },
        "id": "J93G3SSR-uid",
        "outputId": "c08170b5-e30f-4ae2-b61e-3d836542d33f"
      },
      "execution_count": null,
      "outputs": [
        {
          "output_type": "execute_result",
          "data": {
            "text/plain": [
              "[False, True, False, True]"
            ]
          },
          "metadata": {},
          "execution_count": 20
        }
      ]
    },
    {
      "cell_type": "code",
      "source": [
        "# 알고리즘 문제에서\n",
        "# 얼마나 효율적인지만 봐주시고, 이해는 못하셔도 괜찮습니다.\n",
        "# 복습 X\n",
        "# [True, False, False, False, True]\n",
        "# 에라토스테네스의 체(얼마나 마스킹이 유용한지 알 수 있죠.) => 소수\n",
        "[True,  True,   True    True,   True,   True,   True,   True,   True,   True]\n",
        "[0,     1,      2,      3,      4,      5,      6,      7,      8,      9]"
      ],
      "metadata": {
        "id": "Yk8b5rdX-0ci"
      },
      "execution_count": null,
      "outputs": []
    },
    {
      "cell_type": "code",
      "source": [
        "[False, False,  True    True,   True,   True,   True,   True,   True,   True]\n",
        "[0,     1,      2,      3,      4,      5,      6,      7,      8,      9]"
      ],
      "metadata": {
        "id": "oZ8eMnJ0DH31"
      },
      "execution_count": null,
      "outputs": []
    },
    {
      "cell_type": "code",
      "source": [
        "# 2가 소수가 되면 2의 배수들은 소수가 아닙니다. => 2의 배수는 모두 False로 만듭니다.\n",
        "[False, False,  True    True,   False,  True,   False,  True,   False,  True]\n",
        "[0,     1,      2,      3,      4,      5,      6,      7,      8,      9]"
      ],
      "metadata": {
        "id": "oDsBzXFfDTqx"
      },
      "execution_count": null,
      "outputs": []
    },
    {
      "cell_type": "code",
      "source": [
        "# 이해하지 않으셔도 됩니다.\n",
        "# 복습 X\n",
        "# 지금은 얼마나 마스킹한 값이 효율적인지를 말씀드리기 위한 코드일 뿐입니다.\n",
        "# 30이 소수이냐?\n",
        "\n",
        "for i in range(2, 31):\n",
        "    if 101 % i == 0:\n",
        "        print('소수아님!')\n",
        "        break\n",
        "else: # else 대신 then으로 하자라는 논의가 활발했습니다. => 그러나 else가 이겼습니다.\n",
        "    print('소수임')"
      ],
      "metadata": {
        "colab": {
          "base_uri": "https://localhost:8080/"
        },
        "id": "MiiR60IuDxgV",
        "outputId": "073815fa-e7cd-4163-e1a4-54f597106f2d"
      },
      "execution_count": null,
      "outputs": [
        {
          "output_type": "stream",
          "name": "stdout",
          "text": [
            "소수아님!\n"
          ]
        }
      ]
    },
    {
      "cell_type": "markdown",
      "source": [
        "## Top3 - 2. filter에서 사용!"
      ],
      "metadata": {
        "id": "XNzU_s3SIYB2"
      }
    },
    {
      "cell_type": "code",
      "source": [
        "# filter는 True인것만 출력합니다.\n",
        "list(filter(lambda x: x % 2 == 0, range(100)))"
      ],
      "metadata": {
        "id": "v2y7WbpfFSDS"
      },
      "execution_count": null,
      "outputs": []
    },
    {
      "cell_type": "code",
      "source": [
        "list(filter(lambda x: x % 3 == 0, range(100)))"
      ],
      "metadata": {
        "id": "JbGaXU8eGL92"
      },
      "execution_count": null,
      "outputs": []
    },
    {
      "cell_type": "code",
      "source": [
        "list(filter(lambda x: x > 50, range(100)))"
      ],
      "metadata": {
        "id": "ffXzYQxiGNa2"
      },
      "execution_count": null,
      "outputs": []
    },
    {
      "cell_type": "code",
      "source": [
        "list(filter(lambda x: x > 50 and x < 80, range(100)))"
      ],
      "metadata": {
        "id": "d98BYj3eGYTP"
      },
      "execution_count": null,
      "outputs": []
    },
    {
      "cell_type": "code",
      "source": [
        "list(filter(lambda x: True if x % 3 == 0 or x % 5 == 0 else False, range(100)))"
      ],
      "metadata": {
        "id": "v4UblBYXGeRz"
      },
      "execution_count": null,
      "outputs": []
    },
    {
      "cell_type": "code",
      "source": [
        "# list(filter(lambda x: x % 2 == 0, range(100)))\n",
        "list(filter(lambda x: x % 2, range(100))) # 홀수를!?\n",
        "\n",
        "# [0, 1, 2, 3, 4, 5, 6, 7, 8, 9]\n",
        "# x == 0일때 => lambda x: x % 2 => 0 => False로 평가!\n",
        "# x == 1일때 => lambda x: x % 2 => 1 => True로 평가!\n",
        "# x == 2일때 => lambda x: x % 2 => 0\n",
        "# x == 3일때 => lambda x: x % 2 => 1\n",
        "# x == 4일때 => lambda x: x % 2 => 0\n",
        "# x == 5일때 => lambda x: x % 2 => 1\n",
        "# x == 6일때 => lambda x: x % 2 => 0"
      ],
      "metadata": {
        "id": "dt6xQwhNGz8u"
      },
      "execution_count": null,
      "outputs": []
    },
    {
      "cell_type": "code",
      "source": [
        "test = lambda i:i % 2 == 0\n",
        "[test(i) for i in range(10)]"
      ],
      "metadata": {
        "colab": {
          "base_uri": "https://localhost:8080/"
        },
        "id": "waAIngBkKc8h",
        "outputId": "a34bff6d-292a-40a2-db59-5c799c649a1f"
      },
      "execution_count": null,
      "outputs": [
        {
          "output_type": "execute_result",
          "data": {
            "text/plain": [
              "[True, False, True, False, True, False, True, False, True, False]"
            ]
          },
          "metadata": {},
          "execution_count": 37
        }
      ]
    },
    {
      "cell_type": "markdown",
      "source": [
        "## Top3 - 3. sorted에서 사용!"
      ],
      "metadata": {
        "id": "c85xWd4aIaNm"
      }
    },
    {
      "cell_type": "code",
      "source": [
        "l = [10, 20, 5, 4, 22, 32, 5, 9, 11]\n",
        "l.sort() # sort를 자주 사용하진 않습니다. 원본을 변경시키기 때문입니다.\n",
        "l"
      ],
      "metadata": {
        "colab": {
          "base_uri": "https://localhost:8080/"
        },
        "id": "s0rn4Fw-IDiN",
        "outputId": "3ec55bf2-5650-4692-9f53-7fb2741bbea6"
      },
      "execution_count": null,
      "outputs": [
        {
          "output_type": "execute_result",
          "data": {
            "text/plain": [
              "[4, 5, 5, 9, 10, 11, 20, 22, 32]"
            ]
          },
          "metadata": {},
          "execution_count": 30
        }
      ]
    },
    {
      "cell_type": "code",
      "source": [
        "l = [10, 20, 5, 4, 22, 32, 5, 9, 11]\n",
        "sorted(l) # sorted의 return값이 정렬된 값이죠!\n",
        "l # l은 그대로입니다! 그래서 많이 사용합니다."
      ],
      "metadata": {
        "colab": {
          "base_uri": "https://localhost:8080/"
        },
        "id": "IB_fM65IIyDh",
        "outputId": "34fb0713-d97d-4022-d08a-5b85dcc0d0ec"
      },
      "execution_count": null,
      "outputs": [
        {
          "output_type": "execute_result",
          "data": {
            "text/plain": [
              "[10, 20, 5, 4, 22, 32, 5, 9, 11]"
            ]
          },
          "metadata": {},
          "execution_count": 32
        }
      ]
    },
    {
      "cell_type": "code",
      "source": [
        "sorted() # key, reverse 옵션을 정말 정말 많이 사용합니다!\n",
        "# 알고리즘 문제에서 단골 문제이고, sorted 문제는 1문제는 거의 출제된다고 보시면 됩니다.\n",
        "# 최댓값\n",
        "# 최솟값\n",
        "# https://codingdojang.com/scode/408?answer_mode=hide 이것도 최솟값!\n",
        "# https://school.programmers.co.kr/learn/courses/30/lessons/120835 이것도 정렬 문제입니다!"
      ],
      "metadata": {
        "id": "WmhPMkdBJFX3"
      },
      "execution_count": null,
      "outputs": []
    },
    {
      "cell_type": "code",
      "source": [
        "# 아래와 같은 형식으로 반별 점수가 주어진다고 하겠습니다.\n",
        "\n",
        "반별점수 = [\n",
        "    ['이름', '국어', '영어', '수학'],\n",
        "    ['이름', '국어', '영어', '수학'],\n",
        "    ['이름', '국어', '영어', '수학'],\n",
        "    ['이름', '국어', '영어', '수학'],\n",
        "]"
      ],
      "metadata": {
        "id": "gjz1paMPK_pA"
      },
      "execution_count": null,
      "outputs": []
    },
    {
      "cell_type": "code",
      "source": [
        "반별점수 = [\n",
        "    ['홍길동', 30, 55, 22],\n",
        "    ['홍춘향', 55, 60, 73],\n",
        "    ['이철수', 32, 65, 68],\n",
        "    ['이호준', 92, 11, 95],\n",
        "]"
      ],
      "metadata": {
        "id": "OBR0-XyfLYGB"
      },
      "execution_count": null,
      "outputs": []
    },
    {
      "cell_type": "code",
      "source": [
        "sorted(반별점수) # 값이나 0번째 값 기준으로 정렬합니다."
      ],
      "metadata": {
        "colab": {
          "base_uri": "https://localhost:8080/"
        },
        "id": "DRGp3NSgL-PF",
        "outputId": "fba9f7f3-38e4-4ad7-a490-9a0b286acb60"
      },
      "execution_count": null,
      "outputs": [
        {
          "output_type": "execute_result",
          "data": {
            "text/plain": [
              "[['이철수', 32, 65, 68],\n",
              " ['이호준', 92, 11, 95],\n",
              " ['홍길동', 30, 55, 22],\n",
              " ['홍춘향', 55, 60, 73]]"
            ]
          },
          "metadata": {},
          "execution_count": 40
        }
      ]
    },
    {
      "cell_type": "code",
      "source": [
        "def 함수(x): # ['이철수', 32, 65, 68]\n",
        "    return x[3] # 68\n",
        "\n",
        "sorted(반별점수, key=함수) # 가장 중요한 것은 이 key함수의 return 값대로 정렬한다는 것입니다!"
      ],
      "metadata": {
        "colab": {
          "base_uri": "https://localhost:8080/"
        },
        "id": "6IrjQxqSMG1x",
        "outputId": "f4188b49-04dc-4ab9-f947-c26ec145179b"
      },
      "execution_count": null,
      "outputs": [
        {
          "output_type": "execute_result",
          "data": {
            "text/plain": [
              "[['홍길동', 30, 55, 22],\n",
              " ['이철수', 32, 65, 68],\n",
              " ['홍춘향', 55, 60, 73],\n",
              " ['이호준', 92, 11, 95]]"
            ]
          },
          "metadata": {},
          "execution_count": 41
        }
      ]
    },
    {
      "cell_type": "code",
      "source": [
        "# [['이철수', 32, 65, 68] => 68,\n",
        "#  ['이호준', 92, 11, 95] => 95,\n",
        "#  ['홍길동', 30, 55, 22] => 22, # 맨 앞으로 보내야겠네?\n",
        "#  ['홍춘향', 55, 60, 73] => 73]"
      ],
      "metadata": {
        "id": "XdloXYCFMjmA"
      },
      "execution_count": null,
      "outputs": []
    },
    {
      "cell_type": "code",
      "source": [
        "# def 함수(x):\n",
        "#     return x[3]\n",
        "\n",
        "sorted(반별점수, key=lambda x: x[3]) # 가장 중요한 것은 이 key함수의 return 값대로 정렬한다는 것입니다!"
      ],
      "metadata": {
        "id": "xtLytAyQM8eK"
      },
      "execution_count": null,
      "outputs": []
    },
    {
      "cell_type": "code",
      "source": [
        "# def 함수(x):\n",
        "#     return x[3]\n",
        "\n",
        "sorted(반별점수, key=lambda x: x[3]) # 가장 중요한 것은 이 key함수의 return 값대로 정렬한다는 것입니다!"
      ],
      "metadata": {
        "id": "dWHb4kikNgkt"
      },
      "execution_count": null,
      "outputs": []
    },
    {
      "cell_type": "code",
      "source": [
        "# 질의응답\n",
        "\n",
        "반별점수2 = [\n",
        "    [\"짱구\", 30, 55, 22],\n",
        "    [\"맹구\", 55, 60, 73],\n",
        "    [\"철수\", 32, 65, 68],\n",
        "    [\"유리\", 92, 11, 95],\n",
        "]\n",
        "\n",
        "sorted(반별점수2) # 짱구, 맹구, 철수, 유리 => ㄱ, ㄴ, ㄷ, ㄹ, ㅁ, ㅂ 순으로 정렬합니다.\n",
        "# 만약에 한글로 정렬을 하셨을 경우 https://jjeong.tistory.com/696 유니코드표 순서대로 정렬합니다."
      ],
      "metadata": {
        "colab": {
          "base_uri": "https://localhost:8080/"
        },
        "id": "Bu-gFgOiP5o4",
        "outputId": "ac87887d-9dd0-430d-9faa-d153c13583ab"
      },
      "execution_count": null,
      "outputs": [
        {
          "output_type": "execute_result",
          "data": {
            "text/plain": [
              "[['맹구', 55, 60, 73],\n",
              " ['유리', 92, 11, 95],\n",
              " ['짱구', 30, 55, 22],\n",
              " ['철수', 32, 65, 68]]"
            ]
          },
          "metadata": {},
          "execution_count": 43
        }
      ]
    },
    {
      "cell_type": "code",
      "source": [
        "# 문제: 영어 점수대로 출력해주세요!\n",
        "# 정답:\n",
        "sorted(반별점수, key=lambda x: x[2])"
      ],
      "metadata": {
        "id": "SNcrzPY4QjOH"
      },
      "execution_count": null,
      "outputs": []
    },
    {
      "cell_type": "code",
      "source": [
        "반별점수 = [['홍길동', 30, 55, 22],\n",
        " ['이철수', 32, 65, 68],\n",
        " ['홍춘향', 55, 60, 73],\n",
        " ['이호준', 92, 11, 95]]\n",
        "\n",
        "# 문제: 국, 영, 수 평균 점수대로 출력해주세요!\n",
        "# 정답:\n",
        "sorted(반별점수, key=lambda x: x[1] + x[2] + x[3]) # 나눌 필요 없습니다.\n",
        "sorted(반별점수, key=lambda x: x[1] + x[2] + x[3], reverse=True)\n",
        "# 내림차순으로 정렬합니다!\n",
        "# 평균 점수가 높은게 앞으로 옵니다."
      ],
      "metadata": {
        "colab": {
          "base_uri": "https://localhost:8080/"
        },
        "id": "Oij7MHccQu31",
        "outputId": "9bbc9f4f-ebfa-4dad-f52b-0bc7d4d9785d"
      },
      "execution_count": null,
      "outputs": [
        {
          "output_type": "execute_result",
          "data": {
            "text/plain": [
              "[['이호준', 92, 11, 95],\n",
              " ['홍춘향', 55, 60, 73],\n",
              " ['이철수', 32, 65, 68],\n",
              " ['홍길동', 30, 55, 22]]"
            ]
          },
          "metadata": {},
          "execution_count": 45
        }
      ]
    },
    {
      "cell_type": "code",
      "source": [
        "# 문제가 살짝 어려워집니다.\n",
        "# 동점자인 경우 수학점수를 우선순위로 두겠습니다!!!?\n",
        "반별점수 = [\n",
        "    ['홍길동', 50, 50, 50],\n",
        "    ['이철수', 45, 50, 55],\n",
        "    ['홍춘향', 60, 35, 75],\n",
        "    ['이호준', 92, 11, 95]\n",
        "]\n",
        "\n",
        "sorted(반별점수, key=lambda x: x[1] + x[2] + x[3], reverse=True) # 철수가 수학 점수가 높은데 뒤에 있네요?\n",
        "# 제 의도는 수학 점수가 높으니 앞에 두겠다는 얘기입니다.\n",
        "\n",
        "# 1\n",
        "# sorted(반별점수, key=lambda x: x[1] + x[2] + x[3], reverse=True)\n",
        "# 반별점수 = [\n",
        "#     ['홍길동', 50, 50, 50] => 50,\n",
        "#     ['이철수', 45, 50, 55] => 50,\n",
        "#     ['홍춘향', 60, 35, 75] => ??,\n",
        "#     ['이호준', 92, 11, 95] => ??\n",
        "# ]\n",
        "\n",
        "# 2\n",
        "# sorted(반별점수, key=lambda x: (x[1] + x[2] + x[3], x[3]), reverse=True)\n",
        "# 반별점수 = [\n",
        "#     ['홍길동', 50, 50, 50] => (50, 50),\n",
        "#     ['이철수', 45, 50, 55] => (50, 55),\n",
        "#     ['홍춘향', 60, 35, 75] => ??,\n",
        "#     ['이호준', 92, 11, 95] => ??\n",
        "# ]\n",
        "\n",
        "sorted(반별점수, key=lambda x: (x[1] + x[2] + x[3], x[3]), reverse=True) # 철수랑 길동이 바뀌었습니다!\n",
        "\n",
        "# 질의응답\n",
        "# 만약에 평균도 같고 수학 점수도 같은 경우 이름 가나다순으로 정렬하고 싶다면 어떤 방법\n",
        "sorted(반별점수, key=lambda x: (x[1] + x[2] + x[3], x[3], x[0]), reverse=True)"
      ],
      "metadata": {
        "colab": {
          "base_uri": "https://localhost:8080/"
        },
        "id": "wZ40ABXQRjW3",
        "outputId": "976f0b26-efef-475b-d537-bcb9e7a60cf3"
      },
      "execution_count": null,
      "outputs": [
        {
          "output_type": "execute_result",
          "data": {
            "text/plain": [
              "[['이호준', 92, 11, 95],\n",
              " ['홍춘향', 60, 35, 75],\n",
              " ['이철수', 45, 50, 55],\n",
              " ['홍길동', 50, 50, 50]]"
            ]
          },
          "metadata": {},
          "execution_count": 47
        }
      ]
    },
    {
      "cell_type": "code",
      "source": [
        "우편번호 = [\n",
        "    {\n",
        "        '주소': '경기도 용인시',\n",
        "        '우편번호': 321\n",
        "    },\n",
        "    {\n",
        "        '주소': '경기도 수원시',\n",
        "        '우편번호': 355\n",
        "    },\n",
        "    {\n",
        "        '주소': '제주특별자치도 제주시',\n",
        "        '우편번호': 333\n",
        "    }\n",
        "]\n",
        "\n",
        "# sorted(우편번호) #error, 비교를 할 수 없다!?\n",
        "sorted(우편번호, key=lambda x: x['우편번호'])\n",
        "\n",
        "# 우편번호 = [\n",
        "#     {\n",
        "#         '주소': '경기도 용인시',\n",
        "#         '우편번호': 321\n",
        "#     }, => 321\n",
        "#     {\n",
        "#         '주소': '경기도 수원시',\n",
        "#         '우편번호': 355\n",
        "#     }, => 355\n",
        "#     {\n",
        "#         '주소': '제주특별자치도 제주시',\n",
        "#         '우편번호': 333\n",
        "#     } => 333\n",
        "# ]"
      ],
      "metadata": {
        "colab": {
          "base_uri": "https://localhost:8080/"
        },
        "id": "AzaTFAXzTpUs",
        "outputId": "8b77f84c-ea29-49d3-8968-55b12e36b722"
      },
      "execution_count": null,
      "outputs": [
        {
          "output_type": "execute_result",
          "data": {
            "text/plain": [
              "[{'주소': '경기도 용인시', '우편번호': 321},\n",
              " {'주소': '제주특별자치도 제주시', '우편번호': 333},\n",
              " {'주소': '경기도 수원시', '우편번호': 355}]"
            ]
          },
          "metadata": {},
          "execution_count": 49
        }
      ]
    },
    {
      "cell_type": "code",
      "source": [
        "# 다음 입사문제\n",
        "# 직선에 있는 점의 좌표입니다.\n",
        "# 점과 점 사이가 가장 짧은 점의 쌍을 출력하세요.\n",
        "\n",
        "# 입력값 : s = [1, 3, 4, 8, 13, 17, 20]\n",
        "# 출력값 : (3, 4)\n",
        "\n",
        "s = [1, 3, 4, 8, 13, 17, 20]\n",
        "s[1:]"
      ],
      "metadata": {
        "colab": {
          "base_uri": "https://localhost:8080/"
        },
        "id": "df-iW_c-UcXY",
        "outputId": "13398de3-e321-4aed-939a-cb15dc5d53a2"
      },
      "execution_count": null,
      "outputs": [
        {
          "output_type": "execute_result",
          "data": {
            "text/plain": [
              "[3, 4, 8, 13, 17, 20]"
            ]
          },
          "metadata": {},
          "execution_count": 50
        }
      ]
    },
    {
      "cell_type": "code",
      "source": [
        "x = list(zip(s, s[1:]))\n",
        "x"
      ],
      "metadata": {
        "colab": {
          "base_uri": "https://localhost:8080/"
        },
        "id": "gCehS9ovV8JT",
        "outputId": "4d74169d-8812-4934-e83a-779035a69578"
      },
      "execution_count": null,
      "outputs": [
        {
          "output_type": "execute_result",
          "data": {
            "text/plain": [
              "[(1, 3), (3, 4), (4, 8), (8, 13), (13, 17), (17, 20)]"
            ]
          },
          "metadata": {},
          "execution_count": 61
        }
      ]
    },
    {
      "cell_type": "code",
      "source": [
        "sorted(x, key=lambda x: x[1] - x[0])\n",
        "sorted(x, key=lambda x: x[1] - x[0])[0]"
      ],
      "metadata": {
        "colab": {
          "base_uri": "https://localhost:8080/"
        },
        "id": "0ZIdD7qEX3iG",
        "outputId": "815dc291-ad89-4f3e-be11-c5fd48c7184d"
      },
      "execution_count": null,
      "outputs": [
        {
          "output_type": "execute_result",
          "data": {
            "text/plain": [
              "[(3, 4), (1, 3), (17, 20), (4, 8), (13, 17), (8, 13)]"
            ]
          },
          "metadata": {},
          "execution_count": 62
        }
      ]
    },
    {
      "cell_type": "code",
      "source": [
        "# 복습 X\n",
        "# 이해를 하시진 마시고, 이해가 되시는 분들만 이해해주세요.\n",
        "# 제가 자주 사용하는 코드입니다.\n",
        "\n",
        "list(zip('hello', 'world'))"
      ],
      "metadata": {
        "colab": {
          "base_uri": "https://localhost:8080/"
        },
        "id": "JRDMGWwMWInl",
        "outputId": "2e9c6dba-ccf5-48f8-fd7a-19817694f4c5"
      },
      "execution_count": null,
      "outputs": [
        {
          "output_type": "execute_result",
          "data": {
            "text/plain": [
              "[('h', 'w'), ('e', 'o'), ('l', 'r'), ('l', 'l'), ('o', 'd')]"
            ]
          },
          "metadata": {},
          "execution_count": 53
        }
      ]
    },
    {
      "cell_type": "code",
      "source": [
        "# 복습 X\n",
        "# 이건 제가 자주사용하는 코드 X\n",
        "list(enumerate(zip('hello', 'world')))"
      ],
      "metadata": {
        "colab": {
          "base_uri": "https://localhost:8080/"
        },
        "id": "O0RCh5ZgWX7w",
        "outputId": "dbde6f1f-d8ae-4a6a-d4ac-69f69591a627"
      },
      "execution_count": null,
      "outputs": [
        {
          "output_type": "execute_result",
          "data": {
            "text/plain": [
              "[(0, ('h', 'w')),\n",
              " (1, ('e', 'o')),\n",
              " (2, ('l', 'r')),\n",
              " (3, ('l', 'l')),\n",
              " (4, ('o', 'd'))]"
            ]
          },
          "metadata": {},
          "execution_count": 54
        }
      ]
    },
    {
      "cell_type": "code",
      "source": [
        "# 복습 X\n",
        "# 제너레이터를 만듭니다. => 제너레이터는 심화과정에서 다시 하겠습니다.\n",
        "# 문법이 너무 어려워서 제 욕심이었습니다.\n",
        "# 제가 자주 사용하는 코드를 보여드리기 위함이었습니다.\n",
        "\n",
        "def gen():\n",
        "    i = 1\n",
        "    while True:\n",
        "        yield i\n",
        "        i += 1\n",
        "\n",
        "list(zip(gen(), 'hello', 'world'))"
      ],
      "metadata": {
        "colab": {
          "base_uri": "https://localhost:8080/"
        },
        "id": "fZ95F9GHWp13",
        "outputId": "d5ebfb0f-6232-4a44-8cc6-a90445906433"
      },
      "execution_count": null,
      "outputs": [
        {
          "output_type": "execute_result",
          "data": {
            "text/plain": [
              "[(1, 'h', 'w'), (3, 'e', 'o'), (5, 'l', 'r'), (7, 'l', 'l'), (9, 'o', 'd')]"
            ]
          },
          "metadata": {},
          "execution_count": 57
        }
      ]
    },
    {
      "cell_type": "markdown",
      "source": [
        "# built-in functions 중 하지 않은 것"
      ],
      "metadata": {
        "id": "C6H8jbWpY6if"
      }
    },
    {
      "cell_type": "markdown",
      "source": [
        "![image.png](data:image/png;base64,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)"
      ],
      "metadata": {
        "id": "c_gYHI2sZhwO"
      }
    },
    {
      "cell_type": "code",
      "source": [
        "chr(65) # 별표 0.1개"
      ],
      "metadata": {
        "colab": {
          "base_uri": "https://localhost:8080/",
          "height": 35
        },
        "id": "U_UZulF-W7YM",
        "outputId": "3be31bbe-aa9d-4afb-a9a6-4f68df5c4b47"
      },
      "execution_count": null,
      "outputs": [
        {
          "output_type": "execute_result",
          "data": {
            "text/plain": [
              "'A'"
            ],
            "application/vnd.google.colaboratory.intrinsic+json": {
              "type": "string"
            }
          },
          "metadata": {},
          "execution_count": 63
        }
      ]
    },
    {
      "cell_type": "code",
      "source": [
        "ord('A') # 별표 0.1개\n",
        "# 41인데 왜 65지?\n",
        "# 16진법 4 * 16^1 + 1 * 16^0 == 64 + 1 == 65"
      ],
      "metadata": {
        "colab": {
          "base_uri": "https://localhost:8080/"
        },
        "id": "LmRU5WksZPig",
        "outputId": "fead89a6-c67d-45f3-8b77-b1c7547a9b99"
      },
      "execution_count": null,
      "outputs": [
        {
          "output_type": "execute_result",
          "data": {
            "text/plain": [
              "65"
            ]
          },
          "metadata": {},
          "execution_count": 64
        }
      ]
    },
    {
      "cell_type": "code",
      "source": [
        "max([10, 20, 30])"
      ],
      "metadata": {
        "colab": {
          "base_uri": "https://localhost:8080/"
        },
        "id": "9htx_iHTZ4kT",
        "outputId": "5682b237-9cc0-4c49-8a93-bcae7507c294"
      },
      "execution_count": null,
      "outputs": [
        {
          "output_type": "execute_result",
          "data": {
            "text/plain": [
              "30"
            ]
          },
          "metadata": {},
          "execution_count": 65
        }
      ]
    },
    {
      "cell_type": "code",
      "source": [
        "min([10, 20, 30])"
      ],
      "metadata": {
        "colab": {
          "base_uri": "https://localhost:8080/"
        },
        "id": "nzsvjg3LZ-jz",
        "outputId": "679945e2-f63d-45f8-a1e0-64ffcd3e6d8d"
      },
      "execution_count": null,
      "outputs": [
        {
          "output_type": "execute_result",
          "data": {
            "text/plain": [
              "10"
            ]
          },
          "metadata": {},
          "execution_count": 66
        }
      ]
    },
    {
      "cell_type": "code",
      "source": [
        "sum([10, 20, 30])\n",
        "sum([10, 20, 30], 100)\n",
        "sum([[1, 2, 3], [4, 5, 6]], [])"
      ],
      "metadata": {
        "colab": {
          "base_uri": "https://localhost:8080/"
        },
        "id": "0Deny6WAaAU1",
        "outputId": "d9437cd1-1105-4f52-c205-936214c93ffa"
      },
      "execution_count": null,
      "outputs": [
        {
          "output_type": "execute_result",
          "data": {
            "text/plain": [
              "[1, 2, 3, 4, 5, 6]"
            ]
          },
          "metadata": {},
          "execution_count": 69
        }
      ]
    },
    {
      "cell_type": "code",
      "source": [
        "sum([[1, 2, 3], [4, 5, 6]], [])\n",
        "\n",
        "# [] + [1, 2, 3] == [1, 2, 3]\n",
        "# [1, 2, 3] + [4, 5, 6] == [1, 2, 3, 4, 5, 6]"
      ],
      "metadata": {
        "id": "4utVKzcwaCoE"
      },
      "execution_count": null,
      "outputs": []
    },
    {
      "cell_type": "code",
      "source": [
        "# 어디까지 이해하고 어디까지 암기해야할까?\n",
        "# 책 => 이런 내용이 안나옵니다. 실무에서 빈도가 많은지에 대해 나오지 않습니다.\n",
        "# 암기해야 할 것을 암기하고, 버릴 것은 버리면서 부지런히 가시면\n",
        "# 충분히 4 ~ 5개월 안에 여러분이 원하시는 수준으로 올라가실 수 있습니다."
      ],
      "metadata": {
        "id": "onpW3ln5eAtM"
      },
      "execution_count": null,
      "outputs": []
    },
    {
      "cell_type": "code",
      "source": [
        "# 다른 값이 출력될 수도 있다는 것을 기억해야 합니다.\n",
        "a = 10\n",
        "print(a) # a.__str__\n",
        "a # a.__repr__\n",
        "repr(a) # a.__repr__"
      ],
      "metadata": {
        "colab": {
          "base_uri": "https://localhost:8080/",
          "height": 53
        },
        "id": "vMwJ6D0TeecV",
        "outputId": "08eb8e40-58ff-453d-899b-0adf50bc055f"
      },
      "execution_count": null,
      "outputs": [
        {
          "output_type": "stream",
          "name": "stdout",
          "text": [
            "10\n"
          ]
        },
        {
          "output_type": "execute_result",
          "data": {
            "text/plain": [
              "'10'"
            ],
            "application/vnd.google.colaboratory.intrinsic+json": {
              "type": "string"
            }
          },
          "metadata": {},
          "execution_count": 70
        }
      ]
    },
    {
      "cell_type": "code",
      "source": [
        "# 실제 Django에서 사용하는 코드\n",
        "\n",
        "class Notice:\n",
        "    '''\n",
        "    게시물 클래스\n",
        "    '''\n",
        "    def __init__(self, title, contents):\n",
        "        self.title = title\n",
        "        self.contents = contents\n",
        "\n",
        "    def __str__(self):\n",
        "        return self.title\n",
        "\n",
        "    def __repr__(self):\n",
        "        '''\n",
        "        repr이라는 값은 제가 임의로 만든 값이 아닙니다!\n",
        "        정해져 있는 이름입니다.\n",
        "        '''\n",
        "        return f'{self.title}, {self.contents}'\n",
        "\n",
        "게시물1 = Notice('파이썬 이렇게 어려운줄 몰랐다!', '내가 알던 파이썬이 아니야....')\n",
        "게시물2 = Notice('Django는 이렇게 재미있을 줄 몰랐다!', '파이썬을 잘 못해서 내가 할 수 있을까 생각이 들었는데...')"
      ],
      "metadata": {
        "id": "wYmHNdAge6gV"
      },
      "execution_count": null,
      "outputs": []
    },
    {
      "cell_type": "code",
      "source": [
        "# 실제 Django에서 사용하는 코드\n",
        "\n",
        "class Notice:\n",
        "    '''\n",
        "    게시물 클래스\n",
        "    '''\n",
        "    def __init__(self, title, contents):\n",
        "        self.title = title\n",
        "        self.contents = contents\n",
        "\n",
        "    def __str__(self):\n",
        "        return self.title\n",
        "\n",
        "    def __repr__(self):\n",
        "        '''\n",
        "        repr이라는 값은 제가 임의로 만든 값이 아닙니다!\n",
        "        정해져 있는 이름입니다.\n",
        "        '''\n",
        "        return f'{self.title}, {self.contents}'\n",
        "\n",
        "    def __len__(self):\n",
        "        '''\n",
        "        len이라는 값은 제가 임의로 만든 값이 아닙니다!\n",
        "        정해져 있는 이름입니다.\n",
        "        '''\n",
        "        # return 100\n",
        "        return len(self.title + self.contents)\n",
        "\n",
        "게시물1 = Notice('파이썬 이렇게 어려운줄 몰랐다!', '내가 알던 파이썬이 아니야....')\n",
        "len(게시물1)"
      ],
      "metadata": {
        "colab": {
          "base_uri": "https://localhost:8080/"
        },
        "id": "QdbiLjDMju-c",
        "outputId": "0e09a595-19a1-4429-f62f-099447267fa3"
      },
      "execution_count": null,
      "outputs": [
        {
          "output_type": "execute_result",
          "data": {
            "text/plain": [
              "35"
            ]
          },
          "metadata": {},
          "execution_count": 81
        }
      ]
    },
    {
      "cell_type": "code",
      "source": [
        "# print(게시물1) # 로그로 출력할 때\n",
        "# 게시물1\n",
        "repr(게시물1) # 그 자료형을 대표하는 문자열 취급"
      ],
      "metadata": {
        "colab": {
          "base_uri": "https://localhost:8080/",
          "height": 35
        },
        "id": "LYYPFfT3gVF5",
        "outputId": "e4112bb5-603f-4e58-eeb0-09d141238664"
      },
      "execution_count": null,
      "outputs": [
        {
          "output_type": "execute_result",
          "data": {
            "text/plain": [
              "'파이썬 이렇게 어려운줄 몰랐다!, 내가 알던 파이썬이 아니야....'"
            ],
            "application/vnd.google.colaboratory.intrinsic+json": {
              "type": "string"
            }
          },
          "metadata": {},
          "execution_count": 75
        }
      ]
    },
    {
      "cell_type": "code",
      "source": [
        "# 현업에서 3.6 이상을 사용하면 참 다행입니다!!\n",
        "# 예를 들어 서비스를 만든지 조금 오래된 'Y기업' 등 다른 기업들은\n",
        "# Django를 2.x, 1.x\n",
        "# 실무에 가셨을 때 2.x 어느정도는 알고 있으셔야 합니다.\n",
        "# match같은 문법은 아직 사용하지 못합니다. 2 ~ 3년 뒤에는 사용할 수 있을겁니다."
      ],
      "metadata": {
        "id": "iBIgUdwJhSG1"
      },
      "execution_count": null,
      "outputs": []
    },
    {
      "cell_type": "code",
      "source": [
        "type(range(10)) # range라는 타입입니다."
      ],
      "metadata": {
        "colab": {
          "base_uri": "https://localhost:8080/"
        },
        "id": "LhZZYHIXgrqs",
        "outputId": "e0db84c5-8d97-46ff-a4cb-a86f8d96ba00"
      },
      "execution_count": null,
      "outputs": [
        {
          "output_type": "execute_result",
          "data": {
            "text/plain": [
              "range"
            ]
          },
          "metadata": {},
          "execution_count": 76
        }
      ]
    },
    {
      "cell_type": "code",
      "source": [
        "# 2.x\n",
        "# range(10) => [0, 1, 2, 3, 4, 5, 6, 7, 8, 9]\n",
        "# type(range(10)) => <type 'list'>\n",
        "\n",
        "# 문제: range(10000000000) => 메모리를 10000000000 갯수만큼 한 번에 생성을 해야 합니다.\n",
        "# 이것을 개선하자는 얘기가 끊임없이 나왔습니다.\n",
        "# 2.x에서 나온 것이 xrange()입니다. 이것은 특이하게 현재값과 다음값만을 가지고 있어요.\n",
        "# 메모리 공간은 2칸(실제로는 더 잡아먹습니다.)이 되서 효율적이게 바뀐것입니다.\n",
        "# 현재값, 다음값\n",
        "\n",
        "# 3.x에서 range(10000000000)\n",
        "# class range로 바뀌게 된 것입니다.\n",
        "# for i in range(1000): # 1000개의 메모리를 할당하는 것이 아닙니다.\n",
        "#    pass"
      ],
      "metadata": {
        "id": "qraTycZxg9yp"
      },
      "execution_count": null,
      "outputs": []
    },
    {
      "cell_type": "code",
      "source": [
        "list(range(1000)) # 메모리 큰 부하를 줍니다!!"
      ],
      "metadata": {
        "id": "AUUasoUci2PG"
      },
      "execution_count": null,
      "outputs": []
    },
    {
      "cell_type": "code",
      "source": [
        "sum(range(1000))"
      ],
      "metadata": {
        "colab": {
          "base_uri": "https://localhost:8080/"
        },
        "id": "-GqPtFZhjUPh",
        "outputId": "43e6771d-2794-405d-da71-c40155d79562"
      },
      "execution_count": null,
      "outputs": [
        {
          "output_type": "execute_result",
          "data": {
            "text/plain": [
              "499500"
            ]
          },
          "metadata": {},
          "execution_count": 78
        }
      ]
    },
    {
      "cell_type": "code",
      "source": [
        "sum(list(range(1000))) # 메모리가 1000개 할당 되었다가 더해야 하니 비효율적인 코드입니다."
      ],
      "metadata": {
        "colab": {
          "base_uri": "https://localhost:8080/"
        },
        "id": "1odINvYqjWE4",
        "outputId": "c3d9d8eb-3807-4741-8123-0a9fc69128c6"
      },
      "execution_count": null,
      "outputs": [
        {
          "output_type": "execute_result",
          "data": {
            "text/plain": [
              "499500"
            ]
          },
          "metadata": {},
          "execution_count": 79
        }
      ]
    },
    {
      "cell_type": "code",
      "source": [
        "values = ['A', 'B', 'C', 'D']\n",
        "print(list(enumerate(values)))\n",
        "print(list(enumerate(values, 1))) # 시작값 넣는 것 많이 사용합니다. 기억해두세요."
      ],
      "metadata": {
        "colab": {
          "base_uri": "https://localhost:8080/"
        },
        "id": "Yk6XiC3Rjg6p",
        "outputId": "fc7cedac-c14f-4e46-a485-4f08ca94fda0"
      },
      "execution_count": null,
      "outputs": [
        {
          "output_type": "stream",
          "name": "stdout",
          "text": [
            "[(0, 'A'), (1, 'B'), (2, 'C'), (3, 'D')]\n",
            "[(1, 'A'), (2, 'B'), (3, 'C'), (4, 'D')]\n"
          ]
        }
      ]
    },
    {
      "cell_type": "code",
      "source": [
        "list(reversed([1, 2, 3, 4, 5]))"
      ],
      "metadata": {
        "colab": {
          "base_uri": "https://localhost:8080/"
        },
        "id": "gGuoiLvVkp7k",
        "outputId": "c22fe0a9-5fb7-45b4-a83a-50e77066b53e"
      },
      "execution_count": null,
      "outputs": [
        {
          "output_type": "execute_result",
          "data": {
            "text/plain": [
              "[5, 4, 3, 2, 1]"
            ]
          },
          "metadata": {},
          "execution_count": 84
        }
      ]
    },
    {
      "cell_type": "code",
      "source": [
        "reversed([1, 2, 3, 4, 5])"
      ],
      "metadata": {
        "colab": {
          "base_uri": "https://localhost:8080/"
        },
        "id": "AnvhtXXqksAq",
        "outputId": "c9a55125-7fe3-4818-cfa0-b1235341e89e"
      },
      "execution_count": null,
      "outputs": [
        {
          "output_type": "execute_result",
          "data": {
            "text/plain": [
              "<list_reverseiterator at 0x78ac1e5a7790>"
            ]
          },
          "metadata": {},
          "execution_count": 85
        }
      ]
    },
    {
      "cell_type": "code",
      "source": [
        "sorted([1, 2, 3, 4, 5])\n",
        "# 왜 sorted만 자료형으로 주나요?\n",
        "# reversed나 map, filter나 이런건 모두 메모리 주소를 가리키는데!?\n",
        "# 정답: (추후에 심화 과정에서 강의합니다.) 메모리의 효율성 때문입니다.\n",
        "# sorted만 비효율을 감수하고 사용자가 보기 편한 자료형으로 반환합니다."
      ],
      "metadata": {
        "colab": {
          "base_uri": "https://localhost:8080/"
        },
        "id": "-dIUPyNvkwVl",
        "outputId": "0b432cf3-25e4-46a2-82ae-676c88faaab2"
      },
      "execution_count": null,
      "outputs": [
        {
          "output_type": "execute_result",
          "data": {
            "text/plain": [
              "[1, 2, 3, 4, 5]"
            ]
          },
          "metadata": {},
          "execution_count": 86
        }
      ]
    },
    {
      "cell_type": "code",
      "source": [
        "sorted((1, 2, 3, 4, 5))"
      ],
      "metadata": {
        "colab": {
          "base_uri": "https://localhost:8080/"
        },
        "id": "Aa6cPdjIlRx0",
        "outputId": "39871822-dfab-4ec2-a080-8c5830c55554"
      },
      "execution_count": null,
      "outputs": [
        {
          "output_type": "execute_result",
          "data": {
            "text/plain": [
              "[1, 2, 3, 4, 5]"
            ]
          },
          "metadata": {},
          "execution_count": 87
        }
      ]
    },
    {
      "cell_type": "markdown",
      "source": [
        "# match\n",
        "\n",
        "* 3.10버전에서 나온 문법이기 때문에 현업에서 거의 사용 못합니다.\n",
        "* 예를 들어 속도가 매우 빨라야 하는 프로젝트를 여러분이 하게 되었습니다. 그렇다면 python 최신 버전을 사용할텐데, 그러면 match 문법을 사용할 수는 있습니다. 다만 권고하기가 어렵습니다. match 문법이 동료들이 익숙하지 않기 때문입니다.\n",
        "* 2024년에는 중요도가 별표 0.5개 정도 되고\n",
        "* 2 ~ 3년 후에는 중요도가 3 ~ 4개 정도로 올라갈 것으로 보입니다."
      ],
      "metadata": {
        "id": "o2GHXB3vl5sm"
      }
    },
    {
      "cell_type": "code",
      "source": [
        "# 제가 반대하는 이유\n",
        "# 타 언어에 비해서 불편한 점\n",
        "요일 = 3\n",
        "match 요일:\n",
        "    case 0:\n",
        "        print('일요일')\n",
        "    case 1:\n",
        "        print('월요일')\n",
        "    case 2:\n",
        "        print('화요일')\n",
        "    case 3:\n",
        "        print('수요일')\n",
        "    case 4:\n",
        "        print('목요일')\n",
        "    case 5:\n",
        "        print('금요일')\n",
        "    case 6:\n",
        "        print('토요일')"
      ],
      "metadata": {
        "colab": {
          "base_uri": "https://localhost:8080/"
        },
        "id": "efqZW8oOlk1-",
        "outputId": "46c947c1-6dd1-463b-f848-93ce4bbd5edf"
      },
      "execution_count": null,
      "outputs": [
        {
          "output_type": "stream",
          "name": "stdout",
          "text": [
            "수요일\n"
          ]
        }
      ]
    },
    {
      "cell_type": "code",
      "source": [
        "# 요일 = 4\n",
        "# match 요일:\n",
        "#     case 0:\n",
        "#         print('일요일')\n",
        "#     case 1:\n",
        "#         print('월요일')\n",
        "#     case 2:\n",
        "#         print('화요일')\n",
        "#     case 3: # 다른 언어에서는 이 문법이 가용합니다.\n",
        "#     case 4:\n",
        "#         print('목요일')\n",
        "#     case 5:\n",
        "#         print('금요일')\n",
        "#     case 6:\n",
        "#         print('토요일')"
      ],
      "metadata": {
        "id": "z-jjrStcn_HC"
      },
      "execution_count": null,
      "outputs": []
    },
    {
      "cell_type": "code",
      "source": [
        "요일 = 100\n",
        "match 요일:\n",
        "    case 0:\n",
        "        print('일요일')\n",
        "    case 1:\n",
        "        print('월요일')\n",
        "    case 2:\n",
        "        print('화요일')\n",
        "    case 3:\n",
        "        print('수요일')\n",
        "    case 4:\n",
        "        print('목요일')\n",
        "    case 5:\n",
        "        print('금요일')\n",
        "    case 6:\n",
        "        print('토요일')\n",
        "    case _:\n",
        "        print('요일없음!')"
      ],
      "metadata": {
        "colab": {
          "base_uri": "https://localhost:8080/"
        },
        "id": "6qJzeVdioL1o",
        "outputId": "25ee021f-6bd4-485b-8a8f-f32570d501b2"
      },
      "execution_count": null,
      "outputs": [
        {
          "output_type": "stream",
          "name": "stdout",
          "text": [
            "요일없음!\n"
          ]
        }
      ]
    },
    {
      "cell_type": "code",
      "source": [
        "text = '1'\n",
        "match text:\n",
        "    case '1' | '2':\n",
        "        print('1, 2')\n",
        "    case _:\n",
        "        print('No Match')"
      ],
      "metadata": {
        "colab": {
          "base_uri": "https://localhost:8080/"
        },
        "id": "Cso-uesCohz_",
        "outputId": "784d8e16-2563-449f-ee38-d24e5c3179e7"
      },
      "execution_count": null,
      "outputs": [
        {
          "output_type": "stream",
          "name": "stdout",
          "text": [
            "1, 2\n"
          ]
        }
      ]
    },
    {
      "cell_type": "code",
      "source": [
        "# 여러분들은 오히려 이런 코드보다 아래 코드를 더 많이 만나게 되실겁니다.\n",
        "def 요일반환(요일):\n",
        "    return {\n",
        "        0: '일요일',\n",
        "        1: '월요일',\n",
        "        2: '화요일',\n",
        "        3: '수요일',\n",
        "    }.get(요일, '요일없음')\n",
        "\n",
        "요일반환(2)\n",
        "요일반환(100)"
      ],
      "metadata": {
        "colab": {
          "base_uri": "https://localhost:8080/",
          "height": 35
        },
        "id": "ArGabQVHojE9",
        "outputId": "b2b9ceb3-2281-4bd8-8dc7-a98c6b731bb3"
      },
      "execution_count": null,
      "outputs": [
        {
          "output_type": "execute_result",
          "data": {
            "text/plain": [
              "'요일없음'"
            ],
            "application/vnd.google.colaboratory.intrinsic+json": {
              "type": "string"
            }
          },
          "metadata": {},
          "execution_count": 93
        }
      ]
    },
    {
      "cell_type": "markdown",
      "source": [
        "# class\n",
        "\n",
        "* class 이론을 여러권 + ChatGPT + 유튜브를 보시는 것 보다는\n",
        "* 여러개를 만들어보세요. ChatGPT에게 여러개의 클래스를 추천받고, ChatGPT에게 짜달라고 해서 그것을 타이핑 해보시는 것도 많은 도움이 될겁니다.\n",
        "* 결론: 많은 것을 만들어 보셔야 합니다."
      ],
      "metadata": {
        "id": "0MlgkUTO8FMe"
      }
    },
    {
      "cell_type": "markdown",
      "source": [
        "* class 클래스이름 => 인스턴스\n",
        "* class Post => 게시물1, 게시물2, 게시물3...\n",
        "* class Dot => 점1, 점2, 점3...\n",
        "* class Character => Licat(주인공), Lion(빌런), Mob1(몬스터)\n",
        "* class Matrix => 행렬1, 행렬2, 행렬3...\n",
        "* class User => 유저1, 유저2, 유저3...\n",
        "* class Cart(장바구니) => Cart1, Cart2, Cart3...\n",
        "* class Commnet(댓글) => 댓글1, 댓글2, 댓글3...\n",
        "* class Product => 상품1, 상품2, 상품3...\n",
        "* class Class_ => 강의1, 강의2, 강의3...\n",
        "* class Teacher => 강사1, 강사2, 강사3...\n"
      ],
      "metadata": {
        "id": "rmhYwO568kwZ"
      }
    },
    {
      "cell_type": "code",
      "source": [
        "# 0번: 기초 상식\n",
        "# 0.0 __init__ 매직메서드는 없어도 되나요?\n",
        "# 실제로 이런 코드를 짜실 일이 생깁니다.\n",
        "class 우편번호:\n",
        "    제주도 = 100\n",
        "    경기도 = 101\n",
        "    전라북도 = 102\n",
        "    전라남도 = 103\n",
        "\n",
        "우편번호.제주도\n",
        "# 왜 이걸 딕셔너리로 만들지 않고 class로 만들었나요?\n",
        "# 재사용성 + 확장성\n",
        "\n",
        "# 0.1 클래스 꼭 사용해야 하나요?\n",
        "# 일부 자료형에서는 클래스는 꼭 사용해야 합니다.\n",
        "\n",
        "# 아래와 같이 저장한다고 해서 문제가 생기는가?\n",
        "# 데이터의 양(속도), 확장성, 다양성, 자료의 형태\n",
        "# 기본 클래스(list, tuple, dict(속도 개선이 많이 되었음에도), set)는 매우 느립니다.\n",
        "\n",
        "# 제목: python 기초\n",
        "# 저자: 이호준\n",
        "\n",
        "{'제목': 'python 기초', '저자': '이호준'}\n",
        "\n",
        "# 제목: html 기초\n",
        "# 저자: 한재현\n",
        "\n",
        "{'제목': 'html 기초', '저자': '한재현'}\n",
        "\n",
        "[{'제목': 'python 기초', '저자': '이호준'}, {'제목': 'html 기초', '저자': '한재현'}]"
      ],
      "metadata": {
        "colab": {
          "base_uri": "https://localhost:8080/"
        },
        "id": "2mAKkpA66Goj",
        "outputId": "564377a1-2284-4f4c-c4bf-a23960a57d62"
      },
      "execution_count": null,
      "outputs": [
        {
          "output_type": "execute_result",
          "data": {
            "text/plain": [
              "100"
            ]
          },
          "metadata": {},
          "execution_count": 95
        }
      ]
    },
    {
      "cell_type": "code",
      "source": [
        "# 안배웠으니 넣지 않겠습니다.\n",
        "from datetime import datetime\n",
        "\n",
        "datetime.now()"
      ],
      "metadata": {
        "colab": {
          "base_uri": "https://localhost:8080/"
        },
        "id": "RrryrD9GDQ4H",
        "outputId": "317e9e43-afed-4c99-f1e0-4445c533b3a6"
      },
      "execution_count": null,
      "outputs": [
        {
          "output_type": "execute_result",
          "data": {
            "text/plain": [
              "datetime.datetime(2024, 1, 11, 5, 44, 52, 442435)"
            ]
          },
          "metadata": {},
          "execution_count": 97
        }
      ]
    },
    {
      "cell_type": "markdown",
      "source": [
        "## Post"
      ],
      "metadata": {
        "id": "i84U60r-NcLi"
      }
    },
    {
      "cell_type": "code",
      "source": [
        "# 1번\n",
        "# 클래스를 설계하실 때\n",
        "# 첫 번째로 - 모든 인스턴스에서 공유해야할 변수(클래스 변수)나 메서드 설정\n",
        "# 두 번째로 - 인스턴스 고유의 영역\n",
        "# in_crerate_at(스네이크 표기법) - 파이썬 권고사항\n",
        "# inCreatedAt(카멜 표기법) - 파이썬에서는 잘 사용하지 않습니다.(JavaScript에서는 많이 사용합니다.)\n",
        "# InCreatedAt(파스칼 표기법) - 파이썬 클래스\n",
        "\n",
        "class Post:\n",
        "    def __init__(\n",
        "            self,\n",
        "            in_title='',\n",
        "            in_contents='',\n",
        "            in_count=0,\n",
        "            in_crerate_at='',\n",
        "            in_updated_at='',\n",
        "            in_author=''\n",
        "        ):\n",
        "        self.title = in_title\n",
        "        self.contents = in_contents\n",
        "        self.count = in_count\n",
        "        self.created_at = in_crerate_at\n",
        "        self.updated_at = in_updated_at\n",
        "        self.author = in_author\n",
        "\n",
        "    def __str__(self):\n",
        "        return self.title\n",
        "\n",
        "    def __repr__(self):\n",
        "        return self.title\n",
        "\n",
        "    def __add__(self, next):\n",
        "        # return self.count + next.count\n",
        "        return self.title + next.title\n",
        "\n",
        "    def __eq__(self, next):\n",
        "        return self.title == next.title\n",
        "\n",
        "    def update(self, in_contents):\n",
        "        '''\n",
        "        in_ 실무에서 사용하는 접두사가 아닙니다!\n",
        "        여러분에 이해를 돕기 위한 변수명입니다.\n",
        "        '''\n",
        "        self.contents = in_contents\n",
        "        return '게시물 수정에 성공했습니다! 200'\n",
        "\n",
        "게시물1 = Post(\n",
        "    '파이썬은 참 깊군요!',\n",
        "    '오늘은 파이썬 클래스를 배웠는데 너무 어렵기도 하고, 신기했습니다.',\n",
        "    0,\n",
        "    '2024-01-11',\n",
        "    '2024-01-11',\n",
        "    '이호준'\n",
        ")\n",
        "\n",
        "게시물2 = Post('2', '22', 0, '2024-01-11', '2024-01-11', '이호준')\n",
        "\n",
        "print(게시물1)\n",
        "print(게시물1.title)\n",
        "print(게시물1 + 게시물2) # +연산이 나오면 앞(게시물 1)의 __add__가 실행됩니다.\n",
        "게시물1.update('hello world')\n",
        "게시물1.contents\n",
        "\n",
        "# 이해하지 않으셔도 됩니다.\n",
        "게시물1 == 게시물2 # 이 코드는 이제 title만 비교하는 코드가 되었습니다!"
      ],
      "metadata": {
        "colab": {
          "base_uri": "https://localhost:8080/"
        },
        "id": "KI_olON_ApIT",
        "outputId": "b9e2ce91-2703-419e-98e9-a43a309b8a57"
      },
      "execution_count": null,
      "outputs": [
        {
          "output_type": "stream",
          "name": "stdout",
          "text": [
            "파이썬은 참 깊군요!\n",
            "파이썬은 참 깊군요!\n",
            "파이썬은 참 깊군요!2\n"
          ]
        },
        {
          "output_type": "execute_result",
          "data": {
            "text/plain": [
              "False"
            ]
          },
          "metadata": {},
          "execution_count": 111
        }
      ]
    },
    {
      "cell_type": "code",
      "source": [
        "[1, 2, 3] == [1, 2, 3]"
      ],
      "metadata": {
        "colab": {
          "base_uri": "https://localhost:8080/"
        },
        "id": "TIDl8AhdMeO4",
        "outputId": "b79e10ec-db6b-4609-8eaa-f5ade8b5ab56"
      },
      "execution_count": null,
      "outputs": [
        {
          "output_type": "execute_result",
          "data": {
            "text/plain": [
              "True"
            ]
          },
          "metadata": {},
          "execution_count": 112
        }
      ]
    },
    {
      "cell_type": "code",
      "source": [
        "[1, 2, 3] is [1, 2, 3]"
      ],
      "metadata": {
        "colab": {
          "base_uri": "https://localhost:8080/"
        },
        "id": "j6INOWgbMlWe",
        "outputId": "9982a3d1-f687-429f-85ac-47fc0a6c8f4a"
      },
      "execution_count": null,
      "outputs": [
        {
          "output_type": "execute_result",
          "data": {
            "text/plain": [
              "False"
            ]
          },
          "metadata": {},
          "execution_count": 113
        }
      ]
    },
    {
      "cell_type": "code",
      "source": [
        "l = [10, 20, 30]\n",
        "len(dir(l))"
      ],
      "metadata": {
        "colab": {
          "base_uri": "https://localhost:8080/"
        },
        "id": "LObQN0HjLNtN",
        "outputId": "764a80e9-c38d-4633-f16c-06165bea9f62"
      },
      "execution_count": null,
      "outputs": [
        {
          "output_type": "execute_result",
          "data": {
            "text/plain": [
              "47"
            ]
          },
          "metadata": {},
          "execution_count": 107
        }
      ]
    },
    {
      "cell_type": "code",
      "source": [
        "len(dir(게시물2))"
      ],
      "metadata": {
        "colab": {
          "base_uri": "https://localhost:8080/"
        },
        "id": "JsHeWGCXLYgS",
        "outputId": "473129ae-163f-4a56-af27-341073a06c05"
      },
      "execution_count": null,
      "outputs": [
        {
          "output_type": "execute_result",
          "data": {
            "text/plain": [
              "36"
            ]
          },
          "metadata": {},
          "execution_count": 109
        }
      ]
    },
    {
      "cell_type": "markdown",
      "source": [
        "## Dot"
      ],
      "metadata": {
        "id": "Z3ehWSdJNgc7"
      }
    },
    {
      "cell_type": "code",
      "source": [
        "class Dot:\n",
        "    def __init__(self, x, y):\n",
        "        self.x = x\n",
        "        self.y = y\n",
        "\n",
        "    def __add__(self, next):\n",
        "        return (self.x + next.x, self.y + next.y)\n",
        "\n",
        "    def __mul__(self, next):\n",
        "        return (self.x * next.x, self.y * next.y)\n",
        "\n",
        "    def distance(self, next):\n",
        "        dx = self.x - next.x\n",
        "        dy = self.y - next.y\n",
        "        return (dx**2 + dy**2) ** 0.5 # root은 ** 0.5로 많이 사용합니다.\n",
        "\n",
        "dot1 = Dot(20, 10)\n",
        "dot2 = Dot(30, 5)\n",
        "\n",
        "dot1 + dot2\n",
        "dot1 * dot2\n",
        "dot1.distance(dot2)"
      ],
      "metadata": {
        "colab": {
          "base_uri": "https://localhost:8080/"
        },
        "id": "fFlMErCKLeHy",
        "outputId": "50b4268d-30c5-49c7-8e35-ed0142e84638"
      },
      "execution_count": null,
      "outputs": [
        {
          "output_type": "execute_result",
          "data": {
            "text/plain": [
              "11.180339887498949"
            ]
          },
          "metadata": {},
          "execution_count": 117
        }
      ]
    },
    {
      "cell_type": "markdown",
      "source": [
        "## Character"
      ],
      "metadata": {
        "id": "Crw5cIj6QEp_"
      }
    },
    {
      "cell_type": "code",
      "source": [
        "class Character:\n",
        "    def __init__(self, name, skill, hp, mp, power, x):\n",
        "        self.name = name\n",
        "        self.skill = skill\n",
        "        self.hp = hp\n",
        "        self.mp = mp\n",
        "        self.power = power\n",
        "        self.x = x\n",
        "\n",
        "    def move(self):\n",
        "        self.x += 100\n",
        "\n",
        "    def attact(self, next):\n",
        "        next.hp -= self.power\n",
        "\n",
        "\n",
        "주인공1 = Character('licat', '질풍검', 100, 100, 10, 10)\n",
        "몹1 = Character('licat', '질풍검', 100, 100, 10, 10)\n",
        "\n",
        "주인공1.attact(몹1)\n",
        "몹1.hp"
      ],
      "metadata": {
        "colab": {
          "base_uri": "https://localhost:8080/"
        },
        "id": "_WAU72DWQFLq",
        "outputId": "965b516f-8af2-43e0-a585-d449cc50a015"
      },
      "execution_count": null,
      "outputs": [
        {
          "output_type": "execute_result",
          "data": {
            "text/plain": [
              "90"
            ]
          },
          "metadata": {},
          "execution_count": 118
        }
      ]
    }
  ]
}