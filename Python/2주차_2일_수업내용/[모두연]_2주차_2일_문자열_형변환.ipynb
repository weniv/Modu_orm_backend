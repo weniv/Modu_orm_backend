{
  "nbformat": 4,
  "nbformat_minor": 0,
  "metadata": {
    "colab": {
      "provenance": []
    },
    "kernelspec": {
      "name": "python3",
      "display_name": "Python 3"
    },
    "language_info": {
      "name": "python"
    }
  },
  "cells": [
    {
      "cell_type": "markdown",
      "source": [
        "#1. 문자열"
      ],
      "metadata": {
        "id": "9sJkTDOyyJQC"
      }
    },
    {
      "cell_type": "code",
      "execution_count": 9,
      "metadata": {
        "id": "VFhVdZKByErR"
      },
      "outputs": [],
      "source": [
        "#1.1 문자열 기초\n",
        "\n",
        "x = '안녕하세요. 저는 위니브의 대표 이호준입니다. 파이썬 참 좋아요. 여러분 정말 잘 선택하셨어요'\n",
        "y = \"python\""
      ]
    },
    {
      "cell_type": "code",
      "source": [
        "print(x, y)"
      ],
      "metadata": {
        "colab": {
          "base_uri": "https://localhost:8080/"
        },
        "id": "fef1nlmiyOLA",
        "outputId": "55edf51f-3418-44d1-d3e9-d7196a814e37"
      },
      "execution_count": 10,
      "outputs": [
        {
          "output_type": "stream",
          "name": "stdout",
          "text": [
            "안녕하세요. 저는 위니브의 대표 이호준입니다. 파이썬 참 좋아요. 여러분 정말 잘 선택하셨어요 python\n"
          ]
        }
      ]
    },
    {
      "cell_type": "code",
      "source": [
        "print(type(x),type(y))"
      ],
      "metadata": {
        "colab": {
          "base_uri": "https://localhost:8080/"
        },
        "id": "f2nnh8dYyPNG",
        "outputId": "4a646f9a-db92-4d1f-f75e-73d36a49dae2"
      },
      "execution_count": 4,
      "outputs": [
        {
          "output_type": "stream",
          "name": "stdout",
          "text": [
            "<class 'str'> <class 'str'>\n"
          ]
        }
      ]
    },
    {
      "cell_type": "code",
      "source": [
        "i = '''안녕하세요.\n",
        "저는 위니브의 대표 이호준입니다.\n",
        "파이썬 참 좋아요.\n",
        "여러분 정말 잘 선택하셨어요.\n",
        "'''\n",
        "j = \"\"\"안녕하세요.\n",
        "저는 위니브의 대표 이호준입니다.\n",
        "파이썬 참 좋아요.\n",
        "여러분 정말 잘 선택하셨어요.\n",
        "\"\"\"\n"
      ],
      "metadata": {
        "id": "NFIQWufEyWXH"
      },
      "execution_count": 5,
      "outputs": []
    },
    {
      "cell_type": "code",
      "source": [
        "i"
      ],
      "metadata": {
        "colab": {
          "base_uri": "https://localhost:8080/",
          "height": 36
        },
        "id": "PbcSS4KIymEW",
        "outputId": "647f1b02-20eb-401f-b638-9a361dc07c21"
      },
      "execution_count": 8,
      "outputs": [
        {
          "output_type": "execute_result",
          "data": {
            "text/plain": [
              "'안녕하세요.\\n저는 위니브의 대표 이호준입니다.\\n파이썬 참 좋아요.\\n여러분 정말 잘 선택하셨어요.\\n'"
            ],
            "application/vnd.google.colaboratory.intrinsic+json": {
              "type": "string"
            }
          },
          "metadata": {},
          "execution_count": 8
        }
      ]
    },
    {
      "cell_type": "code",
      "source": [
        "print(i)"
      ],
      "metadata": {
        "colab": {
          "base_uri": "https://localhost:8080/"
        },
        "id": "VLhSDzU2yeMt",
        "outputId": "e6e71a6f-38ee-4f5f-b4b5-7ae59ef00356"
      },
      "execution_count": 6,
      "outputs": [
        {
          "output_type": "stream",
          "name": "stdout",
          "text": [
            "안녕하세요.\n",
            "저는 위니브의 대표 이호준입니다.\n",
            "파이썬 참 좋아요.\n",
            "여러분 정말 잘 선택하셨어요.\n",
            "\n"
          ]
        }
      ]
    },
    {
      "cell_type": "code",
      "source": [
        "print(j)"
      ],
      "metadata": {
        "colab": {
          "base_uri": "https://localhost:8080/"
        },
        "id": "juTMoNKxye-d",
        "outputId": "fba36f35-612d-437a-fa8a-10e10d21b41e"
      },
      "execution_count": 7,
      "outputs": [
        {
          "output_type": "stream",
          "name": "stdout",
          "text": [
            "안녕하세요.\n",
            "저는 위니브의 대표 이호준입니다.\n",
            "파이썬 참 좋아요.\n",
            "여러분 정말 잘 선택하셨어요.\n",
            "\n"
          ]
        }
      ]
    },
    {
      "cell_type": "code",
      "source": [
        "# 1.2 문자열 덧셈, 곱셈\n",
        "\n",
        "# 문자열의 덧셈\n",
        "\n",
        "x = 'hello'\n",
        "y = 'world'\n",
        "print(x + y) # 출력 : helloworld\n",
        "\n",
        "x = '10'\n",
        "y = '20'\n",
        "print(x + y)\n",
        "\n",
        "# 문자열의 곱셈\n",
        "\n",
        "print(x * 100)"
      ],
      "metadata": {
        "colab": {
          "base_uri": "https://localhost:8080/"
        },
        "id": "iOE2ivddyfof",
        "outputId": "873106b0-322c-46cc-f708-8ac3846f589d"
      },
      "execution_count": 14,
      "outputs": [
        {
          "output_type": "stream",
          "name": "stdout",
          "text": [
            "helloworld\n",
            "1020\n",
            "10101010101010101010101010101010101010101010101010101010101010101010101010101010101010101010101010101010101010101010101010101010101010101010101010101010101010101010101010101010101010101010101010101010\n"
          ]
        }
      ]
    },
    {
      "cell_type": "code",
      "source": [
        "# 1.3 문자열 인덱싱\n",
        "    #012 3 456\n",
        "s = '위니브 월드!'\n",
        "print(s[0]) # 출력 : '위'\n",
        "print(s[6]) # 출력 : '!'\n",
        "print(s[-1]) # 출력 : '!'"
      ],
      "metadata": {
        "colab": {
          "base_uri": "https://localhost:8080/"
        },
        "id": "9x7TMGq42IVK",
        "outputId": "f36fe0e9-edb7-4713-fa23-7f5b361c8ebb"
      },
      "execution_count": 16,
      "outputs": [
        {
          "output_type": "stream",
          "name": "stdout",
          "text": [
            "위\n",
            "!\n",
            "!\n"
          ]
        }
      ]
    },
    {
      "cell_type": "code",
      "source": [
        "print(s[7])"
      ],
      "metadata": {
        "colab": {
          "base_uri": "https://localhost:8080/",
          "height": 181
        },
        "id": "sZpVZEJt2znM",
        "outputId": "4a9225d9-5150-4882-89be-7854763f9395"
      },
      "execution_count": 17,
      "outputs": [
        {
          "output_type": "error",
          "ename": "IndexError",
          "evalue": "ignored",
          "traceback": [
            "\u001b[0;31m---------------------------------------------------------------------------\u001b[0m",
            "\u001b[0;31mIndexError\u001b[0m                                Traceback (most recent call last)",
            "\u001b[0;32m<ipython-input-17-96ad6516f411>\u001b[0m in \u001b[0;36m<cell line: 1>\u001b[0;34m()\u001b[0m\n\u001b[0;32m----> 1\u001b[0;31m \u001b[0mprint\u001b[0m\u001b[0;34m(\u001b[0m\u001b[0ms\u001b[0m\u001b[0;34m[\u001b[0m\u001b[0;36m7\u001b[0m\u001b[0;34m]\u001b[0m\u001b[0;34m)\u001b[0m \u001b[0;31m# 출력 : '!'\u001b[0m\u001b[0;34m\u001b[0m\u001b[0;34m\u001b[0m\u001b[0m\n\u001b[0m",
            "\u001b[0;31mIndexError\u001b[0m: string index out of range"
          ]
        }
      ]
    },
    {
      "cell_type": "code",
      "source": [
        "# 1.4 문자열 슬라이싱\n",
        "\n",
        "s = '위니브 월드 외곽'\n",
        "\n",
        "print(s[0:9:2])"
      ],
      "metadata": {
        "colab": {
          "base_uri": "https://localhost:8080/"
        },
        "id": "kfYBdPmF3HeI",
        "outputId": "392ab074-9f31-44da-d989-b4094ef3df6e"
      },
      "execution_count": 25,
      "outputs": [
        {
          "output_type": "stream",
          "name": "stdout",
          "text": [
            "위브월 곽\n"
          ]
        }
      ]
    },
    {
      "cell_type": "code",
      "source": [
        "s = 'weniv CEO licat'\n",
        "# 시작점을 설정하고 끝까지 출력\n",
        "print(s[6:]) # 출력 : CEO licat\n",
        "# 전체 출력\n",
        "print(s[:]) # 출력 : weniv CEO licat\n",
        "# 거꾸로 출력\n",
        "print(s[::-1]) # 출력 : tacil OEC vinew\n",
        "# 2칸씩 출력\n",
        "print(s[::2]) # 출력 : wnvCOlct"
      ],
      "metadata": {
        "colab": {
          "base_uri": "https://localhost:8080/"
        },
        "id": "6Mq5qV7A4ic4",
        "outputId": "e6b7ddf7-5aa0-4b3f-cadb-fa1fe1b55419"
      },
      "execution_count": 26,
      "outputs": [
        {
          "output_type": "stream",
          "name": "stdout",
          "text": [
            "CEO licat\n",
            "weniv CEO licat\n",
            "tacil OEC vinew\n",
            "wnvCOlct\n"
          ]
        }
      ]
    },
    {
      "cell_type": "code",
      "source": [
        "print(s[::-1])"
      ],
      "metadata": {
        "colab": {
          "base_uri": "https://localhost:8080/"
        },
        "id": "WEfXGDyp5GFc",
        "outputId": "0280e133-5df3-488e-b32d-7f5042cbb367"
      },
      "execution_count": 30,
      "outputs": [
        {
          "output_type": "stream",
          "name": "stdout",
          "text": [
            "tacil OEC vinew\n"
          ]
        }
      ]
    },
    {
      "cell_type": "code",
      "source": [
        "s = 'weniv CEO licat'\n",
        "s[10:100] # 출력 : licat"
      ],
      "metadata": {
        "colab": {
          "base_uri": "https://localhost:8080/",
          "height": 36
        },
        "id": "WBtmDG5O5KdE",
        "outputId": "0191b638-adfe-493a-de0b-e28af6353715"
      },
      "execution_count": 31,
      "outputs": [
        {
          "output_type": "execute_result",
          "data": {
            "text/plain": [
              "'licat'"
            ],
            "application/vnd.google.colaboratory.intrinsic+json": {
              "type": "string"
            }
          },
          "metadata": {},
          "execution_count": 31
        }
      ]
    },
    {
      "cell_type": "markdown",
      "source": [
        "`s[10:100]`"
      ],
      "metadata": {
        "id": "HSbnufHG66rZ"
      }
    },
    {
      "cell_type": "code",
      "source": [
        "`코드를 첨부해서 붙여주세요`\n"
      ],
      "metadata": {
        "id": "eu3c33Ra6fwK"
      },
      "execution_count": null,
      "outputs": []
    },
    {
      "cell_type": "code",
      "source": [
        "# 1.4 슬라이스 실습\n",
        "s = 'weniv_licat.png'\n",
        "# 1. 출력 weniv_licat 만 나오게\n",
        "# 2. 출력 png만 나오게\n",
        "\n",
        "s[-3:]"
      ],
      "metadata": {
        "colab": {
          "base_uri": "https://localhost:8080/",
          "height": 36
        },
        "id": "BIVUXeBc6F-R",
        "outputId": "4301618d-6492-45f3-f037-8c89c54300d7"
      },
      "execution_count": 37,
      "outputs": [
        {
          "output_type": "execute_result",
          "data": {
            "text/plain": [
              "'png'"
            ],
            "application/vnd.google.colaboratory.intrinsic+json": {
              "type": "string"
            }
          },
          "metadata": {},
          "execution_count": 37
        }
      ]
    },
    {
      "cell_type": "code",
      "source": [
        "# 1.5 슬라이스 복사 - 다만 ID가 달라짐\n",
        "s = [1, 2, 3]\n",
        "ss = s[:]\n",
        "\n",
        "print(s, ss)\n",
        "print(id(s), id(ss))"
      ],
      "metadata": {
        "colab": {
          "base_uri": "https://localhost:8080/"
        },
        "id": "q5drns9z7oua",
        "outputId": "74c124ca-3029-4f7f-ab08-38295aa7d6c4"
      },
      "execution_count": 39,
      "outputs": [
        {
          "output_type": "stream",
          "name": "stdout",
          "text": [
            "[1, 2, 3] [1, 2, 3]\n",
            "139713783987392 139713783979776\n"
          ]
        }
      ]
    },
    {
      "cell_type": "code",
      "source": [
        "# 1.6 메서드 1: 대문자 소문자\n",
        "\n",
        "s = 'weniv CEO licat'\n",
        "s.lower() #전체를 소문자로 바꿔주는 method"
      ],
      "metadata": {
        "colab": {
          "base_uri": "https://localhost:8080/",
          "height": 36
        },
        "id": "RzzXLwdG8L__",
        "outputId": "87002e23-4802-4efc-b2f9-97da2aaefe53"
      },
      "execution_count": 41,
      "outputs": [
        {
          "output_type": "execute_result",
          "data": {
            "text/plain": [
              "'weniv ceo licat'"
            ],
            "application/vnd.google.colaboratory.intrinsic+json": {
              "type": "string"
            }
          },
          "metadata": {},
          "execution_count": 41
        }
      ]
    },
    {
      "cell_type": "code",
      "source": [
        "s.upper() #전체를 대문자로 바꿔주는 method"
      ],
      "metadata": {
        "colab": {
          "base_uri": "https://localhost:8080/",
          "height": 36
        },
        "id": "p0UASF2z8sWB",
        "outputId": "6fb66217-6da6-4d47-d72c-030a9caef903"
      },
      "execution_count": 42,
      "outputs": [
        {
          "output_type": "execute_result",
          "data": {
            "text/plain": [
              "'WENIV CEO LICAT'"
            ],
            "application/vnd.google.colaboratory.intrinsic+json": {
              "type": "string"
            }
          },
          "metadata": {},
          "execution_count": 42
        }
      ]
    },
    {
      "cell_type": "code",
      "source": [
        "# 1.7 메서드 2: find index\n",
        "\n",
        "s = 'weniv CEO licat'\n",
        "s.find('CEO') #문자열을 찾아주는 method"
      ],
      "metadata": {
        "colab": {
          "base_uri": "https://localhost:8080/"
        },
        "id": "og4sfjwn8u14",
        "outputId": "aa0414a3-02c7-4218-e99d-0d1a3007fe90"
      },
      "execution_count": 43,
      "outputs": [
        {
          "output_type": "execute_result",
          "data": {
            "text/plain": [
              "6"
            ]
          },
          "metadata": {},
          "execution_count": 43
        }
      ]
    },
    {
      "cell_type": "code",
      "source": [
        "s.index('CEO')"
      ],
      "metadata": {
        "colab": {
          "base_uri": "https://localhost:8080/"
        },
        "id": "vXFsZErA9Gg-",
        "outputId": "947538da-ba84-4c43-bc66-e914811a8b5c"
      },
      "execution_count": 44,
      "outputs": [
        {
          "output_type": "execute_result",
          "data": {
            "text/plain": [
              "6"
            ]
          },
          "metadata": {},
          "execution_count": 44
        }
      ]
    },
    {
      "cell_type": "code",
      "source": [
        "s.find('CTO') #문자열을 찾아주는 method"
      ],
      "metadata": {
        "colab": {
          "base_uri": "https://localhost:8080/"
        },
        "id": "TTPteN8e9N44",
        "outputId": "03eae35e-3121-4324-ab47-b44987b69f69"
      },
      "execution_count": 45,
      "outputs": [
        {
          "output_type": "execute_result",
          "data": {
            "text/plain": [
              "-1"
            ]
          },
          "metadata": {},
          "execution_count": 45
        }
      ]
    },
    {
      "cell_type": "code",
      "source": [
        "s.index('CTO') #문자열을 찾아주는 method"
      ],
      "metadata": {
        "colab": {
          "base_uri": "https://localhost:8080/",
          "height": 181
        },
        "id": "n0mkAGXx9RUR",
        "outputId": "c5e61c74-2b4d-4f0b-d7a4-1657af30aaed"
      },
      "execution_count": 46,
      "outputs": [
        {
          "output_type": "error",
          "ename": "ValueError",
          "evalue": "ignored",
          "traceback": [
            "\u001b[0;31m---------------------------------------------------------------------------\u001b[0m",
            "\u001b[0;31mValueError\u001b[0m                                Traceback (most recent call last)",
            "\u001b[0;32m<ipython-input-46-72d277687dd0>\u001b[0m in \u001b[0;36m<cell line: 1>\u001b[0;34m()\u001b[0m\n\u001b[0;32m----> 1\u001b[0;31m \u001b[0ms\u001b[0m\u001b[0;34m.\u001b[0m\u001b[0mindex\u001b[0m\u001b[0;34m(\u001b[0m\u001b[0;34m'CTO'\u001b[0m\u001b[0;34m)\u001b[0m \u001b[0;31m#문자열을 찾아주는 method\u001b[0m\u001b[0;34m\u001b[0m\u001b[0;34m\u001b[0m\u001b[0m\n\u001b[0m",
            "\u001b[0;31mValueError\u001b[0m: substring not found"
          ]
        }
      ]
    },
    {
      "cell_type": "code",
      "source": [
        "# 1.8 메서드 3 : count\n",
        "\n",
        "s = 'weniv CEO licat'\n",
        "s.count(' ') #문자열이나 숫자를 셀 때 사용\n",
        "\n",
        "# 공백\n",
        "# 대문자/소문자 구분\n",
        "# 일치만하면 다 찾아줌"
      ],
      "metadata": {
        "colab": {
          "base_uri": "https://localhost:8080/"
        },
        "id": "eOxUH3Ec9Toe",
        "outputId": "512a27ba-cb57-40f6-93df-5af98b45e0aa"
      },
      "execution_count": 53,
      "outputs": [
        {
          "output_type": "execute_result",
          "data": {
            "text/plain": [
              "2"
            ]
          },
          "metadata": {},
          "execution_count": 53
        }
      ]
    },
    {
      "cell_type": "code",
      "source": [
        "# 1.9 메서드 4 : strip / excel - trim()\n",
        "# strip 함수를 너무 신뢰하지 말아라!\n",
        "s = '    weniv CEO licat     '\n",
        "s.strip() #양쪽 공백을 제거하는 method"
      ],
      "metadata": {
        "colab": {
          "base_uri": "https://localhost:8080/",
          "height": 36
        },
        "id": "I56wtRQA9ve2",
        "outputId": "58848648-af20-4d11-d649-e3f0d0ca5c42"
      },
      "execution_count": 54,
      "outputs": [
        {
          "output_type": "execute_result",
          "data": {
            "text/plain": [
              "'weniv CEO licat'"
            ],
            "application/vnd.google.colaboratory.intrinsic+json": {
              "type": "string"
            }
          },
          "metadata": {},
          "execution_count": 54
        }
      ]
    },
    {
      "cell_type": "code",
      "source": [
        "'    ,!!  hello world   '.strip(' ,!#@~')\n",
        "#양쪽의 공백과 ',!'을 제거해주는 method"
      ],
      "metadata": {
        "colab": {
          "base_uri": "https://localhost:8080/",
          "height": 36
        },
        "id": "54pkyI8Z-SZL",
        "outputId": "ba801c07-b4d8-4cb5-dd07-66656c3c5191"
      },
      "execution_count": 55,
      "outputs": [
        {
          "output_type": "execute_result",
          "data": {
            "text/plain": [
              "'hello world'"
            ],
            "application/vnd.google.colaboratory.intrinsic+json": {
              "type": "string"
            }
          },
          "metadata": {},
          "execution_count": 55
        }
      ]
    },
    {
      "cell_type": "code",
      "source": [
        "# 1.10 메서드 5 : replace\n",
        "\n",
        "s = 'weniv CEO licat'\n",
        "s.replace('CEO', 'CTO') #원하는 문자열을 다른 문자열로 대체할 때 사용하는 method"
      ],
      "metadata": {
        "colab": {
          "base_uri": "https://localhost:8080/",
          "height": 36
        },
        "id": "UL-8xR2t-l1D",
        "outputId": "d431389a-fd1f-45e4-a9b7-61ffb80e50ea"
      },
      "execution_count": 56,
      "outputs": [
        {
          "output_type": "execute_result",
          "data": {
            "text/plain": [
              "'weniv CTO licat'"
            ],
            "application/vnd.google.colaboratory.intrinsic+json": {
              "type": "string"
            }
          },
          "metadata": {},
          "execution_count": 56
        }
      ]
    },
    {
      "cell_type": "code",
      "source": [
        "s = 'weniv CEO licat'\n",
        "s.replace('i', 'I') #문자열 내에서 모든 i를 I로 대체할 때 사용하는 method"
      ],
      "metadata": {
        "colab": {
          "base_uri": "https://localhost:8080/",
          "height": 36
        },
        "id": "xaXSLZPU_GxS",
        "outputId": "cb9014d0-5c71-475a-d408-2960dc74fb28"
      },
      "execution_count": 57,
      "outputs": [
        {
          "output_type": "execute_result",
          "data": {
            "text/plain": [
              "'wenIv CEO lIcat'"
            ],
            "application/vnd.google.colaboratory.intrinsic+json": {
              "type": "string"
            }
          },
          "metadata": {},
          "execution_count": 57
        }
      ]
    },
    {
      "cell_type": "code",
      "source": [
        "s = 'weniv CEO licat'\n",
        "ss = s.replace('i', 'I')\n",
        "ss, s # 출력: ('weniv CEO licat', 'wenIv CEO lIcat')"
      ],
      "metadata": {
        "colab": {
          "base_uri": "https://localhost:8080/"
        },
        "id": "Kne2Sr_U_eng",
        "outputId": "cc805794-9268-49ca-dbdf-7d7f69583506"
      },
      "execution_count": 58,
      "outputs": [
        {
          "output_type": "execute_result",
          "data": {
            "text/plain": [
              "('wenIv CEO lIcat', 'weniv CEO licat')"
            ]
          },
          "metadata": {},
          "execution_count": 58
        }
      ]
    },
    {
      "cell_type": "code",
      "source": [
        "s = '    weniv CEO licat     '\n",
        "print(s.strip())"
      ],
      "metadata": {
        "colab": {
          "base_uri": "https://localhost:8080/"
        },
        "id": "wG2YI0Ux_mnb",
        "outputId": "af0e3417-6d1c-4431-8430-30ea881a5e59"
      },
      "execution_count": 62,
      "outputs": [
        {
          "output_type": "stream",
          "name": "stdout",
          "text": [
            "weniv CEO licat\n"
          ]
        }
      ]
    },
    {
      "cell_type": "code",
      "source": [
        "print('    ,!!  hello world   '.strip(' ,!'))"
      ],
      "metadata": {
        "colab": {
          "base_uri": "https://localhost:8080/"
        },
        "id": "b4EI6keKA7zM",
        "outputId": "1b1cfedd-35ac-4e78-8761-df342d3f7fd8"
      },
      "execution_count": 63,
      "outputs": [
        {
          "output_type": "stream",
          "name": "stdout",
          "text": [
            "hello world\n"
          ]
        }
      ]
    },
    {
      "cell_type": "code",
      "source": [
        "# 1.11 메서드 split() / Join()\n",
        "# split은 리스트 형태로 결과가 나오게 된다.\n",
        "s = 'weniv CEO licat'\n",
        "s.split() #공백을 기준으로 문자열 나누기"
      ],
      "metadata": {
        "colab": {
          "base_uri": "https://localhost:8080/"
        },
        "id": "-P7Pf04gA9c_",
        "outputId": "d030af73-5c09-48db-80e7-e2240293d46b"
      },
      "execution_count": 64,
      "outputs": [
        {
          "output_type": "execute_result",
          "data": {
            "text/plain": [
              "['weniv', 'CEO', 'licat']"
            ]
          },
          "metadata": {},
          "execution_count": 64
        }
      ]
    },
    {
      "cell_type": "code",
      "source": [
        "s = 'weniv-CEO-licat'\n",
        "s.split('-') #-을 기준으로 문자열 나누기"
      ],
      "metadata": {
        "colab": {
          "base_uri": "https://localhost:8080/"
        },
        "id": "Oq2vhamFD-BN",
        "outputId": "9964fbe3-a644-4b66-86b4-d2e4f78f4bfb"
      },
      "execution_count": 66,
      "outputs": [
        {
          "output_type": "execute_result",
          "data": {
            "text/plain": [
              "['weniv-CEO-licat']"
            ]
          },
          "metadata": {},
          "execution_count": 66
        }
      ]
    },
    {
      "cell_type": "code",
      "source": [
        "s = ['weniv', 'CEO', 'licat']\n",
        "'-'.join(s) #리스트를 하나의 문자열로 합치기"
      ],
      "metadata": {
        "colab": {
          "base_uri": "https://localhost:8080/",
          "height": 36
        },
        "id": "cQxYBwsfEU2n",
        "outputId": "22ceddf6-9ca9-44f5-a40b-7329aa9f63b8"
      },
      "execution_count": 67,
      "outputs": [
        {
          "output_type": "execute_result",
          "data": {
            "text/plain": [
              "'weniv-CEO-licat'"
            ],
            "application/vnd.google.colaboratory.intrinsic+json": {
              "type": "string"
            }
          },
          "metadata": {},
          "execution_count": 67
        }
      ]
    },
    {
      "cell_type": "code",
      "source": [
        "name = 'licat'\n",
        "age = 29\n",
        "\n",
        "print('제 이름은 {}이고, 나이는 {}살입니다.'.format(name, age))"
      ],
      "metadata": {
        "colab": {
          "base_uri": "https://localhost:8080/"
        },
        "id": "7HViz551Exi2",
        "outputId": "11f4fd09-b269-4a67-f164-17ce291ef8ed"
      },
      "execution_count": 68,
      "outputs": [
        {
          "output_type": "stream",
          "name": "stdout",
          "text": [
            "제 이름은 licat이고, 나이는 29살입니다.\n"
          ]
        }
      ]
    },
    {
      "cell_type": "code",
      "source": [
        "print(f'제 이름은 {name}이고, 나이는 {age}살입니다.')"
      ],
      "metadata": {
        "colab": {
          "base_uri": "https://localhost:8080/"
        },
        "id": "AYRXhgVuHvXt",
        "outputId": "664c6991-d82a-483f-eaad-1f757f3161cc"
      },
      "execution_count": 70,
      "outputs": [
        {
          "output_type": "stream",
          "name": "stdout",
          "text": [
            "제 이름은 licat이고, 나이는 29살입니다.\n"
          ]
        }
      ]
    },
    {
      "cell_type": "code",
      "source": [
        "# 1.12 isdigit / isalpha\n",
        "\n",
        "s = '123'\n",
        "s.isdigit() # 문자열이 숫자로만 이루어져 있는지 확인하는 method"
      ],
      "metadata": {
        "colab": {
          "base_uri": "https://localhost:8080/"
        },
        "id": "gZEhQc1eH3rg",
        "outputId": "231fb9ee-6931-4a69-c79d-22880140aa43"
      },
      "execution_count": 73,
      "outputs": [
        {
          "output_type": "execute_result",
          "data": {
            "text/plain": [
              "True"
            ]
          },
          "metadata": {},
          "execution_count": 73
        }
      ]
    },
    {
      "cell_type": "code",
      "source": [
        "print('abcd1234'.isalpha()) # 출력: False\n",
        "print('안녕하세요'.isalpha()) # 출력: True\n",
        "print('こんにちは'.isalpha()) # 출력: True\n",
        "print('你好'.isalpha()) # 출력: True"
      ],
      "metadata": {
        "colab": {
          "base_uri": "https://localhost:8080/"
        },
        "id": "XAU-kiFWITzk",
        "outputId": "271e7946-578e-457d-fb3b-b44a7e1e3bcd"
      },
      "execution_count": 74,
      "outputs": [
        {
          "output_type": "stream",
          "name": "stdout",
          "text": [
            "False\n",
            "True\n",
            "True\n",
            "True\n"
          ]
        }
      ]
    },
    {
      "cell_type": "code",
      "source": [
        "# 1.13 rjust / Ljust\n",
        "\n",
        "s = 'licat' #5글자 - 10글자를 채워야하면 5글자가 공백! -> -으로 채우는\n",
        "s.rjust(10, '-') #문자열을 지정한 길이로 맞추고, 왼쪽을 '-'로 채우는 method"
      ],
      "metadata": {
        "colab": {
          "base_uri": "https://localhost:8080/",
          "height": 36
        },
        "id": "bHdkGSzXIfzx",
        "outputId": "4796d968-6df9-41e9-a9ea-af4ac120aa5c"
      },
      "execution_count": 75,
      "outputs": [
        {
          "output_type": "execute_result",
          "data": {
            "text/plain": [
              "'-----licat'"
            ],
            "application/vnd.google.colaboratory.intrinsic+json": {
              "type": "string"
            }
          },
          "metadata": {},
          "execution_count": 75
        }
      ]
    },
    {
      "cell_type": "code",
      "source": [
        "s = 'licat' #5글자 - 10글자를 채워야하면 5글자가 공백! -> -으로 채우는\n",
        "s.ljust(10, '-') #문자열을 지정한 길이로 맞추고, 오른쪽을 '-'로 채우는 method"
      ],
      "metadata": {
        "colab": {
          "base_uri": "https://localhost:8080/",
          "height": 36
        },
        "id": "x5fAE_nqJg8L",
        "outputId": "fb88b453-d4fa-47a6-c559-8dc67e833d9a"
      },
      "execution_count": 77,
      "outputs": [
        {
          "output_type": "execute_result",
          "data": {
            "text/plain": [
              "'licat-----'"
            ],
            "application/vnd.google.colaboratory.intrinsic+json": {
              "type": "string"
            }
          },
          "metadata": {},
          "execution_count": 77
        }
      ]
    },
    {
      "cell_type": "code",
      "source": [
        "s = '458934-1'\n",
        "s.ljust(14, '*')"
      ],
      "metadata": {
        "colab": {
          "base_uri": "https://localhost:8080/",
          "height": 36
        },
        "id": "VG2lWTkAJopj",
        "outputId": "ed9e9163-12fb-4aa1-dddd-5f3ad66218d0"
      },
      "execution_count": 78,
      "outputs": [
        {
          "output_type": "execute_result",
          "data": {
            "text/plain": [
              "'458934-1******'"
            ],
            "application/vnd.google.colaboratory.intrinsic+json": {
              "type": "string"
            }
          },
          "metadata": {},
          "execution_count": 78
        }
      ]
    },
    {
      "cell_type": "code",
      "source": [
        "s = 'licat'\n",
        "s.center(14, '-') #문자열을 지정한 길이로 맞추고, 양쪽을 '-'로 채우는 method"
      ],
      "metadata": {
        "colab": {
          "base_uri": "https://localhost:8080/",
          "height": 36
        },
        "id": "jpSUwIVHJ0rR",
        "outputId": "ffb6bdf7-243b-47c5-81a9-2a69349a68a1"
      },
      "execution_count": 82,
      "outputs": [
        {
          "output_type": "execute_result",
          "data": {
            "text/plain": [
              "'----licat-----'"
            ],
            "application/vnd.google.colaboratory.intrinsic+json": {
              "type": "string"
            }
          },
          "metadata": {},
          "execution_count": 82
        }
      ]
    },
    {
      "cell_type": "code",
      "source": [
        "# 1.14 zfill\n",
        "# 문자열 숫자\n",
        "x = \"42\"\n",
        "result = x.zfill(10)\n",
        "print(result)  # 00042"
      ],
      "metadata": {
        "colab": {
          "base_uri": "https://localhost:8080/"
        },
        "id": "8vMDa6QtMXm9",
        "outputId": "a755c8f5-7dce-4a7a-9e17-f22b8f177a1e"
      },
      "execution_count": 84,
      "outputs": [
        {
          "output_type": "stream",
          "name": "stdout",
          "text": [
            "0000000042\n"
          ]
        }
      ]
    },
    {
      "cell_type": "code",
      "source": [
        "# 문자열 부호가 있는 숫자\n",
        "y = \"-42\"\n",
        "result = y.zfill(5)\n",
        "print(result)  # -0042"
      ],
      "metadata": {
        "colab": {
          "base_uri": "https://localhost:8080/"
        },
        "id": "BDX6OAMYNfQ4",
        "outputId": "6c463c6d-7b27-4a38-9c7e-995089bafc54"
      },
      "execution_count": 85,
      "outputs": [
        {
          "output_type": "stream",
          "name": "stdout",
          "text": [
            "-0042\n"
          ]
        }
      ]
    },
    {
      "cell_type": "code",
      "source": [
        "# 문자열\n",
        "z = \"abc\"\n",
        "result = z.zfill(5)\n",
        "print(result)  # 00abc"
      ],
      "metadata": {
        "colab": {
          "base_uri": "https://localhost:8080/"
        },
        "id": "pQzbGfDlNkZh",
        "outputId": "689edd4d-09d0-47e9-d90d-5e8b7a1328f0"
      },
      "execution_count": 86,
      "outputs": [
        {
          "output_type": "stream",
          "name": "stdout",
          "text": [
            "00abc\n"
          ]
        }
      ]
    },
    {
      "cell_type": "code",
      "source": [
        "# 순차적으로 붙일때 사용\n",
        "filename = '1'.zfill(3) + \".jpg\"\n",
        "print(filename)"
      ],
      "metadata": {
        "colab": {
          "base_uri": "https://localhost:8080/"
        },
        "id": "NBaqIwJaNm9a",
        "outputId": "6b566149-f01e-4eeb-ff1c-e2a6d3287052"
      },
      "execution_count": 87,
      "outputs": [
        {
          "output_type": "stream",
          "name": "stdout",
          "text": [
            "001.jpg\n"
          ]
        }
      ]
    },
    {
      "cell_type": "code",
      "source": [
        "년 = '23'\n",
        "월 = '9'\n",
        "일 = '8'\n",
        "오늘날짜 = 년 + 월 + 일\n",
        "print(오늘날짜)\n",
        "오늘날짜 = 년 + 월.zfill(2) + 일.zfill(2)\n",
        "print(오늘날짜)"
      ],
      "metadata": {
        "colab": {
          "base_uri": "https://localhost:8080/"
        },
        "id": "AmB1x8izODhQ",
        "outputId": "c390278f-b2a7-41f5-d8bc-ae8e5bef0449"
      },
      "execution_count": 88,
      "outputs": [
        {
          "output_type": "stream",
          "name": "stdout",
          "text": [
            "2398\n",
            "230908\n"
          ]
        }
      ]
    },
    {
      "cell_type": "code",
      "source": [
        "#1.14 translate\n",
        "\n",
        "# 변환 테이블 생성\n",
        "table = str.maketrans(\"abc\", \"123\")"
      ],
      "metadata": {
        "id": "VrpRgXN6RmVn"
      },
      "execution_count": 89,
      "outputs": []
    },
    {
      "cell_type": "code",
      "source": [
        "text = \"abcde a b c abc\"\n",
        "result = text.translate(table)\n",
        "print(result)  # 123de"
      ],
      "metadata": {
        "colab": {
          "base_uri": "https://localhost:8080/"
        },
        "id": "hIx4k4PEOQt_",
        "outputId": "519e8473-3ddb-45fd-ecf2-e22664a7251f"
      },
      "execution_count": 91,
      "outputs": [
        {
          "output_type": "stream",
          "name": "stdout",
          "text": [
            "123de 1 2 3 123\n"
          ]
        }
      ]
    },
    {
      "cell_type": "code",
      "source": [
        "# 'd'와 'e' 문자 제거하기\n",
        "table = str.maketrans('', '', 'de')\n",
        "text = \"abcde d e.      d e dede\"\n",
        "result = text.translate(table)\n",
        "print(result)  # abc"
      ],
      "metadata": {
        "colab": {
          "base_uri": "https://localhost:8080/"
        },
        "id": "l9UIZEmWRzki",
        "outputId": "2616db3e-2a5e-4319-8cda-7a6e637c3c41"
      },
      "execution_count": 93,
      "outputs": [
        {
          "output_type": "stream",
          "name": "stdout",
          "text": [
            "abc  .        \n"
          ]
        }
      ]
    },
    {
      "cell_type": "code",
      "source": [
        "table = str.maketrans('\\n\\t', '  ') # 똑같은 길이를 가지고 있어야 함\n",
        "'weniv \\n\\n\\n CEO \\t\\t\\t licat'.translate(table)"
      ],
      "metadata": {
        "colab": {
          "base_uri": "https://localhost:8080/",
          "height": 36
        },
        "id": "eu6y7tEASG6i",
        "outputId": "686e5768-5b6d-427d-aefa-652f7a3b8309"
      },
      "execution_count": 94,
      "outputs": [
        {
          "output_type": "execute_result",
          "data": {
            "text/plain": [
              "'weniv     CEO     licat'"
            ],
            "application/vnd.google.colaboratory.intrinsic+json": {
              "type": "string"
            }
          },
          "metadata": {},
          "execution_count": 94
        }
      ]
    },
    {
      "cell_type": "code",
      "source": [
        "j = \"\"\"안녕하세요.\n",
        "저는 위니브의 대표 이호준입니다.\n",
        "파이썬 참 좋아요.\n",
        "여러분 정말 잘 선택하셨어요.\n",
        "\"\"\""
      ],
      "metadata": {
        "id": "yUsKwYlWSP4v"
      },
      "execution_count": 95,
      "outputs": []
    },
    {
      "cell_type": "code",
      "source": [
        "j"
      ],
      "metadata": {
        "colab": {
          "base_uri": "https://localhost:8080/",
          "height": 36
        },
        "id": "DrDdAbFtSTcT",
        "outputId": "f604e2aa-31b8-4b9d-a4ec-681107bd82a4"
      },
      "execution_count": 96,
      "outputs": [
        {
          "output_type": "execute_result",
          "data": {
            "text/plain": [
              "'안녕하세요.\\n저는 위니브의 대표 이호준입니다.\\n파이썬 참 좋아요.\\n여러분 정말 잘 선택하셨어요.\\n'"
            ],
            "application/vnd.google.colaboratory.intrinsic+json": {
              "type": "string"
            }
          },
          "metadata": {},
          "execution_count": 96
        }
      ]
    },
    {
      "cell_type": "code",
      "source": [
        "'안녕하세요.\\n저는 위니브의 대표 이호준입니다.\\n파이썬 참 좋아요.\\n여러분 정말 잘 선택하셨어요.\\n'.translate(table)"
      ],
      "metadata": {
        "colab": {
          "base_uri": "https://localhost:8080/",
          "height": 36
        },
        "id": "RKDKZru0SUu4",
        "outputId": "cc377abb-85d7-44b4-fec4-b01f83d0d1b7"
      },
      "execution_count": 97,
      "outputs": [
        {
          "output_type": "execute_result",
          "data": {
            "text/plain": [
              "'안녕하세요. 저는 위니브의 대표 이호준입니다. 파이썬 참 좋아요. 여러분 정말 잘 선택하셨어요. '"
            ],
            "application/vnd.google.colaboratory.intrinsic+json": {
              "type": "string"
            }
          },
          "metadata": {},
          "execution_count": 97
        }
      ]
    },
    {
      "cell_type": "code",
      "source": [
        "# 1.15 이스케이프\n",
        "\n",
        "print(\"Hello\\nWorld!\") # Hello와 World! 사이에 줄바꿈이 일어납니다.\n",
        "print(\"Hello\\tWorld!\") # Hello와 World! 사이에 탭 간격이 생깁니다.\n",
        "print(\"She said, \\\"Hello World!\\\"\") # 큰따옴표 내부에 문자열을 출력합니다.\n",
        "print('She said, \\'Hello World!\\'') # 작은따옴표 내부에 문자열을 출력합니다.\n",
        "print(\"Backslash: \\\\\") # 백슬래시를 출력합니다."
      ],
      "metadata": {
        "colab": {
          "base_uri": "https://localhost:8080/"
        },
        "id": "K0r5ejL_Sa5R",
        "outputId": "eff91c97-9ebc-49ff-b2d3-aff0a6142a9c"
      },
      "execution_count": 98,
      "outputs": [
        {
          "output_type": "stream",
          "name": "stdout",
          "text": [
            "Hello\n",
            "World!\n",
            "Hello\tWorld!\n",
            "She said, \"Hello World!\"\n",
            "She said, 'Hello World!'\n",
            "Backslash: \\\n"
          ]
        }
      ]
    },
    {
      "cell_type": "code",
      "source": [
        "print(\"She said, 'Hello World!'\") # 큰따옴표 내부에 문자열을 출력합니다."
      ],
      "metadata": {
        "colab": {
          "base_uri": "https://localhost:8080/"
        },
        "id": "yr3ZQUANTufD",
        "outputId": "967450a5-0ad4-49fc-f63a-bac1c879f516"
      },
      "execution_count": 99,
      "outputs": [
        {
          "output_type": "stream",
          "name": "stdout",
          "text": [
            "She said, 'Hello World!'\n"
          ]
        }
      ]
    },
    {
      "cell_type": "code",
      "source": [
        "print(\"She said, \"Hello World!\"\") # 큰따옴표 내부에 문자열을 출력합니다."
      ],
      "metadata": {
        "colab": {
          "base_uri": "https://localhost:8080/",
          "height": 145
        },
        "id": "cKXH1QjeUFEt",
        "outputId": "e48f7157-db56-47eb-acda-7f5c7ac2ebba"
      },
      "execution_count": 100,
      "outputs": [
        {
          "output_type": "error",
          "ename": "SyntaxError",
          "evalue": "ignored",
          "traceback": [
            "\u001b[0;36m  File \u001b[0;32m\"<ipython-input-100-8021b2d5a1fb>\"\u001b[0;36m, line \u001b[0;32m1\u001b[0m\n\u001b[0;31m    print(\"She said, \"Hello World!\"\") # 큰따옴표 내부에 문자열을 출력합니다.\u001b[0m\n\u001b[0m          ^\u001b[0m\n\u001b[0;31mSyntaxError\u001b[0m\u001b[0;31m:\u001b[0m invalid syntax. Perhaps you forgot a comma?\n"
          ]
        }
      ]
    },
    {
      "cell_type": "code",
      "source": [
        "print(\"Backslash: \\\") # 백슬래시를 출력합니다."
      ],
      "metadata": {
        "colab": {
          "base_uri": "https://localhost:8080/",
          "height": 145
        },
        "id": "T_k0yMH7UHF2",
        "outputId": "44faf801-e05d-4ec6-bad5-da4df704b8a8"
      },
      "execution_count": 101,
      "outputs": [
        {
          "output_type": "error",
          "ename": "SyntaxError",
          "evalue": "ignored",
          "traceback": [
            "\u001b[0;36m  File \u001b[0;32m\"<ipython-input-101-b64b505f9b24>\"\u001b[0;36m, line \u001b[0;32m1\u001b[0m\n\u001b[0;31m    print(\"Backslash: \\\") # 백슬래시를 출력합니다.\u001b[0m\n\u001b[0m          ^\u001b[0m\n\u001b[0;31mSyntaxError\u001b[0m\u001b[0;31m:\u001b[0m unterminated string literal (detected at line 1)\n"
          ]
        }
      ]
    },
    {
      "cell_type": "markdown",
      "source": [
        "#2. Bool"
      ],
      "metadata": {
        "id": "ZEDKHR4MXU23"
      }
    },
    {
      "cell_type": "code",
      "source": [
        "x = True\n",
        "y = False\n",
        "z = 10 < 3\n",
        "print(x, y, z)"
      ],
      "metadata": {
        "colab": {
          "base_uri": "https://localhost:8080/"
        },
        "id": "qTsLFJgrUJd9",
        "outputId": "8c4e2b57-eb55-4183-a9b6-1be503fbd8d6"
      },
      "execution_count": 103,
      "outputs": [
        {
          "output_type": "stream",
          "name": "stdout",
          "text": [
            "True False False\n"
          ]
        }
      ]
    },
    {
      "cell_type": "code",
      "source": [
        "print(True == 1) # 출력: True\n",
        "print(False == 0) # 출력: True"
      ],
      "metadata": {
        "colab": {
          "base_uri": "https://localhost:8080/"
        },
        "id": "pqjvz3JtXWS0",
        "outputId": "83962eb4-1ec9-45a5-ced6-f6cc58a34482"
      },
      "execution_count": 104,
      "outputs": [
        {
          "output_type": "stream",
          "name": "stdout",
          "text": [
            "True\n",
            "True\n"
          ]
        }
      ]
    },
    {
      "cell_type": "code",
      "source": [
        "진위파악\n",
        "\n",
        "데이터가 총 3개가 있는데 몇개가 일치하는가? -> 3개\n",
        "\n",
        "A데이터              B데이터\n",
        "김진환 20            김진환 20       = True\n",
        "이호준 30            이호준 30       = True\n",
        "김혜원 40            김혜원 40       = True\n",
        "\n"
      ],
      "metadata": {
        "colab": {
          "base_uri": "https://localhost:8080/",
          "height": 145
        },
        "id": "5f5IeJA-X4O3",
        "outputId": "2b1da5da-abc2-41be-a3f7-43194d954549"
      },
      "execution_count": 107,
      "outputs": [
        {
          "output_type": "error",
          "ename": "SyntaxError",
          "evalue": "ignored",
          "traceback": [
            "\u001b[0;36m  File \u001b[0;32m\"<ipython-input-107-29794667df37>\"\u001b[0;36m, line \u001b[0;32m3\u001b[0m\n\u001b[0;31m    A데이터              B데이터\u001b[0m\n\u001b[0m                      ^\u001b[0m\n\u001b[0;31mSyntaxError\u001b[0m\u001b[0;31m:\u001b[0m invalid syntax\n"
          ]
        }
      ]
    },
    {
      "cell_type": "code",
      "source": [
        "print(True + True) # 출력: 2\n",
        "print(False - True) # 출력: -1\n",
        "print(True / True) # 출력: 1.0\n",
        "print(True * False) # 출력: 0"
      ],
      "metadata": {
        "colab": {
          "base_uri": "https://localhost:8080/"
        },
        "id": "i90aLdkAXe-A",
        "outputId": "1a56715b-1469-4bb0-8c2c-6d03584fa5e5"
      },
      "execution_count": 106,
      "outputs": [
        {
          "output_type": "stream",
          "name": "stdout",
          "text": [
            "2\n",
            "-1\n",
            "1.0\n",
            "0\n"
          ]
        }
      ]
    },
    {
      "cell_type": "code",
      "source": [
        "print(True / False) # error"
      ],
      "metadata": {
        "id": "OZIslVnYXvGR"
      },
      "execution_count": null,
      "outputs": []
    },
    {
      "cell_type": "markdown",
      "source": [
        "# 3. None 자료형"
      ],
      "metadata": {
        "id": "Sh9BxfkAY2X2"
      }
    },
    {
      "cell_type": "code",
      "source": [
        "양말상자 = None"
      ],
      "metadata": {
        "id": "ZVsaUj3iY33B"
      },
      "execution_count": 108,
      "outputs": []
    },
    {
      "cell_type": "code",
      "source": [
        "print(양말상자)"
      ],
      "metadata": {
        "colab": {
          "base_uri": "https://localhost:8080/"
        },
        "id": "XDZ7LCHGY4Ju",
        "outputId": "009b1049-380a-4bfe-b4db-cece6593b9d8"
      },
      "execution_count": 110,
      "outputs": [
        {
          "output_type": "stream",
          "name": "stdout",
          "text": [
            "None\n"
          ]
        }
      ]
    },
    {
      "cell_type": "code",
      "source": [
        "dir(None) #매직메서드, 메서드확인"
      ],
      "metadata": {
        "colab": {
          "base_uri": "https://localhost:8080/"
        },
        "id": "1vI4p7qYY5fu",
        "outputId": "a976ee36-6e1c-4990-bce0-bb520dfa3f64"
      },
      "execution_count": 111,
      "outputs": [
        {
          "output_type": "execute_result",
          "data": {
            "text/plain": [
              "['__bool__',\n",
              " '__class__',\n",
              " '__delattr__',\n",
              " '__dir__',\n",
              " '__doc__',\n",
              " '__eq__',\n",
              " '__format__',\n",
              " '__ge__',\n",
              " '__getattribute__',\n",
              " '__gt__',\n",
              " '__hash__',\n",
              " '__init__',\n",
              " '__init_subclass__',\n",
              " '__le__',\n",
              " '__lt__',\n",
              " '__ne__',\n",
              " '__new__',\n",
              " '__reduce__',\n",
              " '__reduce_ex__',\n",
              " '__repr__',\n",
              " '__setattr__',\n",
              " '__sizeof__',\n",
              " '__str__',\n",
              " '__subclasshook__']"
            ]
          },
          "metadata": {},
          "execution_count": 111
        }
      ]
    },
    {
      "cell_type": "code",
      "source": [
        "'010-1000-2000'.split('-').replace('0', 'x')"
      ],
      "metadata": {
        "colab": {
          "base_uri": "https://localhost:8080/",
          "height": 181
        },
        "id": "fKhTHU24ZMc5",
        "outputId": "eeee2b95-b415-4bd9-87f6-41560dd2f9a9"
      },
      "execution_count": 112,
      "outputs": [
        {
          "output_type": "error",
          "ename": "AttributeError",
          "evalue": "ignored",
          "traceback": [
            "\u001b[0;31m---------------------------------------------------------------------------\u001b[0m",
            "\u001b[0;31mAttributeError\u001b[0m                            Traceback (most recent call last)",
            "\u001b[0;32m<ipython-input-112-81c44aeda323>\u001b[0m in \u001b[0;36m<cell line: 1>\u001b[0;34m()\u001b[0m\n\u001b[0;32m----> 1\u001b[0;31m \u001b[0;34m'010-1000-2000'\u001b[0m\u001b[0;34m.\u001b[0m\u001b[0msplit\u001b[0m\u001b[0;34m(\u001b[0m\u001b[0;34m'-'\u001b[0m\u001b[0;34m)\u001b[0m\u001b[0;34m.\u001b[0m\u001b[0mreplace\u001b[0m\u001b[0;34m(\u001b[0m\u001b[0;34m'0'\u001b[0m\u001b[0;34m,\u001b[0m \u001b[0;34m'x'\u001b[0m\u001b[0;34m)\u001b[0m\u001b[0;34m\u001b[0m\u001b[0;34m\u001b[0m\u001b[0m\n\u001b[0m",
            "\u001b[0;31mAttributeError\u001b[0m: 'list' object has no attribute 'replace'"
          ]
        }
      ]
    },
    {
      "cell_type": "code",
      "source": [
        "a = '010-1000-2000'.split('-')\n",
        "print(a)"
      ],
      "metadata": {
        "colab": {
          "base_uri": "https://localhost:8080/"
        },
        "id": "Cjaozv4nau06",
        "outputId": "c88c4e47-f7f3-46ba-844b-81eff73672b5"
      },
      "execution_count": 113,
      "outputs": [
        {
          "output_type": "stream",
          "name": "stdout",
          "text": [
            "['010', '1000', '2000']\n"
          ]
        }
      ]
    },
    {
      "cell_type": "code",
      "source": [
        "['010', '1000', '2000'].replace('0', 'x')"
      ],
      "metadata": {
        "colab": {
          "base_uri": "https://localhost:8080/",
          "height": 181
        },
        "id": "SjX7aNsSat6Q",
        "outputId": "66454153-a696-477d-94d5-fa9db4ec9fee"
      },
      "execution_count": 114,
      "outputs": [
        {
          "output_type": "error",
          "ename": "AttributeError",
          "evalue": "ignored",
          "traceback": [
            "\u001b[0;31m---------------------------------------------------------------------------\u001b[0m",
            "\u001b[0;31mAttributeError\u001b[0m                            Traceback (most recent call last)",
            "\u001b[0;32m<ipython-input-114-15d747113262>\u001b[0m in \u001b[0;36m<cell line: 1>\u001b[0;34m()\u001b[0m\n\u001b[0;32m----> 1\u001b[0;31m \u001b[0;34m[\u001b[0m\u001b[0;34m'010'\u001b[0m\u001b[0;34m,\u001b[0m \u001b[0;34m'1000'\u001b[0m\u001b[0;34m,\u001b[0m \u001b[0;34m'2000'\u001b[0m\u001b[0;34m]\u001b[0m\u001b[0;34m.\u001b[0m\u001b[0mreplace\u001b[0m\u001b[0;34m(\u001b[0m\u001b[0;34m'0'\u001b[0m\u001b[0;34m,\u001b[0m \u001b[0;34m'x'\u001b[0m\u001b[0;34m)\u001b[0m\u001b[0;34m\u001b[0m\u001b[0;34m\u001b[0m\u001b[0m\n\u001b[0m",
            "\u001b[0;31mAttributeError\u001b[0m: 'list' object has no attribute 'replace'"
          ]
        }
      ]
    },
    {
      "cell_type": "markdown",
      "source": [
        "# 4. 형변환"
      ],
      "metadata": {
        "id": "TaLx-S35u1SY"
      }
    },
    {
      "cell_type": "code",
      "source": [
        "# 1. 형변환 기본 예제\n",
        "\n",
        "# 잘못된 수행\n",
        "월급 = input(\"월급을 입력하세요:\")\n",
        "연봉 = 월급 * 12\n",
        "print(연봉)"
      ],
      "metadata": {
        "colab": {
          "base_uri": "https://localhost:8080/"
        },
        "id": "UDK6hkXIu0y2",
        "outputId": "9d5f37a1-f4ef-4431-a6a9-8bafc4763190"
      },
      "execution_count": 115,
      "outputs": [
        {
          "output_type": "stream",
          "name": "stdout",
          "text": [
            "월급을 입력하세요:10000000\n",
            "100000001000000010000000100000001000000010000000100000001000000010000000100000001000000010000000\n"
          ]
        }
      ]
    },
    {
      "cell_type": "code",
      "source": [
        "# 제대로 수행\n",
        "월급 = int(input(\"월급을 입력하세요:\"))\n",
        "연봉 = 월급 * 12\n",
        "print(연봉)"
      ],
      "metadata": {
        "colab": {
          "base_uri": "https://localhost:8080/"
        },
        "id": "5Lt-Tovoa6rB",
        "outputId": "b2892dc4-2ea7-4b67-a0a3-309e7be3d935"
      },
      "execution_count": 116,
      "outputs": [
        {
          "output_type": "stream",
          "name": "stdout",
          "text": [
            "월급을 입력하세요:10000000\n",
            "120000000\n"
          ]
        }
      ]
    },
    {
      "cell_type": "code",
      "source": [
        "# 제대로 수행\n",
        "월급 = input(\"월급을 입력하세요:\")\n",
        "연봉 = int(월급) * 12\n",
        "print(연봉)"
      ],
      "metadata": {
        "colab": {
          "base_uri": "https://localhost:8080/"
        },
        "id": "gbqiUX5zvR7G",
        "outputId": "a9818dfb-caa8-4e6a-9c16-f3b1c8d663a6"
      },
      "execution_count": 117,
      "outputs": [
        {
          "output_type": "stream",
          "name": "stdout",
          "text": [
            "월급을 입력하세요:100000000\n",
            "1200000000\n"
          ]
        }
      ]
    },
    {
      "cell_type": "code",
      "source": [
        "# 4.2 소수형 -> 정수형\n",
        "\n",
        "f = 3.14159\n",
        "number = int(f)\n",
        "print(number)  # 출력: 3"
      ],
      "metadata": {
        "colab": {
          "base_uri": "https://localhost:8080/"
        },
        "id": "ZPHAnXiwwFep",
        "outputId": "2ad12c9c-478d-4365-e530-acc9bb3da902"
      },
      "execution_count": 118,
      "outputs": [
        {
          "output_type": "stream",
          "name": "stdout",
          "text": [
            "3\n"
          ]
        }
      ]
    },
    {
      "cell_type": "code",
      "source": [
        "# 4.3 불린 -> 정수형\n",
        "true_int = int(True)\n",
        "false_int = int(False)\n",
        "\n",
        "print(true_int)  # 출력: 1\n",
        "print(false_int)  # 출력: 0"
      ],
      "metadata": {
        "colab": {
          "base_uri": "https://localhost:8080/"
        },
        "id": "AZLdY__MvVPh",
        "outputId": "0f82a36d-4476-470e-dd99-e1608fac886f"
      },
      "execution_count": 119,
      "outputs": [
        {
          "output_type": "stream",
          "name": "stdout",
          "text": [
            "1\n",
            "0\n"
          ]
        }
      ]
    },
    {
      "cell_type": "code",
      "source": [
        "# 4.4 None은 형변환이 안된다.\n",
        "print(int(None))"
      ],
      "metadata": {
        "colab": {
          "base_uri": "https://localhost:8080/",
          "height": 181
        },
        "id": "sgOa56YlwX49",
        "outputId": "64b3b06c-1b70-46a3-9caa-9d9a5de0d2fa"
      },
      "execution_count": 120,
      "outputs": [
        {
          "output_type": "error",
          "ename": "TypeError",
          "evalue": "ignored",
          "traceback": [
            "\u001b[0;31m---------------------------------------------------------------------------\u001b[0m",
            "\u001b[0;31mTypeError\u001b[0m                                 Traceback (most recent call last)",
            "\u001b[0;32m<ipython-input-120-2ffd029b05a4>\u001b[0m in \u001b[0;36m<cell line: 1>\u001b[0;34m()\u001b[0m\n\u001b[0;32m----> 1\u001b[0;31m \u001b[0mprint\u001b[0m\u001b[0;34m(\u001b[0m\u001b[0mint\u001b[0m\u001b[0;34m(\u001b[0m\u001b[0;32mNone\u001b[0m\u001b[0;34m)\u001b[0m\u001b[0;34m)\u001b[0m\u001b[0;34m\u001b[0m\u001b[0;34m\u001b[0m\u001b[0m\n\u001b[0m",
            "\u001b[0;31mTypeError\u001b[0m: int() argument must be a string, a bytes-like object or a real number, not 'NoneType'"
          ]
        }
      ]
    },
    {
      "cell_type": "code",
      "source": [
        "# 4.5 str 형변환\n",
        "\n",
        "n = 123\n",
        "print(type(n))\n",
        "print(n)\n",
        "\n",
        "m = 123.4\n",
        "print(type(n))\n",
        "print(m)\n",
        "\n",
        "n = str(n)\n",
        "print(type(n))\n",
        "print(n)\n",
        "\n",
        "m = str(m)\n",
        "print(type(m))\n",
        "print(m)"
      ],
      "metadata": {
        "colab": {
          "base_uri": "https://localhost:8080/"
        },
        "id": "nhSiL2Zxwy9N",
        "outputId": "3e96189b-9528-4218-848c-edcccfcea9c6"
      },
      "execution_count": 121,
      "outputs": [
        {
          "output_type": "stream",
          "name": "stdout",
          "text": [
            "<class 'int'>\n",
            "123\n",
            "<class 'int'>\n",
            "123.4\n",
            "<class 'str'>\n",
            "123\n",
            "<class 'str'>\n",
            "123.4\n"
          ]
        }
      ]
    },
    {
      "cell_type": "code",
      "source": [
        "print(\"bool('test'):\", bool('test'))\n",
        "print(\"bool(' '):\", bool(' '))\n",
        "print(\"bool(''):\", bool(''))\n",
        "print(\"bool(100):\", bool(100))\n",
        "print(\"bool(1):\", bool(1))\n",
        "print(\"bool(0):\", bool(0))\n",
        "print(\"bool(-1):\", bool(-1))\n",
        "print(\"bool(None):\", bool(None))\n",
        "print(\"bool([]):\", bool([]))\n",
        "print(\"bool(tuple()):\", bool(tuple()))\n",
        "print(\"bool({}):\", bool({}))\n",
        "print(\"bool(set()):\", bool(set()))"
      ],
      "metadata": {
        "colab": {
          "base_uri": "https://localhost:8080/"
        },
        "id": "mS15Mjp3xTIX",
        "outputId": "5a06a884-773b-411c-864b-6a6d44231f3c"
      },
      "execution_count": 122,
      "outputs": [
        {
          "output_type": "stream",
          "name": "stdout",
          "text": [
            "bool('test'): True\n",
            "bool(' '): True\n",
            "bool(''): False\n",
            "bool(100): True\n",
            "bool(1): True\n",
            "bool(0): False\n",
            "bool(-1): True\n",
            "bool(None): False\n",
            "bool([]): False\n",
            "bool(tuple()): False\n",
            "bool({}): False\n",
            "bool(set()): False\n"
          ]
        }
      ]
    },
    {
      "cell_type": "code",
      "source": [
        "s = 10\n",
        "print(float(s))\n",
        "\n",
        "s = '10'\n",
        "print(float(s))\n",
        "\n",
        "s = '3.14'\n",
        "print(float(s))"
      ],
      "metadata": {
        "colab": {
          "base_uri": "https://localhost:8080/"
        },
        "id": "6x9DIvOLx9iS",
        "outputId": "b786920e-bccb-499a-adcf-dbaeee1219fc"
      },
      "execution_count": 123,
      "outputs": [
        {
          "output_type": "stream",
          "name": "stdout",
          "text": [
            "10.0\n",
            "10.0\n",
            "3.14\n"
          ]
        }
      ]
    },
    {
      "cell_type": "code",
      "source": [
        "infinity = float('inf')\n",
        "neg_infinity = float('-inf')\n",
        "not_a_number = float('nan') #None, NA"
      ],
      "metadata": {
        "id": "Cejaxjulykwe"
      },
      "execution_count": 124,
      "outputs": []
    },
    {
      "cell_type": "code",
      "source": [
        "print(infinity)\n",
        "print(neg_infinity)\n",
        "print(not_a_number)"
      ],
      "metadata": {
        "colab": {
          "base_uri": "https://localhost:8080/"
        },
        "id": "hiWWporIyyGv",
        "outputId": "82cd5fa2-a1ef-47a9-eacf-0c021048b780"
      },
      "execution_count": 125,
      "outputs": [
        {
          "output_type": "stream",
          "name": "stdout",
          "text": [
            "inf\n",
            "-inf\n",
            "nan\n"
          ]
        }
      ]
    },
    {
      "cell_type": "code",
      "source": [
        "# map\n",
        "\n",
        "list(map(int, ['10', '20', '30'])) # 출력: [10, 20, 30]"
      ],
      "metadata": {
        "colab": {
          "base_uri": "https://localhost:8080/"
        },
        "id": "EI8AsQUCy2U8",
        "outputId": "38b92ae4-2256-44c0-c273-4b36ea7d6a19"
      },
      "execution_count": 127,
      "outputs": [
        {
          "output_type": "execute_result",
          "data": {
            "text/plain": [
              "[10, 20, 30]"
            ]
          },
          "metadata": {},
          "execution_count": 127
        }
      ]
    },
    {
      "cell_type": "code",
      "source": [
        "list(map(int, '12345')) # 출력: [1, 2, 3, 4, 5]"
      ],
      "metadata": {
        "colab": {
          "base_uri": "https://localhost:8080/"
        },
        "id": "-keOSNUz1OSE",
        "outputId": "e5c45f33-3d11-44b1-e3f5-7aafeb82926b"
      },
      "execution_count": 128,
      "outputs": [
        {
          "output_type": "execute_result",
          "data": {
            "text/plain": [
              "[1, 2, 3, 4, 5]"
            ]
          },
          "metadata": {},
          "execution_count": 128
        }
      ]
    },
    {
      "cell_type": "code",
      "source": [],
      "metadata": {
        "id": "jnBdQEo41QuB"
      },
      "execution_count": null,
      "outputs": []
    }
  ]
}