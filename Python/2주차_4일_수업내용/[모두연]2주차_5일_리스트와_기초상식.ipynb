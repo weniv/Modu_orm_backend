{
  "nbformat": 4,
  "nbformat_minor": 0,
  "metadata": {
    "colab": {
      "provenance": []
    },
    "kernelspec": {
      "name": "python3",
      "display_name": "Python 3"
    },
    "language_info": {
      "name": "python"
    }
  },
  "cells": [
    {
      "cell_type": "code",
      "source": [
        "a = 10\n",
        "b = a\n",
        "c = b\n",
        "\n",
        "print(c)\n",
        "\n",
        "a = 10\n",
        "b = a\n",
        "c = b\n",
        "a = 20\n",
        "print(c)\n",
        "\n",
        "a = 10\n",
        "b = a\n",
        "\n",
        "print(id(a))\n",
        "print(id(b))"
      ],
      "metadata": {
        "colab": {
          "base_uri": "https://localhost:8080/"
        },
        "id": "PykrHiYbSpFY",
        "outputId": "068cc0cb-c2c9-407a-fcb7-b92e9917c18c"
      },
      "execution_count": null,
      "outputs": [
        {
          "output_type": "stream",
          "name": "stdout",
          "text": [
            "10\n",
            "10\n",
            "132482025177616\n",
            "132482025177616\n"
          ]
        }
      ]
    },
    {
      "cell_type": "code",
      "source": [
        "# -5부터 256은 같습니다.\n",
        "a = 10\n",
        "b = 10\n",
        "\n",
        "print(id(a))\n",
        "print(id(b))\n",
        "print(a is b)\n",
        "\n",
        "\n",
        "a = 257\n",
        "b = 257\n",
        "\n",
        "print(id(a))\n",
        "print(id(b))\n",
        "print(a is b)"
      ],
      "metadata": {
        "colab": {
          "base_uri": "https://localhost:8080/"
        },
        "id": "mCjf7jMUTe1j",
        "outputId": "0a6d4e3e-e2cf-47e6-dfd5-7f63321dc0d9"
      },
      "execution_count": null,
      "outputs": [
        {
          "output_type": "stream",
          "name": "stdout",
          "text": [
            "132482025177616\n",
            "132482025177616\n",
            "True\n",
            "132480755317392\n",
            "132480755317296\n",
            "False\n"
          ]
        }
      ]
    },
    {
      "cell_type": "code",
      "source": [
        "0.1 + 0.2 # 0.1이 2진수로 표현했을 때 무한소수입니다."
      ],
      "metadata": {
        "colab": {
          "base_uri": "https://localhost:8080/"
        },
        "id": "N5-sEHJOJRE4",
        "outputId": "25443ea8-cb8a-4aec-b00e-b6582f1f8998"
      },
      "execution_count": null,
      "outputs": [
        {
          "output_type": "execute_result",
          "data": {
            "text/plain": [
              "0.30000000000000004"
            ]
          },
          "metadata": {},
          "execution_count": 1
        }
      ]
    },
    {
      "cell_type": "code",
      "source": [
        "# 회색 줄은 영문자 80자, 한글은 32자\n",
        "# PEP8, PEP20\n",
        "# 줄이 너무 길면 가독성이 떨어집니다.\n",
        "# Python 잘 하시는 분 보면 모든지 한 줄로 할려고 하는 분 만나는데\n",
        "# 이거 안좋은 습관입니다.\n",
        "\n",
        "print('hello worldhello worldhello worldhello worldhello worldhello worldhello worldhello world')\n",
        "\n",
        "# 해결책 1: 역슬러시 넣는 방법(저는 권고하지 않습니다!, 이스케이 문자랑 혼동될 수 있습니다.)\n",
        "print('hello worldhello worldhello worldhello worldhello worldhello worldhello \\\n",
        "worldhello world')\n",
        "print('hello world \\n hello world')\n",
        "\n",
        "# 해결책 2: 콤마를 찍지 않은 연결\n",
        "print('hello world' 'hello world')\n",
        "print('hello world'\n",
        "      'hello world')"
      ],
      "metadata": {
        "colab": {
          "base_uri": "https://localhost:8080/"
        },
        "id": "Uhpu_hdEJn4c",
        "outputId": "c624e14f-f0cf-4fd1-a238-9a85d170f5fd"
      },
      "execution_count": null,
      "outputs": [
        {
          "output_type": "stream",
          "name": "stdout",
          "text": [
            "hello worldhello worldhello worldhello worldhello worldhello worldhello worldhello world\n",
            "hello worldhello worldhello worldhello worldhello worldhello worldhello worldhello world\n",
            "hello world \n",
            " hello world\n",
            "hello worldhello world\n",
            "hello worldhello world\n"
          ]
        }
      ]
    },
    {
      "cell_type": "code",
      "source": [
        "# 질문: 메서드 체인으로 길어지면 어떻게 하나요?\n",
        "# 답: 메서드 체인으로 80자 이상이면 이미 가독성에 문제가 있는 것입니다.\n",
        "# 메서드 체이닝을 3개 이상을 하길 권하지 않습니다.(가독성이 악화됩니다.)\n",
        "\n",
        "# 문제 있는 코드\n",
        "'hello world'.upper().split(' ').pop().lower() # 이렇게 코딩하시면 제가 Reject합니다.\n",
        "\n",
        "# 문제가 덜한 코드\n",
        "대문자 = 'hello world'.upper()\n",
        "잘린대문자 = 대문자.split(' ')\n",
        "\n",
        "# 허용함\n",
        "'hello world'.upper()\\\n",
        "    .split(' ')\\\n",
        "    .pop()\\\n",
        "    .lower()\n",
        "\n",
        "# 허용함\n",
        "'hello world'.upper()   .split(' ')   .pop()   .lower()\n",
        "\n",
        "# 허용하지 않음(\\n)\n",
        "# 'hello world'.upper()\n",
        "#     .split(' ')\n",
        "#     .pop()\n",
        "#     .lower()\n",
        "\n",
        "# 허용하지 않음(\\n)\n",
        "# 'hello world'.upper()\n",
        "# .split(' ')\n",
        "# .pop()\n",
        "# .lower()"
      ],
      "metadata": {
        "colab": {
          "base_uri": "https://localhost:8080/",
          "height": 145
        },
        "id": "z4LL5xKkLZM6",
        "outputId": "d22e90d8-8dc3-4064-a654-0749382f2589"
      },
      "execution_count": null,
      "outputs": [
        {
          "output_type": "error",
          "ename": "SyntaxError",
          "evalue": "invalid syntax (<ipython-input-27-850e90d2bc58>, line 29)",
          "traceback": [
            "\u001b[0;36m  File \u001b[0;32m\"<ipython-input-27-850e90d2bc58>\"\u001b[0;36m, line \u001b[0;32m29\u001b[0m\n\u001b[0;31m    .split(' ')\u001b[0m\n\u001b[0m    ^\u001b[0m\n\u001b[0;31mSyntaxError\u001b[0m\u001b[0;31m:\u001b[0m invalid syntax\n"
          ]
        }
      ]
    },
    {
      "cell_type": "code",
      "source": [
        "# 문자열 메서드\n",
        "dir('hello world') # 메서드, 매직메서드, (클래스 변수, 인스턴스 변수)\n",
        "\n",
        "# 문제1: find와 index 차이\n",
        "# 실무에서 사용하는 코드:\n",
        "\n",
        "if 'hello world'.find('hi'): # 실무에서 자주 나오는 오류! 이렇게 코딩하시면 안됩니다.\n",
        "    print('찾았다!')\n",
        "\n",
        "# 문제2 isdigit의 정체\n",
        "'123'.isdigit()\n",
        "'12h3'.isdigit()\n",
        "\n",
        "# 문제3 replace가 어디까지 변환하는지?\n",
        "'hello world hello world'.replace('hello', 'hi') # 모두 다 변환이 됩니다. 몇 개만 변환이 되는 것이 아닙니다.\n",
        "# 알아두셔야 할 사항: replace는 정규표현식이 안됩니다!\n",
        "# replace를 정규표현식을 사용하고 싶으면 re.sub를 사용해야 합니다.\n",
        "\n",
        "# 문제4 strip(공백제거)\n",
        "# 문제5 zfill(앞에 0으로 채워주는 것, 원하는 자릿수만큼, 시간이나 연도)"
      ],
      "metadata": {
        "colab": {
          "base_uri": "https://localhost:8080/"
        },
        "id": "65HANRp0MSm5",
        "outputId": "3dc65497-65e1-4e72-a7a2-9ea391b86250"
      },
      "execution_count": null,
      "outputs": [
        {
          "output_type": "stream",
          "name": "stdout",
          "text": [
            "찾았다!\n"
          ]
        },
        {
          "output_type": "execute_result",
          "data": {
            "text/plain": [
              "['__add__',\n",
              " '__class__',\n",
              " '__contains__',\n",
              " '__delattr__',\n",
              " '__dir__',\n",
              " '__doc__',\n",
              " '__eq__',\n",
              " '__format__',\n",
              " '__ge__',\n",
              " '__getattribute__',\n",
              " '__getitem__',\n",
              " '__getnewargs__',\n",
              " '__gt__',\n",
              " '__hash__',\n",
              " '__init__',\n",
              " '__init_subclass__',\n",
              " '__iter__',\n",
              " '__le__',\n",
              " '__len__',\n",
              " '__lt__',\n",
              " '__mod__',\n",
              " '__mul__',\n",
              " '__ne__',\n",
              " '__new__',\n",
              " '__reduce__',\n",
              " '__reduce_ex__',\n",
              " '__repr__',\n",
              " '__rmod__',\n",
              " '__rmul__',\n",
              " '__setattr__',\n",
              " '__sizeof__',\n",
              " '__str__',\n",
              " '__subclasshook__',\n",
              " 'capitalize',\n",
              " 'casefold',\n",
              " 'center',\n",
              " 'count',\n",
              " 'encode',\n",
              " 'endswith',\n",
              " 'expandtabs',\n",
              " 'find',\n",
              " 'format',\n",
              " 'format_map',\n",
              " 'index',\n",
              " 'isalnum',\n",
              " 'isalpha',\n",
              " 'isascii',\n",
              " 'isdecimal',\n",
              " 'isdigit',\n",
              " 'isidentifier',\n",
              " 'islower',\n",
              " 'isnumeric',\n",
              " 'isprintable',\n",
              " 'isspace',\n",
              " 'istitle',\n",
              " 'isupper',\n",
              " 'join',\n",
              " 'ljust',\n",
              " 'lower',\n",
              " 'lstrip',\n",
              " 'maketrans',\n",
              " 'partition',\n",
              " 'removeprefix',\n",
              " 'removesuffix',\n",
              " 'replace',\n",
              " 'rfind',\n",
              " 'rindex',\n",
              " 'rjust',\n",
              " 'rpartition',\n",
              " 'rsplit',\n",
              " 'rstrip',\n",
              " 'split',\n",
              " 'splitlines',\n",
              " 'startswith',\n",
              " 'strip',\n",
              " 'swapcase',\n",
              " 'title',\n",
              " 'translate',\n",
              " 'upper',\n",
              " 'zfill']"
            ]
          },
          "metadata": {},
          "execution_count": 20
        }
      ]
    },
    {
      "cell_type": "markdown",
      "source": [
        "# 리스트\n",
        "* 변경이 가능한 자료형\n",
        "* 순서가 있는 자료형(시퀀스형 자료형, 인덱싱, 슬라이싱)"
      ],
      "metadata": {
        "id": "i1tG5EIKGSdt"
      }
    },
    {
      "cell_type": "code",
      "execution_count": null,
      "metadata": {
        "id": "701LxG_NGR0Y"
      },
      "outputs": [],
      "source": [
        "l = [10, 20, 30]\n",
        "\n",
        "# 라인 수가 길어졌을 때에는 이렇게 사용하시길 권합니다.\n",
        "# 권고1\n",
        "l = [10,\n",
        "     20,\n",
        "     30] # 됩니다!\n",
        "\n",
        "l = [\n",
        "    10,\n",
        "    20,\n",
        "    30\n",
        "] # 됩니다!\n",
        "\n",
        "# 권고2 (이렇게 실무에서 더 많이 사용합니다.)\n",
        "l = [\n",
        "    10,\n",
        "    20,\n",
        "    30,\n",
        "]\n",
        "# 문제가 있습니다! 통신을 할 때에는 JSON이라는 형식을 사용하게 되는데\n",
        "# JSON은 마지막에 콤마를 허용하지 않습니다!\n",
        "\n",
        "# why? 문제가 있는 2번이 더 많이 사용되는 이유?\n",
        "# 실무에서는 콤마를 버전업으로 인식하는 경우도 많고,\n",
        "# 콤마를 빼먹는 경우가 많습니다.\n",
        "# 편의성: Ctrl + C, Ctrl + V하기가 편합니다.\n",
        "# 자동 변환 SW를 사용합니다.(python black formatter) => 권고!!!"
      ]
    },
    {
      "cell_type": "code",
      "source": [
        "l = [10, 20, 30]\n",
        "l[2]"
      ],
      "metadata": {
        "colab": {
          "base_uri": "https://localhost:8080/"
        },
        "id": "9G-osO-BSjtx",
        "outputId": "c9791357-0415-4808-ff74-c85bc917edc3"
      },
      "execution_count": null,
      "outputs": [
        {
          "output_type": "execute_result",
          "data": {
            "text/plain": [
              "30"
            ]
          },
          "metadata": {},
          "execution_count": 29
        }
      ]
    },
    {
      "cell_type": "code",
      "source": [
        "# str은 안됩니다!\n",
        "s = 'hello world'\n",
        "# s[0] = 'y'\n",
        "\n",
        "print(s.replace('h', 'y'))\n",
        "print(s)"
      ],
      "metadata": {
        "colab": {
          "base_uri": "https://localhost:8080/"
        },
        "id": "k_hP7XWNYNcA",
        "outputId": "736f1c00-247a-445c-ab20-90570038a0f0"
      },
      "execution_count": null,
      "outputs": [
        {
          "output_type": "stream",
          "name": "stdout",
          "text": [
            "yello world\n",
            "hello world\n"
          ]
        }
      ]
    },
    {
      "cell_type": "code",
      "source": [
        "# 정답1\n",
        "s = s.replace('h', 'y')\n",
        "\n",
        "# 정답2\n",
        "s = 'y' + s[1:] # 신경써야 하나요? black formatter에서 자동으로 해줍니다. 나중에는 익숙해지니 너무 걱정하지 마세요."
      ],
      "metadata": {
        "id": "uQK3VixtYy-_"
      },
      "execution_count": null,
      "outputs": []
    },
    {
      "cell_type": "code",
      "source": [
        "l = [10, 20, 30]\n",
        "l[2] = 1000\n",
        "print(l)"
      ],
      "metadata": {
        "colab": {
          "base_uri": "https://localhost:8080/"
        },
        "id": "ScudwytAZQtK",
        "outputId": "83714fd3-4236-4995-cf1c-122c2083c250"
      },
      "execution_count": null,
      "outputs": [
        {
          "output_type": "stream",
          "name": "stdout",
          "text": [
            "[10, 20, 1000]\n"
          ]
        }
      ]
    },
    {
      "cell_type": "code",
      "source": [
        "l = [10, 20, 30, 40, 50]\n",
        "l[-1]\n",
        "l[-2:] # 마이너스 인덱싱, 마이너스 슬라이싱은 최종적으로 양수로 치환됩니다.\n",
        "l[3:]\n",
        "# 변수명[stop]\n",
        "# 변수명[start:stop]\n",
        "# 변수명[start:stop:step]"
      ],
      "metadata": {
        "colab": {
          "base_uri": "https://localhost:8080/"
        },
        "id": "eUrFH-OfZSKl",
        "outputId": "2dc503ae-7217-47da-f943-2950baa29430"
      },
      "execution_count": null,
      "outputs": [
        {
          "output_type": "execute_result",
          "data": {
            "text/plain": [
              "[40, 50]"
            ]
          },
          "metadata": {},
          "execution_count": 35
        }
      ]
    },
    {
      "cell_type": "code",
      "source": [
        "type(l), dir(l)\n",
        "# type은 검색 키워드, GPT 질문 키워드가 될 수 있습니다.\n",
        "# dir은 대략적인 속성을 알 수 있습니다."
      ],
      "metadata": {
        "id": "sADQCVflaYpf"
      },
      "execution_count": null,
      "outputs": []
    },
    {
      "cell_type": "code",
      "source": [
        "# __add__가 있으니 더하기는 어디까지 될까? => 테스트\n",
        "# __mul__이 있으니 곱하기는 어디까지 될까? => 테스트\n",
        "\n",
        "l = [10, 20, 30]\n",
        "# l + 100 # 정수 더하기는 안됩니다!\n",
        "l + [100]\n",
        "l + [100, 200]\n",
        "l * 3 # 정수 곱하기는 됩니다!\n",
        "# l * [1, 2] # 리스트 곱하기는 안됩니다."
      ],
      "metadata": {
        "id": "jExT4-jvZ_7Y"
      },
      "execution_count": null,
      "outputs": []
    },
    {
      "cell_type": "code",
      "source": [
        "l = [1, 2, 3] * 3\n",
        "l[1] = 1000\n",
        "l"
      ],
      "metadata": {
        "colab": {
          "base_uri": "https://localhost:8080/"
        },
        "id": "0q7BqP8iZnPj",
        "outputId": "f9c90b6b-7fe5-4305-f2da-2ec88222b311"
      },
      "execution_count": null,
      "outputs": [
        {
          "output_type": "execute_result",
          "data": {
            "text/plain": [
              "[1, 1000, 3, 1, 2, 3, 1, 2, 3]"
            ]
          },
          "metadata": {},
          "execution_count": 42
        }
      ]
    },
    {
      "cell_type": "code",
      "source": [
        "# 리스트 곱하기는 매우 주의해야 합니다!\n",
        "# 곱하기가 2중으로 있을 때에는 나중에 배울 리스트컴프리헨션 사용해주세요!\n",
        "l = [[1, 2, 3] * 3] * 2\n",
        "l[1][0] = 1000\n",
        "l"
      ],
      "metadata": {
        "colab": {
          "base_uri": "https://localhost:8080/"
        },
        "id": "M791yYQjcNQw",
        "outputId": "07c93a28-1651-49c3-9b2f-8026e7031fb5"
      },
      "execution_count": null,
      "outputs": [
        {
          "output_type": "execute_result",
          "data": {
            "text/plain": [
              "[[1000, 2, 3, 1, 2, 3, 1, 2, 3], [1000, 2, 3, 1, 2, 3, 1, 2, 3]]"
            ]
          },
          "metadata": {},
          "execution_count": 44
        }
      ]
    },
    {
      "cell_type": "code",
      "source": [
        "l[1][1] = 10000\n",
        "l"
      ],
      "metadata": {
        "colab": {
          "base_uri": "https://localhost:8080/"
        },
        "id": "tr7HcGhRcXHW",
        "outputId": "162a10ff-6322-45bb-c7f6-d590c892ed4a"
      },
      "execution_count": null,
      "outputs": [
        {
          "output_type": "execute_result",
          "data": {
            "text/plain": [
              "[[1000, 10000, 3, 1, 2, 3, 1, 2, 3], [1000, 10000, 3, 1, 2, 3, 1, 2, 3]]"
            ]
          },
          "metadata": {},
          "execution_count": 45
        }
      ]
    },
    {
      "cell_type": "code",
      "source": [
        "# 암기해주세요.\n",
        "x = 10 # 스칼라\n",
        "x = [10] # 벡터\n",
        "x = [10, 20] # 벡터\n",
        "x = [[10, 20], [10, 20]] # 메트릭스(행렬)\n",
        "x = [[[10, 20], [10, 20]], [[10, 20], [10, 20]]] #텐서(3차원 이상 행렬)"
      ],
      "metadata": {
        "id": "_cPChiw5cwK6"
      },
      "execution_count": null,
      "outputs": []
    },
    {
      "cell_type": "code",
      "source": [
        "# 텐서플로? google에서 만든 딥러닝 라이브러리\n",
        "# 인공지능 => 행렬의 연산"
      ],
      "metadata": {
        "id": "U0S5bQlQd14r"
      },
      "execution_count": null,
      "outputs": []
    },
    {
      "cell_type": "code",
      "source": [
        "x = [[1, 2], [3, 4], [5, 6]]\n",
        "x[1]\n",
        "x[1][1]"
      ],
      "metadata": {
        "colab": {
          "base_uri": "https://localhost:8080/"
        },
        "id": "ygeEcLhseYVb",
        "outputId": "7a7dd65e-5dcf-4b5f-ef3b-4f6fa1f63ff6"
      },
      "execution_count": null,
      "outputs": [
        {
          "output_type": "execute_result",
          "data": {
            "text/plain": [
              "4"
            ]
          },
          "metadata": {},
          "execution_count": 48
        }
      ]
    },
    {
      "cell_type": "code",
      "source": [
        "# Ctrl + Alt + 화살표 위나 아래, `print(` 입력했고, end버튼 눌렀고, `)` 입력했습니다.\n",
        "x = [[1, 2], [3, 'hello world'], [5, 6]]\n",
        "print(x[1])\n",
        "print(x[1][1])\n",
        "print(x[1][1][6:])"
      ],
      "metadata": {
        "colab": {
          "base_uri": "https://localhost:8080/"
        },
        "id": "ptSD8ylmewjR",
        "outputId": "7e021099-3102-4186-e848-9d4d5f6ffd2d"
      },
      "execution_count": null,
      "outputs": [
        {
          "output_type": "stream",
          "name": "stdout",
          "text": [
            "[3, 'hello world']\n",
            "hello world\n",
            "world\n"
          ]
        }
      ]
    },
    {
      "cell_type": "code",
      "source": [
        "x = 10\n",
        "\n",
        "# 다르다는 것만 인지해주세요!\n",
        "# print를 하는 것과 맨 마지막 출력하는 것은 다릅니다!\n",
        "print(x) # __str__\n",
        "x # __repr__"
      ],
      "metadata": {
        "id": "5n-vemjye8on"
      },
      "execution_count": null,
      "outputs": []
    },
    {
      "cell_type": "code",
      "source": [
        "# Python > 자료형 > list > 메서드\n",
        "\n",
        "l = [10, 20, 30]\n",
        "dir(l)\n",
        "\n",
        "# Shift + Tab\n",
        "# Ctrl + [, Ctrl + ]\n",
        "'append',\n",
        "'clear',\n",
        "'copy',\n",
        "'count',\n",
        "'extend',\n",
        "'index',\n",
        "'insert',\n",
        "'pop',\n",
        "'remove',\n",
        "'reverse',\n",
        "'sort'"
      ],
      "metadata": {
        "id": "roiCjrMLgL2n"
      },
      "execution_count": null,
      "outputs": []
    },
    {
      "cell_type": "code",
      "source": [
        "l.append(100)\n",
        "l"
      ],
      "metadata": {
        "colab": {
          "base_uri": "https://localhost:8080/"
        },
        "id": "Dp5VQPmHgPRX",
        "outputId": "284160b0-0345-422e-bcdd-e340302f8027"
      },
      "execution_count": null,
      "outputs": [
        {
          "output_type": "execute_result",
          "data": {
            "text/plain": [
              "[10, 20, 30, 100]"
            ]
          },
          "metadata": {},
          "execution_count": 57
        }
      ]
    },
    {
      "cell_type": "code",
      "source": [
        "# 앞에다 넣는 방법 1\n",
        "l = [1000] + l\n",
        "\n",
        "# 앞에다 넣는 방법 2\n",
        "x = 10000\n",
        "l = [x] + l[:]\n",
        "\n",
        "# 앞에다 넣는 방법 3\n",
        "l.insert(0, 999)\n",
        "l"
      ],
      "metadata": {
        "colab": {
          "base_uri": "https://localhost:8080/"
        },
        "id": "mu6tQffwgvZI",
        "outputId": "4875bc40-be11-43c9-f1ee-3c24546ec348"
      },
      "execution_count": null,
      "outputs": [
        {
          "output_type": "execute_result",
          "data": {
            "text/plain": [
              "[999, 10000, 1000, 10, 20, 30, 100]"
            ]
          },
          "metadata": {},
          "execution_count": 58
        }
      ]
    },
    {
      "cell_type": "code",
      "source": [
        "l = [10, 20, 30, 40]\n",
        "l.pop() # 뒤에서 값을 꺼내는 방법\n",
        "l"
      ],
      "metadata": {
        "colab": {
          "base_uri": "https://localhost:8080/"
        },
        "id": "9ifwH7-Thrtl",
        "outputId": "7777d5c6-11d8-4e44-f5aa-5bef8bbf3a6a"
      },
      "execution_count": null,
      "outputs": [
        {
          "output_type": "execute_result",
          "data": {
            "text/plain": [
              "[10, 20, 30]"
            ]
          },
          "metadata": {},
          "execution_count": 60
        }
      ]
    },
    {
      "cell_type": "code",
      "source": [
        "l = [10, 20, 30, 40]\n",
        "l.pop(0) # 앞에서 값을 꺼내는 방법\n",
        "l"
      ],
      "metadata": {
        "colab": {
          "base_uri": "https://localhost:8080/"
        },
        "id": "fhMvPUT4kWql",
        "outputId": "ad1be982-affc-4db4-fb66-d26fcbc8816b"
      },
      "execution_count": null,
      "outputs": [
        {
          "output_type": "execute_result",
          "data": {
            "text/plain": [
              "[20, 30, 40]"
            ]
          },
          "metadata": {},
          "execution_count": 61
        }
      ]
    },
    {
      "cell_type": "code",
      "source": [
        "l = [10, 20, 30, 40]\n",
        "l[:-1] # l = l[:-1]\n",
        "l[1:] # l = l[1:]"
      ],
      "metadata": {
        "colab": {
          "base_uri": "https://localhost:8080/"
        },
        "id": "nj7spaUPkfn-",
        "outputId": "77aac02b-150e-4815-b9fa-97f75076561b"
      },
      "execution_count": null,
      "outputs": [
        {
          "output_type": "execute_result",
          "data": {
            "text/plain": [
              "[20, 30, 40]"
            ]
          },
          "metadata": {},
          "execution_count": 63
        }
      ]
    },
    {
      "cell_type": "code",
      "source": [
        "l = [10, 20, 30, 40]\n",
        "l.index(20)"
      ],
      "metadata": {
        "id": "DMkdQWWMknvr"
      },
      "execution_count": null,
      "outputs": []
    },
    {
      "cell_type": "code",
      "source": [
        "# keep\n",
        "# index가 애러가 납니다. error 없이 코드를 짜고 싶어요.\n",
        "# 슬라이싱을 사용합니다. => 슬라이싱은 index가 벗어나더라도 애러가 나지 않습니다.\n",
        "\n",
        "l = [10, 20, 30, 40]\n",
        "l[100:101]"
      ],
      "metadata": {
        "colab": {
          "base_uri": "https://localhost:8080/"
        },
        "id": "uSW53BTPlMKF",
        "outputId": "f631c530-c025-475e-b222-2d9a91854ca2"
      },
      "execution_count": null,
      "outputs": [
        {
          "output_type": "execute_result",
          "data": {
            "text/plain": [
              "[]"
            ]
          },
          "metadata": {},
          "execution_count": 68
        }
      ]
    },
    {
      "cell_type": "code",
      "source": [
        "l = [10, 20, 30, 40]\n",
        "l.clear()\n",
        "l"
      ],
      "metadata": {
        "colab": {
          "base_uri": "https://localhost:8080/"
        },
        "id": "YjuNapeelnyN",
        "outputId": "bd6a1ddf-8a45-481c-8f7a-420738eb75fa"
      },
      "execution_count": null,
      "outputs": [
        {
          "output_type": "execute_result",
          "data": {
            "text/plain": [
              "[]"
            ]
          },
          "metadata": {},
          "execution_count": 70
        }
      ]
    },
    {
      "cell_type": "code",
      "source": [
        "l = [10, 20, 30, 40]\n",
        "ll = l\n",
        "\n",
        "l[0] = 1000\n",
        "ll\n",
        "\n",
        "id(l), id(ll)\n",
        "l is ll"
      ],
      "metadata": {
        "colab": {
          "base_uri": "https://localhost:8080/"
        },
        "id": "MrHdAzHZl4nC",
        "outputId": "a8753d2d-2511-42d3-b8a5-badc417e5e4b"
      },
      "execution_count": null,
      "outputs": [
        {
          "output_type": "execute_result",
          "data": {
            "text/plain": [
              "True"
            ]
          },
          "metadata": {},
          "execution_count": 72
        }
      ]
    },
    {
      "cell_type": "code",
      "source": [
        "l = [10, 20, 30, 40]\n",
        "ll = l.copy() # 얕은 복사와 깊은 복사가 있는데 이 개념은 뒤에서 알려드립니다.\n",
        "\n",
        "l[0] = 1000\n",
        "ll\n",
        "\n",
        "id(l), id(ll)\n",
        "l is ll\n",
        "l, ll"
      ],
      "metadata": {
        "colab": {
          "base_uri": "https://localhost:8080/"
        },
        "id": "GMn86ye8mOC1",
        "outputId": "2231f2db-7f25-48f2-d574-4971d81d389b"
      },
      "execution_count": null,
      "outputs": [
        {
          "output_type": "execute_result",
          "data": {
            "text/plain": [
              "([1000, 20, 30, 40], [10, 20, 30, 40])"
            ]
          },
          "metadata": {},
          "execution_count": 77
        }
      ]
    },
    {
      "cell_type": "code",
      "source": [
        "l = [10, 20, 30, 40]\n",
        "ll = l[:] # 얕은 복사와 깊은 복사가 있는데 이 개념은 뒤에서 알려드립니다.\n",
        "\n",
        "l[0] = 1000\n",
        "l, ll"
      ],
      "metadata": {
        "colab": {
          "base_uri": "https://localhost:8080/"
        },
        "id": "YOd0hJqTmrSP",
        "outputId": "81d87c6c-d6ee-4ea0-ebb3-7107ebbc0685"
      },
      "execution_count": null,
      "outputs": [
        {
          "output_type": "execute_result",
          "data": {
            "text/plain": [
              "([1000, 20, 30, 40], [10, 20, 30, 40])"
            ]
          },
          "metadata": {},
          "execution_count": 76
        }
      ]
    },
    {
      "cell_type": "code",
      "source": [
        "l = [1, 1, 1, 2, 2, 2, 3, 3]\n",
        "l.count(1)"
      ],
      "metadata": {
        "colab": {
          "base_uri": "https://localhost:8080/"
        },
        "id": "FZ99W2Pmm9uN",
        "outputId": "cb567f44-0968-4789-a47a-dd1801cc2ad6"
      },
      "execution_count": null,
      "outputs": [
        {
          "output_type": "execute_result",
          "data": {
            "text/plain": [
              "3"
            ]
          },
          "metadata": {},
          "execution_count": 78
        }
      ]
    },
    {
      "cell_type": "code",
      "source": [
        "l = ['1', '1', 1, 2, 2, 2, 3, 3]\n",
        "l.count(1)"
      ],
      "metadata": {
        "colab": {
          "base_uri": "https://localhost:8080/"
        },
        "id": "eNbZ_cFInDnT",
        "outputId": "31a2cfdd-0f71-4aec-c1d8-6045c46ac3fe"
      },
      "execution_count": null,
      "outputs": [
        {
          "output_type": "execute_result",
          "data": {
            "text/plain": [
              "1"
            ]
          },
          "metadata": {},
          "execution_count": 79
        }
      ]
    },
    {
      "cell_type": "code",
      "source": [
        "# 분위기 환기차 해드리는 것입니다.\n",
        "# 이해하지 못하셔도 괜찮습니다.\n",
        "# https://codingdojang.com/scode/393?answer_mode=hide\n",
        "str([1, 2, 3, 4, 5, 6, 7, 8, 9, 10, 11, 12, 13, 14, 15]).count('1')\n",
        "# str(1부터_10000까지_리스트).count('8')\n",
        "list(range(10))\n",
        "str(list(range(20)))\n",
        "str(list(range(20))).count('8')"
      ],
      "metadata": {
        "colab": {
          "base_uri": "https://localhost:8080/"
        },
        "id": "KgPdoo7JoAgr",
        "outputId": "5bf51818-c3b2-4393-c62c-99fed2494f4d"
      },
      "execution_count": null,
      "outputs": [
        {
          "output_type": "execute_result",
          "data": {
            "text/plain": [
              "2"
            ]
          },
          "metadata": {},
          "execution_count": 84
        }
      ]
    },
    {
      "cell_type": "code",
      "source": [
        "l = [10, 20, 30, 40]\n",
        "l.extend([50, 60])\n",
        "l"
      ],
      "metadata": {
        "colab": {
          "base_uri": "https://localhost:8080/"
        },
        "id": "acCPTW7HpDn8",
        "outputId": "94fcae15-d5c2-4b4a-f8c8-1d048049dbaf"
      },
      "execution_count": null,
      "outputs": [
        {
          "output_type": "execute_result",
          "data": {
            "text/plain": [
              "[10, 20, 30, 40, 50, 60]"
            ]
          },
          "metadata": {},
          "execution_count": 85
        }
      ]
    },
    {
      "cell_type": "code",
      "source": [
        "l = [10, 20, 30, 40]\n",
        "l.append([50, 60]) # 이것만 기억하셔도 좋습니다. 이렇게 많이 사용합니다.\n",
        "l"
      ],
      "metadata": {
        "colab": {
          "base_uri": "https://localhost:8080/"
        },
        "id": "dsGzze8kpKjh",
        "outputId": "00079a79-1837-444c-977d-ef54b7eb4ba3"
      },
      "execution_count": null,
      "outputs": [
        {
          "output_type": "execute_result",
          "data": {
            "text/plain": [
              "[10, 20, 30, 40, [50, 60]]"
            ]
          },
          "metadata": {},
          "execution_count": 86
        }
      ]
    },
    {
      "cell_type": "code",
      "source": [
        "l = [10, 20, 30, 40]\n",
        "l.extend('hello') # extend(보통리스트), extend(순회가능한객체)\n",
        "l"
      ],
      "metadata": {
        "colab": {
          "base_uri": "https://localhost:8080/"
        },
        "id": "5yE_K4EupNzB",
        "outputId": "e95c0eef-55de-4917-a2a9-32c8063fd5dc"
      },
      "execution_count": null,
      "outputs": [
        {
          "output_type": "execute_result",
          "data": {
            "text/plain": [
              "[10, 20, 30, 40, 'h', 'e', 'l', 'l', 'o']"
            ]
          },
          "metadata": {},
          "execution_count": 87
        }
      ]
    },
    {
      "cell_type": "code",
      "source": [
        "l = [1, 1, 1, 1, 2, 2, 3, 3, 3]\n",
        "l.remove(1) # 한가지 요소를 지울 때 사용\n",
        "l"
      ],
      "metadata": {
        "colab": {
          "base_uri": "https://localhost:8080/"
        },
        "id": "0xUlYr6upulz",
        "outputId": "4b81fb63-b7aa-4191-908e-b13709a703a3"
      },
      "execution_count": null,
      "outputs": [
        {
          "output_type": "execute_result",
          "data": {
            "text/plain": [
              "[1, 1, 1, 2, 2, 3, 3, 3]"
            ]
          },
          "metadata": {},
          "execution_count": 88
        }
      ]
    },
    {
      "cell_type": "code",
      "source": [
        "# 이해하지 않으셔도 됩니다.\n",
        "# 여기서 catch해야할 포인트는 모든 요소를 filtering하고 싶을 때에는\n",
        "# remove가 아니라 filter라는 것을 사용한다!\n",
        "def f(x):\n",
        "    return x != 1\n",
        "\n",
        "l = [1, 1, 1, 1, 2, 2, 3, 3, 3]\n",
        "list(filter(f, l))"
      ],
      "metadata": {
        "colab": {
          "base_uri": "https://localhost:8080/"
        },
        "id": "5KwzEIi6qIt_",
        "outputId": "03c986b8-adcf-4e49-855d-7c9ad3de4d8e"
      },
      "execution_count": null,
      "outputs": [
        {
          "output_type": "execute_result",
          "data": {
            "text/plain": [
              "[2, 2, 3, 3, 3]"
            ]
          },
          "metadata": {},
          "execution_count": 90
        }
      ]
    },
    {
      "cell_type": "code",
      "source": [
        "l = [1, 2, 3, 4, 9, 5, 6, 7]\n",
        "l.reverse()\n",
        "l # 역정렬은 아닙니다. # 원본이 변합니다.(입력된 원본은 대부분 보존하려 노력합니다.)\n",
        "\n",
        "# 역순은 단순히 순서를 뒤집는 것이고\n",
        "# 역 정렬은 정렬의 역순입니다."
      ],
      "metadata": {
        "colab": {
          "base_uri": "https://localhost:8080/"
        },
        "id": "7qgIc1amk9Dw",
        "outputId": "e11acb54-4d44-41c3-963c-8d0ad1f07f64"
      },
      "execution_count": null,
      "outputs": [
        {
          "output_type": "execute_result",
          "data": {
            "text/plain": [
              "[7, 6, 5, 9, 4, 3, 2, 1]"
            ]
          },
          "metadata": {},
          "execution_count": 91
        }
      ]
    },
    {
      "cell_type": "code",
      "source": [
        "# reversed는 잊으셔도 됩니다. l.reverse만 기억하세요.\n",
        "l = [1, 2, 3, 4, 9, 5, 6, 7]\n",
        "list(reversed(l)) # reversed는 원본을 변경하지 않습니다."
      ],
      "metadata": {
        "colab": {
          "base_uri": "https://localhost:8080/"
        },
        "id": "g0q1ZglbrGPS",
        "outputId": "56563d9b-c05b-402d-dea3-9553313a1da5"
      },
      "execution_count": null,
      "outputs": [
        {
          "output_type": "execute_result",
          "data": {
            "text/plain": [
              "[7, 6, 5, 9, 4, 3, 2, 1]"
            ]
          },
          "metadata": {},
          "execution_count": 93
        }
      ]
    },
    {
      "cell_type": "code",
      "source": [
        "l = [1, 2, 3, 4, 9, 5, 6, 7]\n",
        "l.sort()\n",
        "l # 원본을 바꾸는 정렬"
      ],
      "metadata": {
        "colab": {
          "base_uri": "https://localhost:8080/"
        },
        "id": "gIeWQJ8RrnuO",
        "outputId": "23a51f12-63b2-4521-f06e-fc8745ac4710"
      },
      "execution_count": null,
      "outputs": [
        {
          "output_type": "execute_result",
          "data": {
            "text/plain": [
              "[1, 2, 3, 4, 5, 6, 7, 9]"
            ]
          },
          "metadata": {},
          "execution_count": 94
        }
      ]
    },
    {
      "cell_type": "code",
      "source": [
        "l = [1, 2, 3, 4, 9, 5, 6, 7]\n",
        "l.sort()\n",
        "l.reverse()\n",
        "l # 원본을 바꾸는 역정렬"
      ],
      "metadata": {
        "colab": {
          "base_uri": "https://localhost:8080/"
        },
        "id": "DfGpFHxdsujZ",
        "outputId": "268200d2-e8b4-4e33-9cc4-14cb78c96668"
      },
      "execution_count": null,
      "outputs": [
        {
          "output_type": "execute_result",
          "data": {
            "text/plain": [
              "[9, 7, 6, 5, 4, 3, 2, 1]"
            ]
          },
          "metadata": {},
          "execution_count": 95
        }
      ]
    },
    {
      "cell_type": "code",
      "source": [
        "# sorted는 잊으셔도 됩니다. l.sort만 기억하세요.\n",
        "l = [1, 2, 3, 4, 9, 5, 6, 7]\n",
        "sorted(l) # sorted 원본을 변경하지 않습니다."
      ],
      "metadata": {
        "colab": {
          "base_uri": "https://localhost:8080/"
        },
        "id": "odLNyKNXs0Zv",
        "outputId": "617bfa95-d59c-4e05-deac-2600102a39ef"
      },
      "execution_count": null,
      "outputs": [
        {
          "output_type": "execute_result",
          "data": {
            "text/plain": [
              "[1, 2, 3, 4, 5, 6, 7, 9]"
            ]
          },
          "metadata": {},
          "execution_count": 96
        }
      ]
    },
    {
      "cell_type": "code",
      "source": [
        "# sort, sorted, reverse, reversed 알고리즘 문제에서도 1개 문제는 거의 나온다고 보시면 됩니다.\n",
        "# 옵션 값은 하지 않았습니다.\n",
        "# 옵션 값을 하지 않은 이유 : 함수까지는 배우셔야 좀 더 고급 문법이 가능합니다."
      ],
      "metadata": {
        "id": "VmomtowitIwr"
      },
      "execution_count": null,
      "outputs": []
    },
    {
      "cell_type": "code",
      "source": [
        "# 어떻게 사용되는지만 체크! (뒤에서 다시 하겠습니다.)\n",
        "# 국어 점수가 가장 높은 순으로 정렬해주세요.\n",
        "# 국, 영, 수, 이름\n",
        "s = [[100, 87, 91, '이호준'], [56, 38, 89, '이준호'], [33, 86, 100, '홍길동']]\n",
        "\n",
        "def f(x):\n",
        "    return x[0]\n",
        "\n",
        "sorted(s, key=f)\n",
        "sorted(s, key=f, reverse=True)"
      ],
      "metadata": {
        "colab": {
          "base_uri": "https://localhost:8080/"
        },
        "id": "gZshkz0LuR3e",
        "outputId": "64669505-159b-45e6-e62f-f9acd73b5d59"
      },
      "execution_count": null,
      "outputs": [
        {
          "output_type": "execute_result",
          "data": {
            "text/plain": [
              "[[100, 87, 91, '이호준'], [56, 38, 89, '이준호'], [33, 86, 100, '홍길동']]"
            ]
          },
          "metadata": {},
          "execution_count": 98
        }
      ]
    },
    {
      "cell_type": "code",
      "source": [
        "# 평균 점수가 가장 높은 순으로 정렬해주세요.\n",
        "s = [[100, 87, 91, '이호준'], [56, 38, 89, '이준호'], [33, 86, 100, '홍길동']]\n",
        "\n",
        "def f(x):\n",
        "    return x[0] + x[1] + x[2]\n",
        "\n",
        "sorted(s, key=f)\n",
        "sorted(s, key=f, reverse=True)"
      ],
      "metadata": {
        "colab": {
          "base_uri": "https://localhost:8080/"
        },
        "id": "LkXTApREvA-W",
        "outputId": "b89a59aa-45a1-4ef0-9319-d0bad9b851ac"
      },
      "execution_count": null,
      "outputs": [
        {
          "output_type": "execute_result",
          "data": {
            "text/plain": [
              "[[100, 87, 91, '이호준'], [33, 86, 100, '홍길동'], [56, 38, 89, '이준호']]"
            ]
          },
          "metadata": {},
          "execution_count": 99
        }
      ]
    },
    {
      "cell_type": "markdown",
      "source": [
        "# 튜플\n",
        "* 순서가 있는 자료형입니다.(인덱싱, 슬라이싱)\n",
        "* 참조 변경 불가입니다.(값이 변경이 불가하다고 얘기하면 이것은 틀린 얘기입니다.)"
      ],
      "metadata": {
        "id": "_zzanCEqAJUM"
      }
    },
    {
      "cell_type": "code",
      "source": [
        "t = (10, 20, 30) # 소괄호"
      ],
      "metadata": {
        "id": "BijaeHFCu0vp"
      },
      "execution_count": 100,
      "outputs": []
    },
    {
      "cell_type": "code",
      "source": [
        "t[0]"
      ],
      "metadata": {
        "colab": {
          "base_uri": "https://localhost:8080/"
        },
        "id": "d2CO_NX8C-K7",
        "outputId": "2e9fa0f6-6fad-4a32-f0b5-b2e8bdd053d3"
      },
      "execution_count": 101,
      "outputs": [
        {
          "output_type": "execute_result",
          "data": {
            "text/plain": [
              "10"
            ]
          },
          "metadata": {},
          "execution_count": 101
        }
      ]
    },
    {
      "cell_type": "code",
      "source": [
        "t[1:]"
      ],
      "metadata": {
        "colab": {
          "base_uri": "https://localhost:8080/"
        },
        "id": "i032LNyVC_QI",
        "outputId": "e08c229c-71c7-4c03-d4e6-90257fcb7813"
      },
      "execution_count": 102,
      "outputs": [
        {
          "output_type": "execute_result",
          "data": {
            "text/plain": [
              "(20, 30)"
            ]
          },
          "metadata": {},
          "execution_count": 102
        }
      ]
    },
    {
      "cell_type": "code",
      "source": [
        "t[0] = 1000"
      ],
      "metadata": {
        "id": "eQ8uGsu9DAG4"
      },
      "execution_count": null,
      "outputs": []
    },
    {
      "cell_type": "code",
      "source": [
        "# 1번째 왜 이런 자료형이 필요할까요?\n",
        "# * 권한과 변경불가(시큐어 코딩), 형태 고정인 자료형(딕셔너리와 같은 것)\n",
        "\n",
        "# 2번째 변경이 불가능한데 왜 '값이 변경이 불가하다고 얘기하면 이것은 틀린 얘기입니다'라고 얘기하셨나요?\n",
        "a = [10, 20, 30]\n",
        "b = (a, 100, 200)\n",
        "b"
      ],
      "metadata": {
        "colab": {
          "base_uri": "https://localhost:8080/"
        },
        "id": "SHxO7nqgDDZj",
        "outputId": "3f3467c9-6ed4-499c-b026-2646c117aba8"
      },
      "execution_count": 105,
      "outputs": [
        {
          "output_type": "execute_result",
          "data": {
            "text/plain": [
              "([10, 20, 30], 100, 200)"
            ]
          },
          "metadata": {},
          "execution_count": 105
        }
      ]
    },
    {
      "cell_type": "code",
      "source": [
        "a[0] = 1000\n",
        "b"
      ],
      "metadata": {
        "colab": {
          "base_uri": "https://localhost:8080/"
        },
        "id": "jLZzp1EtExLg",
        "outputId": "3ea8d0ad-fd94-4551-ef0a-ebc07d278485"
      },
      "execution_count": 106,
      "outputs": [
        {
          "output_type": "execute_result",
          "data": {
            "text/plain": [
              "([1000, 20, 30], 100, 200)"
            ]
          },
          "metadata": {},
          "execution_count": 106
        }
      ]
    },
    {
      "cell_type": "code",
      "source": [
        "t = (10, 20, 30)\n",
        "dir(t)\n",
        "\n",
        "'count'\n",
        "'index'"
      ],
      "metadata": {
        "id": "qIrRROJBFZNU"
      },
      "execution_count": null,
      "outputs": []
    },
    {
      "cell_type": "code",
      "source": [
        "t.count(10) # 10의 갯수를 반환\n",
        "t.index(10) # 10의 위치를 반환"
      ],
      "metadata": {
        "id": "8KD1BWxFFvbK"
      },
      "execution_count": null,
      "outputs": []
    },
    {
      "cell_type": "code",
      "source": [
        "tuple([10, 20, 30])"
      ],
      "metadata": {
        "colab": {
          "base_uri": "https://localhost:8080/"
        },
        "id": "LoWM_YTNGB3z",
        "outputId": "1b440399-056f-43f0-8abd-8c49edc733c7"
      },
      "execution_count": 108,
      "outputs": [
        {
          "output_type": "execute_result",
          "data": {
            "text/plain": [
              "(10, 20, 30)"
            ]
          },
          "metadata": {},
          "execution_count": 108
        }
      ]
    },
    {
      "cell_type": "code",
      "source": [
        "# tuple(순회가능한객체)\n",
        "# list(순회가능한객체)\n",
        "\n",
        "tuple('hello world')\n",
        "list('hello world')"
      ],
      "metadata": {
        "colab": {
          "base_uri": "https://localhost:8080/"
        },
        "id": "LGIpyPJOGIhF",
        "outputId": "ca739911-ee20-4071-f3d6-b44398dea1ed"
      },
      "execution_count": 110,
      "outputs": [
        {
          "output_type": "execute_result",
          "data": {
            "text/plain": [
              "['h', 'e', 'l', 'l', 'o', ' ', 'w', 'o', 'r', 'l', 'd']"
            ]
          },
          "metadata": {},
          "execution_count": 110
        }
      ]
    },
    {
      "cell_type": "markdown",
      "source": [
        "# 딕셔너리\n",
        "\n",
        "* Python 3.6 버전 이상은 순서가 보장됩니다.\n",
        "* 실무에서 사용하는 Python 버전은 생각보다 낮습니다. 이점 주의해주세요.\n",
        "* 'key: value' 쌍으로 이뤄져 있습니다.\n",
        "* 딕셔너리 데이터 검색은 매우 빠릅니다.\n",
        "* 딕셔너리 사용은 주의를 요합니다. 딕셔너리는 key가 없는 것을 호출하면 error가 납니다."
      ],
      "metadata": {
        "id": "u8pB2bihF8WB"
      }
    },
    {
      "cell_type": "code",
      "source": [
        "d = {'one': '하나', 'two': '둘'}\n",
        "d['one']"
      ],
      "metadata": {
        "colab": {
          "base_uri": "https://localhost:8080/",
          "height": 35
        },
        "id": "R0HdB8pyF_vp",
        "outputId": "6ceabaaa-7bb2-4f89-9da8-96b933352d24"
      },
      "execution_count": 111,
      "outputs": [
        {
          "output_type": "execute_result",
          "data": {
            "text/plain": [
              "'하나'"
            ],
            "application/vnd.google.colaboratory.intrinsic+json": {
              "type": "string"
            }
          },
          "metadata": {},
          "execution_count": 111
        }
      ]
    },
    {
      "cell_type": "code",
      "source": [
        "d['three'] # error"
      ],
      "metadata": {
        "id": "LBpgsKknIHfM"
      },
      "execution_count": null,
      "outputs": []
    },
    {
      "cell_type": "code",
      "source": [
        "d.get('three') # get 메서드를 사용하시길 권합니다!"
      ],
      "metadata": {
        "id": "9jrBVEhcIRtz"
      },
      "execution_count": 114,
      "outputs": []
    },
    {
      "cell_type": "code",
      "source": [
        "d.get('three', '없는 값입니다!') # get 메서드를 사용하시길 권합니다!"
      ],
      "metadata": {
        "colab": {
          "base_uri": "https://localhost:8080/",
          "height": 35
        },
        "id": "27R_ZFL3IfYo",
        "outputId": "b3ef56b1-23bf-492f-aba7-95acfe97a889"
      },
      "execution_count": 115,
      "outputs": [
        {
          "output_type": "execute_result",
          "data": {
            "text/plain": [
              "'없는 값입니다!'"
            ],
            "application/vnd.google.colaboratory.intrinsic+json": {
              "type": "string"
            }
          },
          "metadata": {},
          "execution_count": 115
        }
      ]
    },
    {
      "cell_type": "code",
      "source": [
        "def f(x):\n",
        "    return {\n",
        "            0: '일요일',\n",
        "            1: '월요일',\n",
        "            2: '화요일',\n",
        "            3: '수요일',\n",
        "            4: '목요일',\n",
        "            5: '금요일',\n",
        "            6: '토요일',\n",
        "        }.get(x, '요일없음')\n",
        "\n",
        "f(3)"
      ],
      "metadata": {
        "colab": {
          "base_uri": "https://localhost:8080/",
          "height": 35
        },
        "id": "2ChbVbNlIiLF",
        "outputId": "43289db5-c83d-4071-e5ae-322e54f2aac3"
      },
      "execution_count": 116,
      "outputs": [
        {
          "output_type": "execute_result",
          "data": {
            "text/plain": [
              "'수요일'"
            ],
            "application/vnd.google.colaboratory.intrinsic+json": {
              "type": "string"
            }
          },
          "metadata": {},
          "execution_count": 116
        }
      ]
    },
    {
      "cell_type": "code",
      "source": [
        "x = 3\n",
        "\n",
        "{\n",
        "    0: '일요일',\n",
        "    1: '월요일',\n",
        "    2: '화요일',\n",
        "    3: '수요일',\n",
        "    4: '목요일',\n",
        "    5: '금요일',\n",
        "    6: '토요일',\n",
        "}.get(x, '요일없음')"
      ],
      "metadata": {
        "colab": {
          "base_uri": "https://localhost:8080/",
          "height": 35
        },
        "id": "FVVfIuSfJJqY",
        "outputId": "9af7eb79-a85a-4855-d0d6-d90abc27fd30"
      },
      "execution_count": 117,
      "outputs": [
        {
          "output_type": "execute_result",
          "data": {
            "text/plain": [
              "'수요일'"
            ],
            "application/vnd.google.colaboratory.intrinsic+json": {
              "type": "string"
            }
          },
          "metadata": {},
          "execution_count": 117
        }
      ]
    },
    {
      "cell_type": "code",
      "source": [
        "# match 문법이 나오기 전까지 많이 사용했었습니다.\n",
        "# 지금도 많이 사용하는 문법입니다.\n",
        "# match 문법은 이런 문법이 있는지 모르시는 시니어 분들도 많습니다.\n",
        "\n",
        "x = 3\n",
        "\n",
        "y = {\n",
        "    0: '일요일',\n",
        "    1: '월요일',\n",
        "    2: '화요일',\n",
        "    3: '수요일',\n",
        "    4: '목요일',\n",
        "    5: '금요일',\n",
        "    6: '토요일',\n",
        "}\n",
        "\n",
        "y.get(x, '요일없음')"
      ],
      "metadata": {
        "id": "_MKQD8EuJVZ5"
      },
      "execution_count": null,
      "outputs": []
    },
    {
      "cell_type": "code",
      "source": [
        "!python --version"
      ],
      "metadata": {
        "colab": {
          "base_uri": "https://localhost:8080/"
        },
        "id": "Yqcw8aRvJzbU",
        "outputId": "ca054639-a433-4b19-d637-367f37abfc4a"
      },
      "execution_count": 118,
      "outputs": [
        {
          "output_type": "stream",
          "name": "stdout",
          "text": [
            "Python 3.10.12\n"
          ]
        }
      ]
    },
    {
      "cell_type": "code",
      "source": [
        "type(d)\n",
        "dir(d)"
      ],
      "metadata": {
        "colab": {
          "base_uri": "https://localhost:8080/"
        },
        "id": "l1a-yj7LJ06z",
        "outputId": "05497480-aed9-47a8-c4b6-fb8ab1b5ad7a"
      },
      "execution_count": 119,
      "outputs": [
        {
          "output_type": "execute_result",
          "data": {
            "text/plain": [
              "['__class__',\n",
              " '__class_getitem__',\n",
              " '__contains__',\n",
              " '__delattr__',\n",
              " '__delitem__',\n",
              " '__dir__',\n",
              " '__doc__',\n",
              " '__eq__',\n",
              " '__format__',\n",
              " '__ge__',\n",
              " '__getattribute__',\n",
              " '__getitem__',\n",
              " '__gt__',\n",
              " '__hash__',\n",
              " '__init__',\n",
              " '__init_subclass__',\n",
              " '__ior__',\n",
              " '__iter__',\n",
              " '__le__',\n",
              " '__len__',\n",
              " '__lt__',\n",
              " '__ne__',\n",
              " '__new__',\n",
              " '__or__',\n",
              " '__reduce__',\n",
              " '__reduce_ex__',\n",
              " '__repr__',\n",
              " '__reversed__',\n",
              " '__ror__',\n",
              " '__setattr__',\n",
              " '__setitem__',\n",
              " '__sizeof__',\n",
              " '__str__',\n",
              " '__subclasshook__',\n",
              " 'clear',\n",
              " 'copy',\n",
              " 'fromkeys',\n",
              " 'get',\n",
              " 'items',\n",
              " 'keys',\n",
              " 'pop',\n",
              " 'popitem',\n",
              " 'setdefault',\n",
              " 'update',\n",
              " 'values']"
            ]
          },
          "metadata": {},
          "execution_count": 119
        }
      ]
    },
    {
      "cell_type": "code",
      "source": [
        "# 실제로 이와 같은 key: value의 쌍을 게시물 저장하는 형태 등으로 사용합니다.\n",
        "\n",
        "게시물1 = {\n",
        "    'title': '파이썬이 이렇게 어려울 줄이야!!?',\n",
        "    'contents': '파이썬을 깊게 알아갈 수록 너무 재미있네요!!! 신기합니다!!',\n",
        "    'author': '이호준',\n",
        "    'image': '/hojun/2024/1/5/python.jpg',\n",
        "}"
      ],
      "metadata": {
        "id": "I6jQzijNKKXZ"
      },
      "execution_count": null,
      "outputs": []
    },
    {
      "cell_type": "code",
      "source": [
        "d = {'one': '하나', 'two': '둘'}"
      ],
      "metadata": {
        "id": "q5Sc3sbXKFrR"
      },
      "execution_count": 120,
      "outputs": []
    },
    {
      "cell_type": "code",
      "source": [
        "d = {'one': '하나', 'two': '둘'}\n",
        "dd = d\n",
        "\n",
        "id(dd), id(d)\n",
        "dd is d\n",
        "\n",
        "d['one'] = 'python'\n",
        "d['two'] = 'html'\n",
        "\n",
        "d, dd"
      ],
      "metadata": {
        "colab": {
          "base_uri": "https://localhost:8080/"
        },
        "id": "Fns608U8NbPk",
        "outputId": "bfedc629-5e8d-4db0-b0a2-4e07c93631d9"
      },
      "execution_count": 121,
      "outputs": [
        {
          "output_type": "execute_result",
          "data": {
            "text/plain": [
              "({'one': 'python', 'two': 'html'}, {'one': 'python', 'two': 'html'})"
            ]
          },
          "metadata": {},
          "execution_count": 121
        }
      ]
    },
    {
      "cell_type": "code",
      "source": [
        "d = {'one': '하나', 'two': '둘'}\n",
        "dd = d.copy()\n",
        "\n",
        "d['one'] = 'python'\n",
        "d['two'] = 'html'\n",
        "\n",
        "dd"
      ],
      "metadata": {
        "colab": {
          "base_uri": "https://localhost:8080/"
        },
        "id": "jn5uyN-cNxAe",
        "outputId": "9a0051db-4684-4820-e824-1763d9880ac2"
      },
      "execution_count": 123,
      "outputs": [
        {
          "output_type": "execute_result",
          "data": {
            "text/plain": [
              "{'one': '하나', 'two': '둘'}"
            ]
          },
          "metadata": {},
          "execution_count": 123
        }
      ]
    },
    {
      "cell_type": "code",
      "source": [
        "# 자주 사용하지 않습니다.\n",
        "\n",
        "d = ('one', 'two', 'three')\n",
        "dict.fromkeys(d)\n",
        "dict.fromkeys(d, 'hello world')"
      ],
      "metadata": {
        "colab": {
          "base_uri": "https://localhost:8080/"
        },
        "id": "BBWRalpgOB1x",
        "outputId": "972c6d46-1d28-4367-8893-487a669955e1"
      },
      "execution_count": 126,
      "outputs": [
        {
          "output_type": "execute_result",
          "data": {
            "text/plain": [
              "{'one': 'hello world', 'two': 'hello world', 'three': 'hello world'}"
            ]
          },
          "metadata": {},
          "execution_count": 126
        }
      ]
    },
    {
      "cell_type": "code",
      "source": [
        "# 매우 자주 사용하고 권고합니다.\n",
        "d = {'one': '하나', 'two': '둘'}\n",
        "d.get('one')\n",
        "d.get('three', '값 없음!')"
      ],
      "metadata": {
        "colab": {
          "base_uri": "https://localhost:8080/",
          "height": 35
        },
        "id": "8MOzrjruOXuc",
        "outputId": "c4a60bbd-f9c2-4240-9b56-cb7ca52adc8e"
      },
      "execution_count": 129,
      "outputs": [
        {
          "output_type": "execute_result",
          "data": {
            "text/plain": [
              "'값 없음!'"
            ],
            "application/vnd.google.colaboratory.intrinsic+json": {
              "type": "string"
            }
          },
          "metadata": {},
          "execution_count": 129
        }
      ]
    },
    {
      "cell_type": "code",
      "source": [
        "d = {'one': '하나', 'two': '둘'}\n",
        "d.items()"
      ],
      "metadata": {
        "colab": {
          "base_uri": "https://localhost:8080/"
        },
        "id": "-cX7AChmOkFa",
        "outputId": "073136ee-48e2-4505-a8bd-887751888fec"
      },
      "execution_count": 130,
      "outputs": [
        {
          "output_type": "execute_result",
          "data": {
            "text/plain": [
              "dict_items([('one', '하나'), ('two', '둘')])"
            ]
          },
          "metadata": {},
          "execution_count": 130
        }
      ]
    },
    {
      "cell_type": "code",
      "source": [
        "d = {'one': '하나', 'two': '둘'}\n",
        "type(d.items())"
      ],
      "metadata": {
        "colab": {
          "base_uri": "https://localhost:8080/"
        },
        "id": "ervNOrbwOzXB",
        "outputId": "21f61d98-b14d-40a0-e175-5ae45e38262c"
      },
      "execution_count": 131,
      "outputs": [
        {
          "output_type": "execute_result",
          "data": {
            "text/plain": [
              "dict_items"
            ]
          },
          "metadata": {},
          "execution_count": 131
        }
      ]
    },
    {
      "cell_type": "code",
      "source": [
        "d = {'one': '하나', 'two': '둘'}\n",
        "d.items()[0] # error\n",
        "d.items()[1:] # error"
      ],
      "metadata": {
        "id": "MKTGANQyO4gx"
      },
      "execution_count": null,
      "outputs": []
    },
    {
      "cell_type": "code",
      "source": [
        "a, b = d.items() # 언패킹\n",
        "a\n",
        "b"
      ],
      "metadata": {
        "colab": {
          "base_uri": "https://localhost:8080/"
        },
        "id": "lfxSyx6jPBPx",
        "outputId": "89973f7e-d639-4845-d258-6b7eef53cf66"
      },
      "execution_count": 136,
      "outputs": [
        {
          "output_type": "execute_result",
          "data": {
            "text/plain": [
              "('two', '둘')"
            ]
          },
          "metadata": {},
          "execution_count": 136
        }
      ]
    },
    {
      "cell_type": "code",
      "source": [
        "a, b = [10, 20]\n",
        "a"
      ],
      "metadata": {
        "colab": {
          "base_uri": "https://localhost:8080/"
        },
        "id": "EGQZZ9e8PaJq",
        "outputId": "fda0b16f-ecd1-4b5d-a4e3-65b39e3abbac"
      },
      "execution_count": 138,
      "outputs": [
        {
          "output_type": "execute_result",
          "data": {
            "text/plain": [
              "10"
            ]
          },
          "metadata": {},
          "execution_count": 138
        }
      ]
    },
    {
      "cell_type": "code",
      "source": [
        "# keep만 해두세요. 반복문을 안배웠습니다.\n",
        "for i, j in d.items():\n",
        "    print(i, j)"
      ],
      "metadata": {
        "colab": {
          "base_uri": "https://localhost:8080/"
        },
        "id": "TIqmcgJhPizs",
        "outputId": "00053b1b-6b91-44cc-ae10-53340f4cbfe2"
      },
      "execution_count": 139,
      "outputs": [
        {
          "output_type": "stream",
          "name": "stdout",
          "text": [
            "one 하나\n",
            "two 둘\n"
          ]
        }
      ]
    },
    {
      "cell_type": "code",
      "source": [
        "d.keys()\n",
        "d.values()"
      ],
      "metadata": {
        "colab": {
          "base_uri": "https://localhost:8080/"
        },
        "id": "-StK_KL2P00e",
        "outputId": "a97d69cd-8857-4230-cfce-525182bd7987"
      },
      "execution_count": 141,
      "outputs": [
        {
          "output_type": "execute_result",
          "data": {
            "text/plain": [
              "dict_values(['하나', '둘'])"
            ]
          },
          "metadata": {},
          "execution_count": 141
        }
      ]
    },
    {
      "cell_type": "code",
      "source": [
        "d = {'one': '하나', 'two': '둘'}\n",
        "d.setdefault('one')\n",
        "d.setdefault('three')\n",
        "d.setdefault('four', 4) # 있으면 그 값을 출력하고, 없으면 그 값을 d에 삽입하고 4를 출력해줘!"
      ],
      "metadata": {
        "colab": {
          "base_uri": "https://localhost:8080/"
        },
        "id": "SxT5_YW6QCbZ",
        "outputId": "bd093b7c-0b7c-4b2a-839e-b071ed308b72"
      },
      "execution_count": 146,
      "outputs": [
        {
          "output_type": "execute_result",
          "data": {
            "text/plain": [
              "4"
            ]
          },
          "metadata": {},
          "execution_count": 146
        }
      ]
    },
    {
      "cell_type": "code",
      "source": [
        "d = {'one': '하나', 'two': '둘'}\n",
        "d.pop('one')\n",
        "d"
      ],
      "metadata": {
        "colab": {
          "base_uri": "https://localhost:8080/"
        },
        "id": "qH-9dYO_QsLa",
        "outputId": "17090557-5120-46af-d290-dd0fbb808ff2"
      },
      "execution_count": 150,
      "outputs": [
        {
          "output_type": "execute_result",
          "data": {
            "text/plain": [
              "{'two': '둘'}"
            ]
          },
          "metadata": {},
          "execution_count": 150
        }
      ]
    },
    {
      "cell_type": "code",
      "source": [
        "d = {'one': '하나', 'two': '둘'}\n",
        "d.pop() # error\n",
        "d.pop('three') # error\n",
        "d"
      ],
      "metadata": {
        "id": "zMSQVmz7Q9q4"
      },
      "execution_count": null,
      "outputs": []
    },
    {
      "cell_type": "code",
      "source": [
        "d = {'one': '하나', 'two': '둘'}\n",
        "d.popitem() # 없는 코드를 많이 보게 되실겁니다."
      ],
      "metadata": {
        "colab": {
          "base_uri": "https://localhost:8080/"
        },
        "id": "ExNkyVi1RJOs",
        "outputId": "bc3649fa-cc5a-448d-89e2-08a709f1fa9b"
      },
      "execution_count": 153,
      "outputs": [
        {
          "output_type": "execute_result",
          "data": {
            "text/plain": [
              "('two', '둘')"
            ]
          },
          "metadata": {},
          "execution_count": 153
        }
      ]
    },
    {
      "cell_type": "code",
      "source": [
        "d = {'one': '하나', 'two': '둘'}\n",
        "d.update({'one': 'python', 'three':'hello'}) # one은 수정이 되었고 three는 생성이 되었습니다.\n",
        "d"
      ],
      "metadata": {
        "colab": {
          "base_uri": "https://localhost:8080/"
        },
        "id": "sxGygMOvJ7vi",
        "outputId": "8a54fef6-de0f-4d29-c349-ad220745f646"
      },
      "execution_count": 154,
      "outputs": [
        {
          "output_type": "execute_result",
          "data": {
            "text/plain": [
              "{'one': 'python', 'two': '둘', 'three': 'hello'}"
            ]
          },
          "metadata": {},
          "execution_count": 154
        }
      ]
    },
    {
      "cell_type": "code",
      "source": [
        "# 신규문법!!(3.9 version)\n",
        "d = {'one': '하나', 'two': '둘'}\n",
        "dd = {'three': '셋'}\n",
        "\n",
        "# d + dd\n",
        "d | dd # 책 사서 보셔도 잘 안나오는 문법입니다."
      ],
      "metadata": {
        "colab": {
          "base_uri": "https://localhost:8080/"
        },
        "id": "ztBuv6keRhzm",
        "outputId": "d6364f3c-3c4a-4120-be7a-c10a9736cbcb"
      },
      "execution_count": 156,
      "outputs": [
        {
          "output_type": "execute_result",
          "data": {
            "text/plain": [
              "{'one': '하나', 'two': '둘', 'three': '셋'}"
            ]
          },
          "metadata": {},
          "execution_count": 156
        }
      ]
    },
    {
      "cell_type": "code",
      "source": [
        "d = {'one': '하나', 'two': '둘'}\n",
        "dd = {'one':'python', 'three': '셋'}\n",
        "d | dd"
      ],
      "metadata": {
        "colab": {
          "base_uri": "https://localhost:8080/"
        },
        "id": "ClND1O4LR2eN",
        "outputId": "a7c3c584-4c5f-4ad3-c160-deb225f5ee0c"
      },
      "execution_count": 157,
      "outputs": [
        {
          "output_type": "execute_result",
          "data": {
            "text/plain": [
              "{'one': 'python', 'two': '둘', 'three': '셋'}"
            ]
          },
          "metadata": {},
          "execution_count": 157
        }
      ]
    },
    {
      "cell_type": "markdown",
      "source": [
        "# 셋\n",
        "\n",
        "* 중복을 허락하지 않는 자료형입니다.\n",
        "* 순서가 없는 자료형입니다.\n",
        "* 집합(합집합, 차집합, 교집합)"
      ],
      "metadata": {
        "id": "nI5U1Q_kSTZQ"
      }
    },
    {
      "cell_type": "code",
      "source": [
        "s = {1, 2, 3, 4, 5}\n",
        "ss = {3, 4, 5, 6, 7}\n",
        "\n",
        "# s + ss # error\n",
        "s | ss # 합집합\n",
        "s - ss # 차집합\n",
        "s & ss # 교집합"
      ],
      "metadata": {
        "colab": {
          "base_uri": "https://localhost:8080/"
        },
        "id": "CbiSNAWNSNkQ",
        "outputId": "48100eec-02e9-4365-b1f2-0196431fb1eb"
      },
      "execution_count": 161,
      "outputs": [
        {
          "output_type": "execute_result",
          "data": {
            "text/plain": [
              "{3, 4, 5}"
            ]
          },
          "metadata": {},
          "execution_count": 161
        }
      ]
    },
    {
      "cell_type": "code",
      "source": [
        "s.add(10)\n",
        "s"
      ],
      "metadata": {
        "colab": {
          "base_uri": "https://localhost:8080/"
        },
        "id": "MvvfG2vMTrsJ",
        "outputId": "1d09d34b-a07c-4237-8ed5-bef917b6db67"
      },
      "execution_count": 163,
      "outputs": [
        {
          "output_type": "execute_result",
          "data": {
            "text/plain": [
              "{1, 2, 3, 4, 5, 10}"
            ]
          },
          "metadata": {},
          "execution_count": 163
        }
      ]
    },
    {
      "cell_type": "code",
      "source": [
        "type(s), dir(s)"
      ],
      "metadata": {
        "id": "X34tMRfXTPnx"
      },
      "execution_count": null,
      "outputs": []
    },
    {
      "cell_type": "code",
      "source": [
        "s.difference(ss) # 차집합"
      ],
      "metadata": {
        "colab": {
          "base_uri": "https://localhost:8080/"
        },
        "id": "_06CHg8gUNfj",
        "outputId": "6a8d7dfc-9eca-4721-b112-2ec48e54f370"
      },
      "execution_count": 164,
      "outputs": [
        {
          "output_type": "execute_result",
          "data": {
            "text/plain": [
              "{1, 2, 10}"
            ]
          },
          "metadata": {},
          "execution_count": 164
        }
      ]
    },
    {
      "cell_type": "code",
      "source": [
        "s.intersection(ss) # 교집합"
      ],
      "metadata": {
        "colab": {
          "base_uri": "https://localhost:8080/"
        },
        "id": "186Pyx9uUURJ",
        "outputId": "9cd9a7fe-7486-476e-d276-ba00d3a8cd08"
      },
      "execution_count": 165,
      "outputs": [
        {
          "output_type": "execute_result",
          "data": {
            "text/plain": [
              "{3, 4, 5}"
            ]
          },
          "metadata": {},
          "execution_count": 165
        }
      ]
    },
    {
      "cell_type": "code",
      "source": [
        "s.union(ss) # 합집합"
      ],
      "metadata": {
        "colab": {
          "base_uri": "https://localhost:8080/"
        },
        "id": "eegNiPHPUYAf",
        "outputId": "1bcd96a8-88ed-496a-da21-3bce58747be1"
      },
      "execution_count": 166,
      "outputs": [
        {
          "output_type": "execute_result",
          "data": {
            "text/plain": [
              "{1, 2, 3, 4, 5, 6, 7, 10}"
            ]
          },
          "metadata": {},
          "execution_count": 166
        }
      ]
    },
    {
      "cell_type": "code",
      "source": [
        "set('123123123')"
      ],
      "metadata": {
        "colab": {
          "base_uri": "https://localhost:8080/"
        },
        "id": "wLFB1eX9U1Vr",
        "outputId": "55ff3249-0e89-40a2-a949-83743f51b905"
      },
      "execution_count": 167,
      "outputs": [
        {
          "output_type": "execute_result",
          "data": {
            "text/plain": [
              "{'1', '2', '3'}"
            ]
          },
          "metadata": {},
          "execution_count": 167
        }
      ]
    },
    {
      "cell_type": "code",
      "source": [
        "sum([1, 2, 3])"
      ],
      "metadata": {
        "colab": {
          "base_uri": "https://localhost:8080/"
        },
        "id": "xr2Q_Q9oVF34",
        "outputId": "a120849e-ee26-4ee1-e440-9f5e3a75e8e5"
      },
      "execution_count": 169,
      "outputs": [
        {
          "output_type": "execute_result",
          "data": {
            "text/plain": [
              "6"
            ]
          },
          "metadata": {},
          "execution_count": 169
        }
      ]
    },
    {
      "cell_type": "code",
      "source": [
        "sum({10, 20, 30})"
      ],
      "metadata": {
        "colab": {
          "base_uri": "https://localhost:8080/"
        },
        "id": "q92OmEpHVJSM",
        "outputId": "31ad23a8-e360-4335-cf13-e7f5f78c2807"
      },
      "execution_count": 170,
      "outputs": [
        {
          "output_type": "execute_result",
          "data": {
            "text/plain": [
              "60"
            ]
          },
          "metadata": {},
          "execution_count": 170
        }
      ]
    },
    {
      "cell_type": "code",
      "source": [
        "# map은 너무나 중요해서 반복해서 해드릴텐데\n",
        "# 중복 제거한 값을 더하는 용도로 아래와 같이 사용하는 코드를\n",
        "# keep\n",
        "sum(map(int, set('123123123')))"
      ],
      "metadata": {
        "colab": {
          "base_uri": "https://localhost:8080/"
        },
        "id": "UlqwKKX8U4h6",
        "outputId": "d76c4e1b-48e2-4e5c-f8ad-cff00c088b66"
      },
      "execution_count": 168,
      "outputs": [
        {
          "output_type": "execute_result",
          "data": {
            "text/plain": [
              "6"
            ]
          },
          "metadata": {},
          "execution_count": 168
        }
      ]
    },
    {
      "cell_type": "code",
      "source": [
        "map(int, set('123123123'))\n",
        "# {'1', '2', '3'} => {1, 2, 3}"
      ],
      "metadata": {
        "colab": {
          "base_uri": "https://localhost:8080/"
        },
        "id": "m87ME93nVFEq",
        "outputId": "c9b1eb7a-e85a-4825-f7ba-16af667cf6f4"
      },
      "execution_count": 171,
      "outputs": [
        {
          "output_type": "execute_result",
          "data": {
            "text/plain": [
              "<map at 0x787d945dc910>"
            ]
          },
          "metadata": {},
          "execution_count": 171
        }
      ]
    },
    {
      "cell_type": "markdown",
      "source": [
        "# sum"
      ],
      "metadata": {
        "id": "Mwm3EsJ9XLb1"
      }
    },
    {
      "cell_type": "code",
      "source": [
        "sum({10, 20, 30})"
      ],
      "metadata": {
        "colab": {
          "base_uri": "https://localhost:8080/"
        },
        "id": "IeiILru6Vtos",
        "outputId": "0993d8f3-d667-472f-ccc0-e41e790f474f"
      },
      "execution_count": 172,
      "outputs": [
        {
          "output_type": "execute_result",
          "data": {
            "text/plain": [
              "60"
            ]
          },
          "metadata": {},
          "execution_count": 172
        }
      ]
    },
    {
      "cell_type": "code",
      "source": [
        "sum(10, 20, 30) # error"
      ],
      "metadata": {
        "id": "O5Ao5AoiWCGo"
      },
      "execution_count": null,
      "outputs": []
    },
    {
      "cell_type": "code",
      "source": [
        "sum([[10, 20], [10, 20], [10, 20]]) # error"
      ],
      "metadata": {
        "id": "kjbZWgXqWIJ6"
      },
      "execution_count": null,
      "outputs": []
    },
    {
      "cell_type": "code",
      "source": [
        "# sum(순회가능한객체, 초깃값)\n",
        "sum([10, 20, 30], 100)"
      ],
      "metadata": {
        "colab": {
          "base_uri": "https://localhost:8080/"
        },
        "id": "_DaE6KxqWGlS",
        "outputId": "640111a1-bfef-4a27-8d90-ade029b8eae6"
      },
      "execution_count": 175,
      "outputs": [
        {
          "output_type": "execute_result",
          "data": {
            "text/plain": [
              "160"
            ]
          },
          "metadata": {},
          "execution_count": 175
        }
      ]
    },
    {
      "cell_type": "code",
      "source": [
        "sum([[10, 20], [30, 40], [50, 60]], []) # 평탄화 작업\n",
        "# [] + [10, 20] == [10, 20]\n",
        "# [10, 20] + [30, 40] == [10, 20, 30, 40]"
      ],
      "metadata": {
        "colab": {
          "base_uri": "https://localhost:8080/"
        },
        "id": "amuaw9c1WSYT",
        "outputId": "957bbb1e-3071-4a2f-e74b-48b169ea17ba"
      },
      "execution_count": 176,
      "outputs": [
        {
          "output_type": "execute_result",
          "data": {
            "text/plain": [
              "[10, 20, 30, 40, 50, 60]"
            ]
          },
          "metadata": {},
          "execution_count": 176
        }
      ]
    },
    {
      "cell_type": "code",
      "source": [
        " sum(sum([[10, 20], [30, 40], [50, 60]], []))"
      ],
      "metadata": {
        "colab": {
          "base_uri": "https://localhost:8080/"
        },
        "id": "P4KaayaqW0df",
        "outputId": "30354dc6-6eef-43b5-a62b-0089009a13a1"
      },
      "execution_count": 178,
      "outputs": [
        {
          "output_type": "execute_result",
          "data": {
            "text/plain": [
              "210"
            ]
          },
          "metadata": {},
          "execution_count": 178
        }
      ]
    },
    {
      "cell_type": "markdown",
      "source": [
        "# in"
      ],
      "metadata": {
        "id": "U3xLXWEEXM4m"
      }
    },
    {
      "cell_type": "code",
      "source": [
        "'h' in 'hello'"
      ],
      "metadata": {
        "colab": {
          "base_uri": "https://localhost:8080/"
        },
        "id": "NLZs5bq1XO3p",
        "outputId": "ee5ddbc9-3507-4d85-c754-ebfb7d99ba47"
      },
      "execution_count": 179,
      "outputs": [
        {
          "output_type": "execute_result",
          "data": {
            "text/plain": [
              "True"
            ]
          },
          "metadata": {},
          "execution_count": 179
        }
      ]
    },
    {
      "cell_type": "code",
      "source": [
        "x = 10\n",
        "x in [10, 20, 30, 40, 50]"
      ],
      "metadata": {
        "colab": {
          "base_uri": "https://localhost:8080/"
        },
        "id": "staHKNiuXQoK",
        "outputId": "fec1d846-6c17-45e9-c9f7-77e6dabc4ff8"
      },
      "execution_count": 180,
      "outputs": [
        {
          "output_type": "execute_result",
          "data": {
            "text/plain": [
              "True"
            ]
          },
          "metadata": {},
          "execution_count": 180
        }
      ]
    },
    {
      "cell_type": "code",
      "source": [
        "x = [10, 20, 30]\n",
        "x in [[10, 20, 40], [10, 20, 30], [50, 40, 20]]"
      ],
      "metadata": {
        "colab": {
          "base_uri": "https://localhost:8080/"
        },
        "id": "WIdAVqpiXj2f",
        "outputId": "d998e230-448e-4be1-fb78-56f59529a0b0"
      },
      "execution_count": 181,
      "outputs": [
        {
          "output_type": "execute_result",
          "data": {
            "text/plain": [
              "True"
            ]
          },
          "metadata": {},
          "execution_count": 181
        }
      ]
    },
    {
      "cell_type": "code",
      "source": [
        "s = {1, 2, 3}\n",
        "1 in s"
      ],
      "metadata": {
        "colab": {
          "base_uri": "https://localhost:8080/"
        },
        "id": "OUFnoLTMXVp9",
        "outputId": "4dc95303-77a4-4aad-c788-a6acdd0cd5d2"
      },
      "execution_count": 182,
      "outputs": [
        {
          "output_type": "execute_result",
          "data": {
            "text/plain": [
              "True"
            ]
          },
          "metadata": {},
          "execution_count": 182
        }
      ]
    },
    {
      "cell_type": "code",
      "source": [
        "s = {1, 2, 3}\n",
        "1 not in s"
      ],
      "metadata": {
        "id": "jX4VdSC_X4Av"
      },
      "execution_count": null,
      "outputs": []
    },
    {
      "cell_type": "markdown",
      "source": [
        "# and, or, not 단락평가"
      ],
      "metadata": {
        "id": "nF0hOmEKYGon"
      }
    },
    {
      "cell_type": "code",
      "source": [
        "1 and 100"
      ],
      "metadata": {
        "colab": {
          "base_uri": "https://localhost:8080/"
        },
        "id": "hk7hyW6WYJK5",
        "outputId": "c65c4f6d-5adb-4daf-c5c5-6a19bebca7a1"
      },
      "execution_count": 184,
      "outputs": [
        {
          "output_type": "execute_result",
          "data": {
            "text/plain": [
              "100"
            ]
          },
          "metadata": {},
          "execution_count": 184
        }
      ]
    },
    {
      "cell_type": "code",
      "source": [
        "user_id = ''\n",
        "\n",
        "user_id = user_id or '아이디 없음'\n",
        "user_id"
      ],
      "metadata": {
        "colab": {
          "base_uri": "https://localhost:8080/",
          "height": 35
        },
        "id": "zFRCmcQhYPyf",
        "outputId": "a0dee589-22b4-4871-ed4b-60b2642dce4b"
      },
      "execution_count": 185,
      "outputs": [
        {
          "output_type": "execute_result",
          "data": {
            "text/plain": [
              "'아이디 없음'"
            ],
            "application/vnd.google.colaboratory.intrinsic+json": {
              "type": "string"
            }
          },
          "metadata": {},
          "execution_count": 185
        }
      ]
    },
    {
      "cell_type": "code",
      "source": [
        "user_id = 'leehojun'\n",
        "\n",
        "user_id = user_id or '아이디 없음'\n",
        "user_id"
      ],
      "metadata": {
        "colab": {
          "base_uri": "https://localhost:8080/",
          "height": 35
        },
        "id": "RTvXWuwWYVvq",
        "outputId": "f949c9cc-bb8c-4030-e122-5cb1b69558c6"
      },
      "execution_count": 186,
      "outputs": [
        {
          "output_type": "execute_result",
          "data": {
            "text/plain": [
              "'leehojun'"
            ],
            "application/vnd.google.colaboratory.intrinsic+json": {
              "type": "string"
            }
          },
          "metadata": {},
          "execution_count": 186
        }
      ]
    },
    {
      "cell_type": "code",
      "source": [
        "False and 1/0"
      ],
      "metadata": {
        "colab": {
          "base_uri": "https://localhost:8080/"
        },
        "id": "clrjPHbjYYEP",
        "outputId": "1c7764e2-1319-4eb3-9b58-6dee53840f3a"
      },
      "execution_count": 187,
      "outputs": [
        {
          "output_type": "execute_result",
          "data": {
            "text/plain": [
              "False"
            ]
          },
          "metadata": {},
          "execution_count": 187
        }
      ]
    },
    {
      "cell_type": "code",
      "source": [
        "1/0"
      ],
      "metadata": {
        "colab": {
          "base_uri": "https://localhost:8080/",
          "height": 181
        },
        "id": "WfnwmAcZYnSU",
        "outputId": "4eed679c-cc0b-4331-bb62-5783650fa892"
      },
      "execution_count": 188,
      "outputs": [
        {
          "output_type": "error",
          "ename": "ZeroDivisionError",
          "evalue": "division by zero",
          "traceback": [
            "\u001b[0;31m---------------------------------------------------------------------------\u001b[0m",
            "\u001b[0;31mZeroDivisionError\u001b[0m                         Traceback (most recent call last)",
            "\u001b[0;32m<ipython-input-188-9e1622b385b6>\u001b[0m in \u001b[0;36m<cell line: 1>\u001b[0;34m()\u001b[0m\n\u001b[0;32m----> 1\u001b[0;31m \u001b[0;36m1\u001b[0m\u001b[0;34m/\u001b[0m\u001b[0;36m0\u001b[0m\u001b[0;34m\u001b[0m\u001b[0;34m\u001b[0m\u001b[0m\n\u001b[0m",
            "\u001b[0;31mZeroDivisionError\u001b[0m: division by zero"
          ]
        }
      ]
    }
  ]
}