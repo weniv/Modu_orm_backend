{
  "nbformat": 4,
  "nbformat_minor": 0,
  "metadata": {
    "colab": {
      "provenance": []
    },
    "kernelspec": {
      "name": "python3",
      "display_name": "Python 3"
    },
    "language_info": {
      "name": "python"
    }
  },
  "cells": [
    {
      "cell_type": "markdown",
      "source": [
        "# 2024년 새해 계획 프로그램\n",
        "\n",
        "2024년도 계획을 10문장으로 적고, 그에 따른 2024년도 계획에서 중요 부분을 변수로 받아서 Input으로 받는 프로그램 만들기!\n",
        "\n",
        "1. 나의 2024년도 계획을 적는다.\n",
        "2. 그 중에서 변수로 만들수 있는 것들(input으로 받을 수 있는 것을 비운다.)\n",
        "3. 10 문장에 대해서 똑같이 적용한다. (1개~3개정도 단어)\n",
        "4. 테스트 해본다.\n",
        "5. 코드와 결과를 업로드 한다."
      ],
      "metadata": {
        "id": "RLxKtGF4lPEc"
      }
    },
    {
      "cell_type": "code",
      "source": [
        "#1. 2024년 계획 적기(최소 3가지 ~ 최대 10가지)\n",
        "\n",
        "1. 이번 해에는 __을 꾸준히 한다.\n",
        "2. 2024년의 목표는 ___ 언어를 배우는 것이다\n",
        "3.\n"
      ],
      "metadata": {
        "id": "xeFASN4iljy-"
      },
      "execution_count": null,
      "outputs": []
    },
    {
      "cell_type": "markdown",
      "source": [
        "## 1.1 하나의 단어를 입력받아서 출력하기"
      ],
      "metadata": {
        "id": "jYuzGDUMsiQ-"
      }
    },
    {
      "cell_type": "code",
      "source": [
        "변수(어떠한 값을 입력받을 값) = input(\"내가 입력받을 값에 대한 질문\")"
      ],
      "metadata": {
        "id": "U0WASdaFsnA0"
      },
      "execution_count": null,
      "outputs": []
    },
    {
      "cell_type": "code",
      "source": [
        "sentence_1 = input(\"이번 해에는 매일 ___ 운동을 하기로 했다: \")"
      ],
      "metadata": {
        "colab": {
          "base_uri": "https://localhost:8080/"
        },
        "id": "zXyGY-h4lbaA",
        "outputId": "d9fe0eb1-9c3e-410e-a3d6-7b6f7536f021"
      },
      "execution_count": 13,
      "outputs": [
        {
          "name": "stdout",
          "output_type": "stream",
          "text": [
            "이번 해에는 매일 ___ 운동을 하기로 했다: 클라이밍\n"
          ]
        }
      ]
    },
    {
      "cell_type": "code",
      "source": [
        "print(sentence_1)"
      ],
      "metadata": {
        "colab": {
          "base_uri": "https://localhost:8080/"
        },
        "id": "-1IdPxkPth72",
        "outputId": "ef493da1-f0d8-4e77-813d-8353834b5328"
      },
      "execution_count": 14,
      "outputs": [
        {
          "output_type": "stream",
          "name": "stdout",
          "text": [
            "클라이밍\n"
          ]
        }
      ]
    },
    {
      "cell_type": "code",
      "source": [
        "print(f\"이번 해에는 매일 {sentence_1} 운동을 하기로 했다.\\n\") # \\n은 한칸 띄어쓰기"
      ],
      "metadata": {
        "colab": {
          "base_uri": "https://localhost:8080/"
        },
        "id": "Wb19XB1ql0rx",
        "outputId": "54bf7435-efc0-44b5-885d-dc019f1eca97"
      },
      "execution_count": 15,
      "outputs": [
        {
          "output_type": "stream",
          "name": "stdout",
          "text": [
            "이번 해에는 매일 클라이밍 운동을 하기로 했다.\n",
            "\n"
          ]
        }
      ]
    },
    {
      "cell_type": "markdown",
      "source": [
        "## 2.2 두가지 단어를 한꺼번에 받기"
      ],
      "metadata": {
        "id": "-yRKjulJwsdR"
      }
    },
    {
      "cell_type": "code",
      "source": [
        "sentence_2 = input(\"올해는 ___과 ___에 집중하려고 한다: \") #육아와 업무 (필수) 공백을 기준으로 분리"
      ],
      "metadata": {
        "colab": {
          "base_uri": "https://localhost:8080/"
        },
        "id": "pQWc1dL5mkn0",
        "outputId": "cc44eb3d-22fb-4211-c508-ca2cef015367"
      },
      "execution_count": 31,
      "outputs": [
        {
          "name": "stdout",
          "output_type": "stream",
          "text": [
            "올해는 ___과 ___에 집중하려고 한다: 클라이밍 코딩\n"
          ]
        }
      ]
    },
    {
      "cell_type": "code",
      "source": [
        "print(sentence_2)"
      ],
      "metadata": {
        "colab": {
          "base_uri": "https://localhost:8080/"
        },
        "id": "YL2aZdHrw-RM",
        "outputId": "5544c19a-0a20-4eaa-ecf7-429584a27012"
      },
      "execution_count": 37,
      "outputs": [
        {
          "output_type": "stream",
          "name": "stdout",
          "text": [
            "클라이밍 코딩\n"
          ]
        }
      ]
    },
    {
      "cell_type": "code",
      "source": [
        "word_11, word_22 = sentence_2.split()  # 두 단어를 입력받고, (필수) 공백을 기준으로 분리"
      ],
      "metadata": {
        "id": "m9yZJ76_mljt"
      },
      "execution_count": 40,
      "outputs": []
    },
    {
      "cell_type": "code",
      "source": [
        "print(f\"올해는 {word_11}과 {word_22}에 집중하려고 한다.\\n\")"
      ],
      "metadata": {
        "colab": {
          "base_uri": "https://localhost:8080/"
        },
        "id": "FsWu34Vhm0_C",
        "outputId": "823dbfa5-792b-4c10-9ed7-5144ff4ee1d8"
      },
      "execution_count": 45,
      "outputs": [
        {
          "output_type": "stream",
          "name": "stdout",
          "text": [
            "올해는 클라이밍과 코딩에 집중하려고 한다.\n",
            "\n"
          ]
        }
      ]
    },
    {
      "cell_type": "markdown",
      "source": [
        "# 2.3 두가지 값을 입력 받는 법"
      ],
      "metadata": {
        "id": "_IRhc5f_uGvO"
      }
    },
    {
      "cell_type": "code",
      "source": [
        "010 #1번\n",
        "0000 #1번\n",
        "1234 #1번\n",
        "\n",
        "-> 010-0000-1234"
      ],
      "metadata": {
        "id": "Azp5rNz6uMv0"
      },
      "execution_count": null,
      "outputs": []
    },
    {
      "cell_type": "code",
      "source": [
        "# 2가지 input 받아보기\n",
        "\n",
        "word1 = input(\"올해는 __와\")\n",
        "word2 = input(\"__에 집중하려고 한다.\")"
      ],
      "metadata": {
        "colab": {
          "base_uri": "https://localhost:8080/"
        },
        "id": "Tz7PqiqeucJK",
        "outputId": "57fb85dd-bc0e-4d06-a3ed-89ab1da0d2ad"
      },
      "execution_count": 16,
      "outputs": [
        {
          "name": "stdout",
          "output_type": "stream",
          "text": [
            "올해는 __와육아\n",
            "__에 집중하려고 한다.업무\n"
          ]
        }
      ]
    },
    {
      "cell_type": "code",
      "source": [
        "# 1. 한문장안에 word1, word2 둘 다 출력하기(가장 기본적인 방법)\n",
        "print(f\"올해는 {word1}와 {word2}에 집중하려고 한다.\")"
      ],
      "metadata": {
        "colab": {
          "base_uri": "https://localhost:8080/"
        },
        "id": "BHbmrXcem84I",
        "outputId": "3a8190d9-7a46-4d3f-caea-19eb9c0f5d24"
      },
      "execution_count": 23,
      "outputs": [
        {
          "output_type": "stream",
          "name": "stdout",
          "text": [
            "올해는 육아와 업무에 집중하려고 한다.\n"
          ]
        }
      ]
    },
    {
      "cell_type": "code",
      "source": [
        "# 2. end를 사용해서 다른 두 문장을 합치기"
      ],
      "metadata": {
        "id": "fIi2nmq9uuxu"
      },
      "execution_count": null,
      "outputs": []
    },
    {
      "cell_type": "code",
      "source": [
        "print(f\"올해는 {word1}와\", end = \" \")\n",
        "print(f\"{word2}에 집중하려고 한다.\")"
      ],
      "metadata": {
        "colab": {
          "base_uri": "https://localhost:8080/"
        },
        "id": "-lTCzkkgnd5H",
        "outputId": "4cdda032-66c0-4ec6-d3b9-d4cb1deda9e5"
      },
      "execution_count": 24,
      "outputs": [
        {
          "output_type": "stream",
          "name": "stdout",
          "text": [
            "올해는 육아와 업무에 집중하려고 한다.\n"
          ]
        }
      ]
    },
    {
      "cell_type": "code",
      "source": [],
      "metadata": {
        "id": "QP6nuXENv0X2"
      },
      "execution_count": null,
      "outputs": []
    }
  ]
}