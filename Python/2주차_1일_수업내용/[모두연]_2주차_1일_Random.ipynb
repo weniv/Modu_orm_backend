{
  "nbformat": 4,
  "nbformat_minor": 0,
  "metadata": {
    "colab": {
      "provenance": []
    },
    "kernelspec": {
      "name": "python3",
      "display_name": "Python 3"
    },
    "language_info": {
      "name": "python"
    }
  },
  "cells": [
    {
      "cell_type": "markdown",
      "source": [
        "#1. Randrange() 함수\n",
        "\n",
        "randrange(start, stop[, step])\n",
        "\n",
        "- **`start`**: 범위의 시작값입니다. 이 값은 범위에 포함됩니다. 만약 **`start`**가 생략되면, 기본값은 0이 됩니다.\n",
        "- **`stop`**: 범위의 끝값입니다. 이 값은 범위에 포함되지 않으며, 함수는 **`stop - 1`**까지의 수 중에서 무작위로 선택합니다.\n",
        "- **`step`**: 선택적 매개변수로, 숫자 간의 간격을 지정합니다. 예를 들어, **`step`**이 2이면 함수는 두 숫자 간격으로 무작위 수를 선택합니다.\n"
      ],
      "metadata": {
        "id": "6OKxfyqE0tve"
      }
    },
    {
      "cell_type": "code",
      "execution_count": 6,
      "metadata": {
        "colab": {
          "base_uri": "https://localhost:8080/"
        },
        "id": "p0DmIkh40rMa",
        "outputId": "618b93ce-12c4-492e-cb74-7f8a327b2234"
      },
      "outputs": [
        {
          "output_type": "stream",
          "name": "stdout",
          "text": [
            "8\n"
          ]
        }
      ],
      "source": [
        "# 1.1 기본 사용법\n",
        "\n",
        "import random\n",
        "'''\n",
        "0~9까지의 임의의 숫자를 선택하는 코드를 작성\n",
        "(꼭 기억) 파이썬의 숫자의 시작은 무조건 0부터\n",
        "10으로 입력하면 -1 즉, 9까지\n",
        "'''\n",
        "num = random.randrange(20) #무조건 0부터 시작\n",
        "print(num)"
      ]
    },
    {
      "cell_type": "code",
      "source": [
        "# 1.2 시작값과 끝값을 지정\n",
        "num_1 = random.randrange(1, 46)\n",
        "num_2 = random.randrange(1, 46)\n",
        "num_3 = random.randrange(1, 46)\n",
        "num_4 = random.randrange(1, 46)\n",
        "num_5 = random.randrange(1, 46)\n",
        "num_6 = random.randrange(1, 46)\n",
        "print(\"오늘의 로또 번호는\",num_1,num_2,num_3,num_4,num_5,num_6)"
      ],
      "metadata": {
        "colab": {
          "base_uri": "https://localhost:8080/"
        },
        "id": "UgUwYS2y1JUy",
        "outputId": "99604ddc-571d-4936-b8ef-54858ac5e849"
      },
      "execution_count": 12,
      "outputs": [
        {
          "output_type": "stream",
          "name": "stdout",
          "text": [
            "오늘의 로또 번호는 11 15 30 16 29 6\n"
          ]
        }
      ]
    },
    {
      "cell_type": "code",
      "source": [
        "# 1.3 간격 설정\n",
        "# 10부터 100까지 숫자 중에서 10의 간격으로 무작위 선택\n",
        "\n",
        "num10_100 = random.randrange(10, 101, 10)\n",
        "print(num10_100)"
      ],
      "metadata": {
        "colab": {
          "base_uri": "https://localhost:8080/"
        },
        "id": "YCLTRZi-2KA5",
        "outputId": "5eb9d2f9-a572-4c52-ab99-4008d5ba19fb"
      },
      "execution_count": 19,
      "outputs": [
        {
          "output_type": "stream",
          "name": "stdout",
          "text": [
            "90\n"
          ]
        }
      ]
    },
    {
      "cell_type": "markdown",
      "source": [
        "#2. Choice 함수\n",
        "\n",
        "**`random.choice()`** 함수는 파이썬의 **`random`** 라이브러리에서 제공하는 매우 유용한 함수 중 하나입니다. 이 함수는 주어진 시퀀스(예: 리스트, 튜플, 문자열 등)에서 무작위로 요소 하나를 선택하여 반환합니다. 시퀀스 내의 모든 요소는 선택될 가능성이 동일합니다. **`random.choice()`** 함수를 사용하는 여러 가지 측면에 대해 더 자세히 설명하겠습니다."
      ],
      "metadata": {
        "id": "3cSPMHRW7MFC"
      }
    },
    {
      "cell_type": "code",
      "source": [
        "#1. Choice 기본 사용법\n",
        "#chosen_element = random.choice(sequence)\n",
        "\n",
        "# 리스트에서 무작위 과일 선택\n",
        "# 다양한 정보를 한번에 받아오는 것 = 리스트\n",
        "elements = ['사과', '바나나', '체리']\n",
        "choice_elements = random.choice(elements)\n",
        "print(f'선택된 요소 : {choice_elements} 입니다.')"
      ],
      "metadata": {
        "colab": {
          "base_uri": "https://localhost:8080/"
        },
        "id": "WgXZUt252_k2",
        "outputId": "427713ee-197a-4dfe-9250-dd59cf00fec0"
      },
      "execution_count": 29,
      "outputs": [
        {
          "output_type": "stream",
          "name": "stdout",
          "text": [
            "선택된 요소 : 체리 입니다.\n"
          ]
        }
      ]
    },
    {
      "cell_type": "code",
      "source": [
        "# 2. 문자열에서 무작위 문자 선택\n",
        "greeting = \"안녕하세요\"\n",
        "choice_char = random.choice(greeting)\n",
        "print(f\"선택된 문자: {choice_char} 입니다.\")"
      ],
      "metadata": {
        "colab": {
          "base_uri": "https://localhost:8080/"
        },
        "id": "5mGqtOSn8UPI",
        "outputId": "2574a2b9-3d6c-4cea-99bc-ff098396f2b4"
      },
      "execution_count": 33,
      "outputs": [
        {
          "output_type": "stream",
          "name": "stdout",
          "text": [
            "선택된 문자: h 입니다.\n"
          ]
        }
      ]
    },
    {
      "cell_type": "code",
      "source": [
        "기본 - input output -> 문자열을 받아서 문자열 출력!\n",
        "random - 무작위의 숫자 또는 문자를 받아와서 출력!"
      ],
      "metadata": {
        "id": "AtYuYgTM9CXg"
      },
      "execution_count": null,
      "outputs": []
    },
    {
      "cell_type": "code",
      "source": [
        "# 이렇게 사용하면 문자열\n",
        "test1 = input(\"임의의 숫자를 입력하세요\")"
      ],
      "metadata": {
        "colab": {
          "base_uri": "https://localhost:8080/"
        },
        "id": "SafgEqet-NvD",
        "outputId": "71598a94-277c-4345-9d85-1a42f60ffe35"
      },
      "execution_count": 34,
      "outputs": [
        {
          "name": "stdout",
          "output_type": "stream",
          "text": [
            "임의의 숫자를 입력하세요10\n"
          ]
        }
      ]
    },
    {
      "cell_type": "code",
      "source": [
        "# 이렇게 사용하면 숫자(정수)\n",
        "test1_1 = int(input(\"임의의 숫자를 입력하세요\"))"
      ],
      "metadata": {
        "colab": {
          "base_uri": "https://localhost:8080/"
        },
        "id": "-2n0H69x-6EV",
        "outputId": "7dbdceeb-f70d-4bd4-e65d-8cfc95c2bc35"
      },
      "execution_count": 42,
      "outputs": [
        {
          "name": "stdout",
          "output_type": "stream",
          "text": [
            "임의의 숫자를 입력하세요10\n"
          ]
        }
      ]
    },
    {
      "cell_type": "code",
      "source": [
        "type(test1_1)"
      ],
      "metadata": {
        "colab": {
          "base_uri": "https://localhost:8080/"
        },
        "id": "f191Nx7L-SN1",
        "outputId": "66e956e9-5436-41cf-914b-76249cc870dc"
      },
      "execution_count": 43,
      "outputs": [
        {
          "output_type": "execute_result",
          "data": {
            "text/plain": [
              "int"
            ]
          },
          "metadata": {},
          "execution_count": 43
        }
      ]
    },
    {
      "cell_type": "code",
      "source": [
        "print(test1_1 + test1_1)"
      ],
      "metadata": {
        "colab": {
          "base_uri": "https://localhost:8080/"
        },
        "id": "szgj8fKK-djD",
        "outputId": "923e4ffb-db25-4972-dc42-428efc2fa3f7"
      },
      "execution_count": 44,
      "outputs": [
        {
          "output_type": "stream",
          "name": "stdout",
          "text": [
            "20\n"
          ]
        }
      ]
    },
    {
      "cell_type": "code",
      "source": [
        "test2 = random.randrange(1, 46)"
      ],
      "metadata": {
        "id": "LegP1xwY-UG0"
      },
      "execution_count": 36,
      "outputs": []
    },
    {
      "cell_type": "code",
      "source": [
        "type(test2)"
      ],
      "metadata": {
        "colab": {
          "base_uri": "https://localhost:8080/"
        },
        "id": "B9f6EwNL-XN_",
        "outputId": "67c97d1f-516b-4780-ade3-ee35a07d6248"
      },
      "execution_count": 37,
      "outputs": [
        {
          "output_type": "execute_result",
          "data": {
            "text/plain": [
              "int"
            ]
          },
          "metadata": {},
          "execution_count": 37
        }
      ]
    },
    {
      "cell_type": "code",
      "source": [
        "print(test2)"
      ],
      "metadata": {
        "colab": {
          "base_uri": "https://localhost:8080/"
        },
        "id": "D-xlyGxX-ohQ",
        "outputId": "170330a7-2c9a-42fb-80ba-c509c3d6219d"
      },
      "execution_count": 41,
      "outputs": [
        {
          "output_type": "stream",
          "name": "stdout",
          "text": [
            "39\n"
          ]
        }
      ]
    },
    {
      "cell_type": "code",
      "source": [
        "print(test2 + test2)"
      ],
      "metadata": {
        "colab": {
          "base_uri": "https://localhost:8080/"
        },
        "id": "E_3FlrjB-YJQ",
        "outputId": "a34b5277-1be3-45e7-9733-f59784682b9e"
      },
      "execution_count": 40,
      "outputs": [
        {
          "output_type": "stream",
          "name": "stdout",
          "text": [
            "78\n"
          ]
        }
      ]
    },
    {
      "cell_type": "markdown",
      "source": [
        "#3. 주석 입력"
      ],
      "metadata": {
        "id": "dcxB8T9Q_qfm"
      }
    },
    {
      "cell_type": "code",
      "source": [
        "'''\n",
        "코드 실행 날짜 : 2024년 1월 1일\n",
        "버전 : V0.1\n",
        "작성자 : 김진환\n",
        "코드 내용 : random라이브러리를 활용해서 실습 예제 작성\n",
        "'''\n",
        "\n",
        "# 이 코드는 Random 라이브러리를 사용한 예시입니다.\n",
        "import random  # random 라이브러리를 가져옵니다.\n",
        "\n",
        "# 두 개의 무작위 숫자를 생성하는 코드\n",
        "random_number1 = random.randrange(1, 10)  #1부터 9까지의 임의의 숫자 한개를 가져옵니다.(2024.1.1 업데이트)\n",
        "#random_number2 = random.randrange(1, 10)  #1부터 9까지의 임의의 숫자 한개를 가져옵니다.(2024.1.1 에러)\n",
        "\n",
        "\n",
        "\n",
        "# 두 개의 무작위 숫자를 합산하는 코드 / 생성된 두 숫자의 합 계산\n",
        "sum_of_numbers = random_number1 + random_number2\n",
        "\n",
        "# 결과 출력\n",
        "print(f\"첫 번째 생성된 숫자: {random_number1}\")  # 첫번째 생성된 값 (2024.1.1 에러)\n",
        "print(f\"두 번째 생성된 숫자: {random_number2}\")  # 두번째 생성된 값\n",
        "print(f\"두 숫자의 합: {sum_of_numbers}\")       # 두 숫자의 합 출력"
      ],
      "metadata": {
        "id": "KW_u4khP-nPl"
      },
      "execution_count": null,
      "outputs": []
    },
    {
      "cell_type": "code",
      "source": [
        "import random\n",
        "\n",
        "'''\n",
        "1. 윷은 앞/뒤 중에 하나를 선택해야 한다.\n",
        " 1.1 윷은 랜덤으로 하나가 선택되어야 한다.\n",
        " 1.2 앞/뒤를 나올 확률은 1/2이 되어야 한다.\n",
        "2. 윷놀이에는 다섯가지의 이동 법칙이 있다.(빽도 X)\n",
        " 2.1 윷놀이에는 도, 개, 걸, 윷, 모\n",
        " 2.2 도 - 앞 3 뒤 1 / 개 - 앞 2 뒤 2 / 걸 - 앞 1 뒤 3 / 윷 - 앞 0 뒤 4 / 모 - 앞 4 뒤 0\n",
        " 2.3 (히든 계산) 도 - 1  / 개 - 2  / 걸 - 3 / 윷 - 4 / 모 - 0\n",
        "3. 최종적으로 도~모 하나만 선택 되어야 한다.\n",
        "'''\n",
        "\n",
        "# 윷 던지기 결과 (0: 앞, 1: 뒤)\n",
        "throw1 = random.choice([0, 1])\n",
        "throw2 = random.choice([0, 1])\n",
        "throw3 = random.choice([0, 1])\n",
        "throw4 = random.choice([0, 1])\n",
        "\n",
        "# 뒷면의 총 개수 계산\n",
        "total_back = throw1 + throw2 + throw3 + throw4\n",
        "\n",
        "# 윷놀이 결과\n",
        "# 뒷면이 없는 경우 (모), 뒷면이 1개인 경우 (도), 2개 (개), 3개 (걸), 모두 뒷면 (윷)\n",
        "# results = [0,1,2,3,4]\n",
        "results = ['모', '도', '개', '걸', '윷']\n",
        "print(total_back)\n",
        "print(results[total_back])"
      ],
      "metadata": {
        "colab": {
          "base_uri": "https://localhost:8080/"
        },
        "id": "6eP23b_KLjoG",
        "outputId": "60407532-1720-47da-8844-4d127503376d"
      },
      "execution_count": 49,
      "outputs": [
        {
          "output_type": "stream",
          "name": "stdout",
          "text": [
            "4\n",
            "윷\n"
          ]
        }
      ]
    },
    {
      "cell_type": "code",
      "source": [
        "토일렛 = 화장실\n",
        "뒷간 = 화장실"
      ],
      "metadata": {
        "id": "FDRi_rUYLkFP"
      },
      "execution_count": null,
      "outputs": []
    },
    {
      "cell_type": "code",
      "source": [
        "x = 10"
      ],
      "metadata": {
        "id": "NQB2gSIDQhp8"
      },
      "execution_count": 50,
      "outputs": []
    },
    {
      "cell_type": "code",
      "source": [
        "print(x)"
      ],
      "metadata": {
        "colab": {
          "base_uri": "https://localhost:8080/"
        },
        "id": "zJzUJnpnQhmk",
        "outputId": "e4beab3d-5877-4dc5-e8e9-66825f018682"
      },
      "execution_count": 51,
      "outputs": [
        {
          "output_type": "stream",
          "name": "stdout",
          "text": [
            "10\n"
          ]
        }
      ]
    },
    {
      "cell_type": "code",
      "source": [
        "y = x\n",
        "print(y)"
      ],
      "metadata": {
        "colab": {
          "base_uri": "https://localhost:8080/"
        },
        "id": "IiybT4d9Qhf7",
        "outputId": "7c4072fd-c953-4f9f-8643-832e59701768"
      },
      "execution_count": 52,
      "outputs": [
        {
          "output_type": "stream",
          "name": "stdout",
          "text": [
            "10\n"
          ]
        }
      ]
    },
    {
      "cell_type": "code",
      "source": [
        "z = y\n",
        "print(z)"
      ],
      "metadata": {
        "colab": {
          "base_uri": "https://localhost:8080/"
        },
        "id": "_IOxK0o8Qltz",
        "outputId": "bc020414-6c6d-417d-fad8-beb97fb942b2"
      },
      "execution_count": 53,
      "outputs": [
        {
          "output_type": "stream",
          "name": "stdout",
          "text": [
            "10\n"
          ]
        }
      ]
    },
    {
      "cell_type": "code",
      "source": [
        "x = 20"
      ],
      "metadata": {
        "id": "I0szGUAUQoeL"
      },
      "execution_count": 54,
      "outputs": []
    },
    {
      "cell_type": "code",
      "source": [
        "print(x)"
      ],
      "metadata": {
        "colab": {
          "base_uri": "https://localhost:8080/"
        },
        "id": "ERyL6KzdQrVQ",
        "outputId": "863d9d39-deeb-42b4-dfe0-2e0866f04cbc"
      },
      "execution_count": 55,
      "outputs": [
        {
          "output_type": "stream",
          "name": "stdout",
          "text": [
            "20\n"
          ]
        }
      ]
    },
    {
      "cell_type": "code",
      "source": [
        "print(y, z)"
      ],
      "metadata": {
        "colab": {
          "base_uri": "https://localhost:8080/"
        },
        "id": "nqIQlPgfQtK_",
        "outputId": "177b41e2-7d0d-4d77-dec5-f21046fcea25"
      },
      "execution_count": 56,
      "outputs": [
        {
          "output_type": "stream",
          "name": "stdout",
          "text": [
            "10 10\n"
          ]
        }
      ]
    },
    {
      "cell_type": "code",
      "source": [
        "x = 10\n",
        "y = x\n",
        "z = y\n",
        "x = 20\n",
        "print(y, z) # 결과 값은 10입니다."
      ],
      "metadata": {
        "id": "vQQAwc-nQgaS"
      },
      "execution_count": null,
      "outputs": []
    }
  ]
}