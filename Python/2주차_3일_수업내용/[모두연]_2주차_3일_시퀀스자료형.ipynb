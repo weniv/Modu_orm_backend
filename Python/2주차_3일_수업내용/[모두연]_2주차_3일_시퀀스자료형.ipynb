{
  "nbformat": 4,
  "nbformat_minor": 0,
  "metadata": {
    "colab": {
      "provenance": []
    },
    "kernelspec": {
      "name": "python3",
      "display_name": "Python 3"
    },
    "language_info": {
      "name": "python"
    }
  },
  "cells": [
    {
      "cell_type": "markdown",
      "source": [
        "#1. 시퀀스 자료형"
      ],
      "metadata": {
        "id": "ZfWFnu_a7LQC"
      }
    },
    {
      "cell_type": "code",
      "execution_count": 2,
      "metadata": {
        "colab": {
          "base_uri": "https://localhost:8080/"
        },
        "id": "R8AWz_KP7FbD",
        "outputId": "97827f9a-6da4-4d47-f32b-f766c3b5ac67"
      },
      "outputs": [
        {
          "output_type": "stream",
          "name": "stdout",
          "text": [
            "a\n",
            "c\n",
            "e\n"
          ]
        }
      ],
      "source": [
        "#1.1 인덱싱\n",
        "      #(-) 54321\n",
        "          #01234\n",
        "example = 'abcde'\n",
        "print(example[0]) # 출력: a\n",
        "print(example[2]) # 출력: c\n",
        "print(example[-1]) # 출력: e"
      ]
    },
    {
      "cell_type": "code",
      "source": [
        "#1.2 슬라이싱\n",
        "          #54321\n",
        "          #01234\n",
        "example = 'abcde'\n",
        "print(example[-4:-1]) # 출력: bc"
      ],
      "metadata": {
        "colab": {
          "base_uri": "https://localhost:8080/"
        },
        "id": "O3IqXYdp7Pj1",
        "outputId": "54411715-4f49-48a5-ebd7-7ae6f7723daf"
      },
      "execution_count": 4,
      "outputs": [
        {
          "output_type": "stream",
          "name": "stdout",
          "text": [
            "bcd\n"
          ]
        }
      ]
    },
    {
      "cell_type": "code",
      "source": [
        "range(10)[3] # 출력: 3\n",
        "range(100)[::5] # 출력: range(0, 100, 5)"
      ],
      "metadata": {
        "id": "rg5loXsf7x7e"
      },
      "execution_count": null,
      "outputs": []
    },
    {
      "cell_type": "code",
      "source": [
        "# 1.3 특정항목 포함 여부\n",
        "example = 'abcde'\n",
        "print('a' in example) # 이게 맞음!"
      ],
      "metadata": {
        "colab": {
          "base_uri": "https://localhost:8080/"
        },
        "id": "kcRhdecc8ECY",
        "outputId": "024f3697-6322-4dcf-9667-2821401c1d66"
      },
      "execution_count": 7,
      "outputs": [
        {
          "output_type": "stream",
          "name": "stdout",
          "text": [
            "True\n"
          ]
        }
      ]
    },
    {
      "cell_type": "code",
      "source": [
        "print('z' not in example) # 출력: False"
      ],
      "metadata": {
        "colab": {
          "base_uri": "https://localhost:8080/"
        },
        "id": "YcooBan38JEs",
        "outputId": "154d4694-be47-46fa-bebc-920b41cc36f8"
      },
      "execution_count": 8,
      "outputs": [
        {
          "output_type": "stream",
          "name": "stdout",
          "text": [
            "True\n"
          ]
        }
      ]
    },
    {
      "cell_type": "code",
      "source": [
        "#1.4 연결 & 반복\n",
        "example1 = 'abcde'\n",
        "example2 = 'f'\n",
        "print(example1 + example2) # 출력: abcdef\n",
        "print(example2 * 3)        # 출력: fff"
      ],
      "metadata": {
        "colab": {
          "base_uri": "https://localhost:8080/"
        },
        "id": "CGdR_I8F8olT",
        "outputId": "a00ccb59-6331-4257-bccb-05bed8a6dd78"
      },
      "execution_count": 9,
      "outputs": [
        {
          "output_type": "stream",
          "name": "stdout",
          "text": [
            "abcdef\n",
            "fff\n"
          ]
        }
      ]
    },
    {
      "cell_type": "code",
      "source": [
        "# 내장함수를 사용!\n",
        "example = 'abcde'\n",
        "print(len(example))  # 출력: 5\n",
        "print(min(example))  # 출력: a\n",
        "print(max(example))  # 출력: e"
      ],
      "metadata": {
        "colab": {
          "base_uri": "https://localhost:8080/"
        },
        "id": "WmScubU39I6B",
        "outputId": "177a27f9-a33f-4af9-8c1b-1fe20c361e3f"
      },
      "execution_count": 10,
      "outputs": [
        {
          "output_type": "stream",
          "name": "stdout",
          "text": [
            "5\n",
            "a\n",
            "e\n"
          ]
        }
      ]
    },
    {
      "cell_type": "markdown",
      "source": [
        "#2. 시퀀스 자료형의 패킹과 언패킹"
      ],
      "metadata": {
        "id": "g7qIy8km95KX"
      }
    },
    {
      "cell_type": "code",
      "source": [
        "#2.1 튜플 패킹\n",
        "\n",
        "# 튜플 패킹\n",
        "packed_tuple = 1, 2, 3, 4\n",
        "print(packed_tuple)  # 출력: (1, 2, 3, 4)\n",
        "type(packed_tuple)"
      ],
      "metadata": {
        "colab": {
          "base_uri": "https://localhost:8080/"
        },
        "id": "gXfllqOC9ZdU",
        "outputId": "ff3ab88d-05da-4233-de48-9b5bb62cbaa0"
      },
      "execution_count": 13,
      "outputs": [
        {
          "output_type": "stream",
          "name": "stdout",
          "text": [
            "(1, 2, 3, 4)\n"
          ]
        },
        {
          "output_type": "execute_result",
          "data": {
            "text/plain": [
              "tuple"
            ]
          },
          "metadata": {},
          "execution_count": 13
        }
      ]
    },
    {
      "cell_type": "code",
      "source": [
        "tuple_example = 1\n",
        "print(tuple_example)\n",
        "type(tuple_example)"
      ],
      "metadata": {
        "colab": {
          "base_uri": "https://localhost:8080/"
        },
        "id": "hdQYC6-8-Aio",
        "outputId": "72e7b772-78ac-4229-b32e-ae2403bf9d45"
      },
      "execution_count": 14,
      "outputs": [
        {
          "output_type": "stream",
          "name": "stdout",
          "text": [
            "1\n"
          ]
        },
        {
          "output_type": "execute_result",
          "data": {
            "text/plain": [
              "int"
            ]
          },
          "metadata": {},
          "execution_count": 14
        }
      ]
    },
    {
      "cell_type": "code",
      "source": [
        "#2.2 언패킹\n",
        "\n",
        "# 튜플 패킹\n",
        "packed_tuple = 1, 2, 3, 4\n",
        "print(packed_tuple)"
      ],
      "metadata": {
        "colab": {
          "base_uri": "https://localhost:8080/"
        },
        "id": "_rIhTWfD-Gzc",
        "outputId": "1d7fd581-a033-49f3-d26d-3c5def39d7af"
      },
      "execution_count": 15,
      "outputs": [
        {
          "output_type": "stream",
          "name": "stdout",
          "text": [
            "(1, 2, 3, 4)\n"
          ]
        }
      ]
    },
    {
      "cell_type": "code",
      "source": [
        "# 튜플 언패킹\n",
        "a, b, c, d = packed_tuple\n",
        "print(a)  # 출력: 1\n",
        "print(b)  # 출력: 2\n",
        "print(c)  # 출력: 3\n",
        "print(d)  # 출력: 4"
      ],
      "metadata": {
        "colab": {
          "base_uri": "https://localhost:8080/"
        },
        "id": "vDhMbdgI-l6y",
        "outputId": "9b3399e3-87a5-43a1-8e74-8cc7babb47a8"
      },
      "execution_count": 18,
      "outputs": [
        {
          "output_type": "stream",
          "name": "stdout",
          "text": [
            "1\n",
            "2\n",
            "3\n",
            "4\n"
          ]
        }
      ]
    },
    {
      "cell_type": "code",
      "source": [
        "# 다양한 패킹/언패킹\n",
        "# range는 0부터 n-1까지 숫자를 생성하는 함수\n",
        "a,b,c = range(3) #0,1,2\n",
        "print(range(3))\n",
        "print(a,b,c)"
      ],
      "metadata": {
        "colab": {
          "base_uri": "https://localhost:8080/"
        },
        "id": "dUwdR_3f-tqQ",
        "outputId": "e94b19de-653c-433e-df01-f8f9fd05cd8f"
      },
      "execution_count": 25,
      "outputs": [
        {
          "output_type": "stream",
          "name": "stdout",
          "text": [
            "range(0, 3)\n",
            "0 1 2\n"
          ]
        }
      ]
    },
    {
      "cell_type": "code",
      "source": [
        "a, b, c, d, e = 'hello'\n",
        "print(a)\n",
        "print(b)\n",
        "print(c)\n",
        "print(d)\n",
        "print(e)"
      ],
      "metadata": {
        "colab": {
          "base_uri": "https://localhost:8080/"
        },
        "id": "MJYWSQBm_O9W",
        "outputId": "9149efa0-ee97-4195-8c13-7904c646f194"
      },
      "execution_count": 27,
      "outputs": [
        {
          "output_type": "stream",
          "name": "stdout",
          "text": [
            "h\n",
            "e\n",
            "l\n",
            "l\n",
            "o\n"
          ]
        }
      ]
    },
    {
      "cell_type": "code",
      "source": [
        "a, b = [10, 20]\n",
        "print(a)\n",
        "print(b)"
      ],
      "metadata": {
        "colab": {
          "base_uri": "https://localhost:8080/"
        },
        "id": "mPPny3ms_qxI",
        "outputId": "819f15cb-ab51-46de-84a3-5bd6c89c898b"
      },
      "execution_count": 28,
      "outputs": [
        {
          "output_type": "stream",
          "name": "stdout",
          "text": [
            "10\n",
            "20\n"
          ]
        }
      ]
    },
    {
      "cell_type": "code",
      "source": [
        "total_sum = 0\n",
        "\n",
        "for i in range(5): #0,1,2,3,4\n",
        "    total_sum += i\n",
        "    print(total_sum)\n",
        "print(total_sum)"
      ],
      "metadata": {
        "colab": {
          "base_uri": "https://localhost:8080/"
        },
        "id": "-A-HlGVa_xzM",
        "outputId": "006e57f7-1b14-4178-999c-2fc2cf070cef"
      },
      "execution_count": 29,
      "outputs": [
        {
          "output_type": "stream",
          "name": "stdout",
          "text": [
            "0\n",
            "1\n",
            "3\n",
            "6\n",
            "10\n",
            "10\n"
          ]
        }
      ]
    },
    {
      "cell_type": "code",
      "source": [
        "# 별표를 이용한 언패킹\n",
        "first, *middle, last = [1,2,3,4,5]\n",
        "print(first)\n",
        "print(middle)\n",
        "print(last)"
      ],
      "metadata": {
        "colab": {
          "base_uri": "https://localhost:8080/"
        },
        "id": "9fsh_4DyAaUM",
        "outputId": "1900e2a6-64eb-4c25-d992-3517eb060258"
      },
      "execution_count": 30,
      "outputs": [
        {
          "output_type": "stream",
          "name": "stdout",
          "text": [
            "1\n",
            "[2, 3, 4]\n",
            "5\n"
          ]
        }
      ]
    },
    {
      "cell_type": "code",
      "source": [
        "first, *middle = [1,2,3,4,5]\n",
        "print(first)\n",
        "print(middle)"
      ],
      "metadata": {
        "colab": {
          "base_uri": "https://localhost:8080/"
        },
        "id": "GtcnhsviA0xk",
        "outputId": "940331f6-1141-4b96-f3b3-2f16da9c6b72"
      },
      "execution_count": 34,
      "outputs": [
        {
          "output_type": "stream",
          "name": "stdout",
          "text": [
            "5\n",
            "[1, 2, 3, 4]\n"
          ]
        }
      ]
    },
    {
      "cell_type": "markdown",
      "source": [
        "#2. 리스트"
      ],
      "metadata": {
        "id": "T0GDbTt7EuY6"
      }
    },
    {
      "cell_type": "code",
      "source": [
        "#리스트의 필요성\n",
        "\n",
        "x1 = 100\n",
        "x2 = 200\n",
        "x3 = 300\n",
        "\n",
        "x = [100,200,300]"
      ],
      "metadata": {
        "id": "1v38PrLMA82A"
      },
      "execution_count": null,
      "outputs": []
    },
    {
      "cell_type": "code",
      "source": [
        "#리스트의 장점 : 여러가지 자료형을 넣을수 있다.\n",
        "z = [1, 'apple', 2.5, ['a', 'b'], (1, 2), True]\n",
        "print(z[0])\n",
        "print(z[1])\n",
        "print(z[2])\n",
        "print(z[3])\n",
        "print(z[4])\n",
        "print(z[5])"
      ],
      "metadata": {
        "colab": {
          "base_uri": "https://localhost:8080/"
        },
        "id": "YoPgLbydFdbR",
        "outputId": "8364ea63-2a04-45b0-8fd6-2d57bad0d952"
      },
      "execution_count": 36,
      "outputs": [
        {
          "output_type": "stream",
          "name": "stdout",
          "text": [
            "1\n",
            "apple\n",
            "2.5\n",
            "['a', 'b']\n",
            "(1, 2)\n",
            "True\n"
          ]
        }
      ]
    },
    {
      "cell_type": "code",
      "source": [
        "z = [\n",
        "\t\t1,\n",
        "\t\t'apple',\n",
        "\t\t2.5,\n",
        "\t\t['a', 'b'],\n",
        "\t\t(1, 2)\n",
        "]\n",
        "print(z[0])\n",
        "print(z[1])\n",
        "print(z[2])\n",
        "print(z[3])\n",
        "print(z[4])"
      ],
      "metadata": {
        "colab": {
          "base_uri": "https://localhost:8080/"
        },
        "id": "M8b1AYq8FiGB",
        "outputId": "5c66ecae-db4e-423a-c176-dc5022ebf13e"
      },
      "execution_count": 37,
      "outputs": [
        {
          "output_type": "stream",
          "name": "stdout",
          "text": [
            "1\n",
            "apple\n",
            "2.5\n",
            "['a', 'b']\n",
            "(1, 2)\n"
          ]
        }
      ]
    },
    {
      "cell_type": "code",
      "source": [
        "#2.2 리스트 값 수정\n",
        "\n",
        "a = [1, 2, 3, 4, 5]\n",
        "a[0] = 10000\n",
        "print(a)"
      ],
      "metadata": {
        "colab": {
          "base_uri": "https://localhost:8080/"
        },
        "id": "UFaTh_0BFxye",
        "outputId": "4a282754-a790-43e0-f758-a99f28588e39"
      },
      "execution_count": 38,
      "outputs": [
        {
          "output_type": "stream",
          "name": "stdout",
          "text": [
            "[10000, 2, 3, 4, 5]\n"
          ]
        }
      ]
    },
    {
      "cell_type": "code",
      "source": [
        "# 문자열은 변경할수 없다.\n",
        "s = 'licat'\n",
        "print(s[0])\n",
        "s[0] = 'k'"
      ],
      "metadata": {
        "colab": {
          "base_uri": "https://localhost:8080/",
          "height": 234
        },
        "id": "t6m_VZL4G7sF",
        "outputId": "9a624752-2037-4346-cea5-760c45fddb57"
      },
      "execution_count": 39,
      "outputs": [
        {
          "output_type": "stream",
          "name": "stdout",
          "text": [
            "l\n"
          ]
        },
        {
          "output_type": "error",
          "ename": "TypeError",
          "evalue": "ignored",
          "traceback": [
            "\u001b[0;31m---------------------------------------------------------------------------\u001b[0m",
            "\u001b[0;31mTypeError\u001b[0m                                 Traceback (most recent call last)",
            "\u001b[0;32m<ipython-input-39-669c1f95f71e>\u001b[0m in \u001b[0;36m<cell line: 4>\u001b[0;34m()\u001b[0m\n\u001b[1;32m      2\u001b[0m \u001b[0ms\u001b[0m \u001b[0;34m=\u001b[0m \u001b[0;34m'licat'\u001b[0m\u001b[0;34m\u001b[0m\u001b[0;34m\u001b[0m\u001b[0m\n\u001b[1;32m      3\u001b[0m \u001b[0mprint\u001b[0m\u001b[0;34m(\u001b[0m\u001b[0ms\u001b[0m\u001b[0;34m[\u001b[0m\u001b[0;36m0\u001b[0m\u001b[0;34m]\u001b[0m\u001b[0;34m)\u001b[0m\u001b[0;34m\u001b[0m\u001b[0;34m\u001b[0m\u001b[0m\n\u001b[0;32m----> 4\u001b[0;31m \u001b[0ms\u001b[0m\u001b[0;34m[\u001b[0m\u001b[0;36m0\u001b[0m\u001b[0;34m]\u001b[0m \u001b[0;34m=\u001b[0m \u001b[0;34m'k'\u001b[0m\u001b[0;34m\u001b[0m\u001b[0;34m\u001b[0m\u001b[0m\n\u001b[0m",
            "\u001b[0;31mTypeError\u001b[0m: 'str' object does not support item assignment"
          ]
        }
      ]
    },
    {
      "cell_type": "code",
      "source": [
        "# 3. 리스트안에 리스트\n",
        "\n",
        "b = [[10, 20, 30], [1, 2, 3]]\n",
        "print(b[1][2]) # 출력: 3"
      ],
      "metadata": {
        "colab": {
          "base_uri": "https://localhost:8080/"
        },
        "id": "MXKl3hyNHU-C",
        "outputId": "a1a88b2a-7a2a-46a8-f557-79ff621f9b79"
      },
      "execution_count": 40,
      "outputs": [
        {
          "output_type": "stream",
          "name": "stdout",
          "text": [
            "3\n"
          ]
        }
      ]
    },
    {
      "cell_type": "code",
      "source": [
        "print(b)\n",
        "print(b[0])\n",
        "print(b[1])\n",
        "print(b[0][2])"
      ],
      "metadata": {
        "colab": {
          "base_uri": "https://localhost:8080/"
        },
        "id": "4VQ2U-BkHsje",
        "outputId": "bc671742-38fb-47f8-8391-15f0f14d527e"
      },
      "execution_count": 46,
      "outputs": [
        {
          "output_type": "stream",
          "name": "stdout",
          "text": [
            "[[10, 20, 30], [1, 2, 3]]\n",
            "[10, 20, 30]\n",
            "[1, 2, 3]\n",
            "30\n"
          ]
        }
      ]
    },
    {
      "cell_type": "code",
      "source": [
        "나이 직업구분\n",
        "10    1\n",
        "20    2\n",
        "30    3\n"
      ],
      "metadata": {
        "id": "nyWgWErFHv9c"
      },
      "execution_count": null,
      "outputs": []
    },
    {
      "cell_type": "code",
      "source": [
        "# 리스트의 덧셈\n",
        "a = [1, 2, 3, 4, 5] # +[6,7,8]\n",
        "b = [6, 7, 8]\n",
        "\n",
        "print(a + b) # 출력: [1, 2, 3, 4, 5, 6, 7, 8]"
      ],
      "metadata": {
        "colab": {
          "base_uri": "https://localhost:8080/"
        },
        "id": "peVXvYzjJJcx",
        "outputId": "05ec8dc9-b1a2-4245-b674-c1c374d77a40"
      },
      "execution_count": 47,
      "outputs": [
        {
          "output_type": "stream",
          "name": "stdout",
          "text": [
            "[1, 2, 3, 4, 5, 6, 7, 8]\n"
          ]
        }
      ]
    },
    {
      "cell_type": "code",
      "source": [
        "l = [1, 2, 3]\n",
        "print(type(l))\n",
        "print(l)\n",
        "print(l * 3)\n",
        "print(l + l)"
      ],
      "metadata": {
        "colab": {
          "base_uri": "https://localhost:8080/"
        },
        "id": "Z0aqVz4dJeYL",
        "outputId": "4c7458ee-2182-46bf-ed5b-a478ab064934"
      },
      "execution_count": 55,
      "outputs": [
        {
          "output_type": "stream",
          "name": "stdout",
          "text": [
            "<class 'list'>\n",
            "[1, 2, 3]\n",
            "[1, 2, 3, 1, 2, 3, 1, 2, 3]\n",
            "[1, 2, 3, 1, 2, 3]\n"
          ]
        }
      ]
    },
    {
      "cell_type": "code",
      "source": [
        "from re import L\n",
        "import numpy as np\n",
        "\n",
        "l = [1, 2, 3]\n",
        "l = np.array(l)\n",
        "print(l)\n",
        "print(type(l))\n",
        "print(l * 3)\n",
        "print(l + l)\n",
        "# 너무 당연하게 요소를 붙이는 것이다라고 생각하지 않으셨으면 좋겠습니다."
      ],
      "metadata": {
        "colab": {
          "base_uri": "https://localhost:8080/"
        },
        "id": "_Qz5yUvkJLON",
        "outputId": "e1181f88-9883-47a5-f26d-d92596486bc8"
      },
      "execution_count": 56,
      "outputs": [
        {
          "output_type": "stream",
          "name": "stdout",
          "text": [
            "[1 2 3]\n",
            "<class 'numpy.ndarray'>\n",
            "[3 6 9]\n",
            "[2 4 6]\n"
          ]
        }
      ]
    },
    {
      "cell_type": "code",
      "source": [
        "lst = [1, 2, 3, 4, 5]\n",
        "print(lst[5])"
      ],
      "metadata": {
        "colab": {
          "base_uri": "https://localhost:8080/",
          "height": 198
        },
        "id": "_UFQZHFFJRiK",
        "outputId": "8ccd4d24-69d1-4908-d0c9-78a7b413ced6"
      },
      "execution_count": 59,
      "outputs": [
        {
          "output_type": "error",
          "ename": "IndexError",
          "evalue": "ignored",
          "traceback": [
            "\u001b[0;31m---------------------------------------------------------------------------\u001b[0m",
            "\u001b[0;31mIndexError\u001b[0m                                Traceback (most recent call last)",
            "\u001b[0;32m<ipython-input-59-747f90b37a10>\u001b[0m in \u001b[0;36m<cell line: 2>\u001b[0;34m()\u001b[0m\n\u001b[1;32m      1\u001b[0m \u001b[0mlst\u001b[0m \u001b[0;34m=\u001b[0m \u001b[0;34m[\u001b[0m\u001b[0;36m1\u001b[0m\u001b[0;34m,\u001b[0m \u001b[0;36m2\u001b[0m\u001b[0;34m,\u001b[0m \u001b[0;36m3\u001b[0m\u001b[0;34m,\u001b[0m \u001b[0;36m4\u001b[0m\u001b[0;34m,\u001b[0m \u001b[0;36m5\u001b[0m\u001b[0;34m]\u001b[0m\u001b[0;34m\u001b[0m\u001b[0;34m\u001b[0m\u001b[0m\n\u001b[0;32m----> 2\u001b[0;31m \u001b[0mprint\u001b[0m\u001b[0;34m(\u001b[0m\u001b[0mlst\u001b[0m\u001b[0;34m[\u001b[0m\u001b[0;36m5\u001b[0m\u001b[0;34m]\u001b[0m\u001b[0;34m)\u001b[0m\u001b[0;34m\u001b[0m\u001b[0;34m\u001b[0m\u001b[0m\n\u001b[0m",
            "\u001b[0;31mIndexError\u001b[0m: list index out of range"
          ]
        }
      ]
    },
    {
      "cell_type": "code",
      "source": [
        "# 슬라이싱 실습!\n",
        "\n",
        "l = [1, 2, 3, 4, 5]\n",
        "\n",
        "print(l[:])     # 출력: [1, 2, 3, 4, 5]"
      ],
      "metadata": {
        "colab": {
          "base_uri": "https://localhost:8080/"
        },
        "id": "wErCd8J5KlSJ",
        "outputId": "26dc0748-9fda-43fe-baad-6df8f00f1782"
      },
      "execution_count": 60,
      "outputs": [
        {
          "output_type": "stream",
          "name": "stdout",
          "text": [
            "[1, 2, 3, 4, 5]\n"
          ]
        }
      ]
    },
    {
      "cell_type": "code",
      "source": [
        "print(l[::-1])  # 출력: [5, 4, 3, 2, 1]"
      ],
      "metadata": {
        "colab": {
          "base_uri": "https://localhost:8080/"
        },
        "id": "cLff58ZoK4-x",
        "outputId": "4ad44168-29c3-4f2a-89d1-bed2a6f6e7ee"
      },
      "execution_count": 61,
      "outputs": [
        {
          "output_type": "stream",
          "name": "stdout",
          "text": [
            "[5, 4, 3, 2, 1]\n"
          ]
        }
      ]
    },
    {
      "cell_type": "code",
      "source": [
        "print(l[::2])   # 출력: [1, 3, 5]"
      ],
      "metadata": {
        "colab": {
          "base_uri": "https://localhost:8080/"
        },
        "id": "3frH2tm1K5sV",
        "outputId": "481f0d09-03d8-4bad-9b03-41ed4b62000e"
      },
      "execution_count": 62,
      "outputs": [
        {
          "output_type": "stream",
          "name": "stdout",
          "text": [
            "[1, 3, 5]\n"
          ]
        }
      ]
    },
    {
      "cell_type": "code",
      "source": [
        "print(l[0:4][::-1]) # 출력: [4, 3, 2, 1]"
      ],
      "metadata": {
        "colab": {
          "base_uri": "https://localhost:8080/"
        },
        "id": "FUYiR3DYK72D",
        "outputId": "7a660658-87a8-44fb-9397-1f76920c01bc"
      },
      "execution_count": 63,
      "outputs": [
        {
          "output_type": "stream",
          "name": "stdout",
          "text": [
            "[4, 3, 2, 1]\n"
          ]
        }
      ]
    },
    {
      "cell_type": "code",
      "source": [
        "# 데이터가 크다. 내가 원하는대로 데이터를 추출하고 싶다.!\n",
        "# 1. 샘플링 -> 1억개 데이터 -> 천개! -> 리스트 슬라이싱! 메서드! -> 1억개 데이터!"
      ],
      "metadata": {
        "id": "Yu9oReGdLHb0"
      },
      "execution_count": null,
      "outputs": []
    },
    {
      "cell_type": "code",
      "source": [
        "l = [1, 2, 3, 4, 5]\n",
        "print(l[10:20]) # 출력: []"
      ],
      "metadata": {
        "colab": {
          "base_uri": "https://localhost:8080/"
        },
        "id": "wMCo0pCQMBbm",
        "outputId": "fcc81d5e-b19b-40b1-cfef-7b73a35820a9"
      },
      "execution_count": 64,
      "outputs": [
        {
          "output_type": "stream",
          "name": "stdout",
          "text": [
            "[]\n"
          ]
        }
      ]
    },
    {
      "cell_type": "code",
      "source": [],
      "metadata": {
        "id": "Jbb6WukIMBpP"
      },
      "execution_count": null,
      "outputs": []
    }
  ]
}