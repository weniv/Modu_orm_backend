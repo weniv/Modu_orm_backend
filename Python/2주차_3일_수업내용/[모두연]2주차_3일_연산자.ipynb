{
  "nbformat": 4,
  "nbformat_minor": 0,
  "metadata": {
    "colab": {
      "provenance": []
    },
    "kernelspec": {
      "name": "python3",
      "display_name": "Python 3"
    },
    "language_info": {
      "name": "python"
    }
  },
  "cells": [
    {
      "cell_type": "markdown",
      "source": [
        "#1. 논리연산"
      ],
      "metadata": {
        "id": "hHYV2XpdAug4"
      }
    },
    {
      "cell_type": "markdown",
      "source": [
        "* 여러분들께서 휴면고객에 대해서 데이터를 받아서 가망고객\n",
        "\n",
        "휴면고객 100,000명(DB) ->\n",
        "1차. 20~40먼저 거르면 -> 4만명(-6만명) ->\n",
        "2차. 10만원 이하를 사용한 고객 거르면 -> 2만명(-2만명)\n",
        "3차. 3번이하로 구매한 고객 -> 1만명(-1만명)\n",
        "----> 1만명에 대해서만"
      ],
      "metadata": {
        "id": "3ijwtKZbBFge"
      }
    },
    {
      "cell_type": "code",
      "execution_count": null,
      "metadata": {
        "colab": {
          "base_uri": "https://localhost:8080/"
        },
        "id": "IiZhjmrtApG8",
        "outputId": "c0aa2770-c5ca-43cc-eae2-221abc1bf6eb"
      },
      "outputs": [
        {
          "output_type": "stream",
          "name": "stdout",
          "text": [
            "test1 함수 호출!\n",
            "False\n"
          ]
        }
      ],
      "source": [
        "# 예시\n",
        "\n",
        "def test1():\n",
        "    print(\"test1 함수 호출!\")\n",
        "    return False\n",
        "\n",
        "def test2():\n",
        "    print(\"test2 함수 호출!\")\n",
        "    return True\n",
        "\n",
        "# 가장 많이 걸러지는 조건을 맨 앞에 두어야 리소스를 줄일수 있다.\n",
        "\n",
        "result = test1() and test2()\n",
        "print(result) # 결과: False"
      ]
    },
    {
      "cell_type": "code",
      "source": [
        "# 퀴즈 1\n",
        "True and False # and는 두가지 조건 모두 True여야만 True 출력한다."
      ],
      "metadata": {
        "colab": {
          "base_uri": "https://localhost:8080/"
        },
        "id": "N1nftkQWAy9h",
        "outputId": "b36179f2-c733-4f4f-cac6-c09e8768f0ea"
      },
      "execution_count": null,
      "outputs": [
        {
          "output_type": "execute_result",
          "data": {
            "text/plain": [
              "False"
            ]
          },
          "metadata": {},
          "execution_count": 2
        }
      ]
    },
    {
      "cell_type": "code",
      "source": [
        "# 퀴즈 2\n",
        "False or True # or은 둘중에 한가지 조건만 True여도 True를 출력한다."
      ],
      "metadata": {
        "colab": {
          "base_uri": "https://localhost:8080/"
        },
        "id": "JRINEowOCyWD",
        "outputId": "794c046b-83d8-4440-b9f4-a0e924d55a00"
      },
      "execution_count": null,
      "outputs": [
        {
          "output_type": "execute_result",
          "data": {
            "text/plain": [
              "True"
            ]
          },
          "metadata": {},
          "execution_count": 3
        }
      ]
    },
    {
      "cell_type": "code",
      "source": [
        "# 퀴즈 4\n",
        "0 and 1"
      ],
      "metadata": {
        "colab": {
          "base_uri": "https://localhost:8080/"
        },
        "id": "FqA5rNzsDION",
        "outputId": "410ee6bc-8033-4564-bcee-1a84c1534aa3"
      },
      "execution_count": null,
      "outputs": [
        {
          "output_type": "execute_result",
          "data": {
            "text/plain": [
              "0"
            ]
          },
          "metadata": {},
          "execution_count": 4
        }
      ]
    },
    {
      "cell_type": "code",
      "source": [
        "print(0 and 1)"
      ],
      "metadata": {
        "colab": {
          "base_uri": "https://localhost:8080/"
        },
        "id": "1BXaaxP6FxNA",
        "outputId": "ca5f9ba7-8703-49d2-c10d-3238e52292c8"
      },
      "execution_count": null,
      "outputs": [
        {
          "output_type": "stream",
          "name": "stdout",
          "text": [
            "0\n"
          ]
        }
      ]
    },
    {
      "cell_type": "code",
      "source": [
        "bool(0 and 1) #은 False를 반환하는 군요.."
      ],
      "metadata": {
        "colab": {
          "base_uri": "https://localhost:8080/"
        },
        "id": "Yf06fndMFuJZ",
        "outputId": "52a76406-6c8a-468f-f66c-3db0aa530823"
      },
      "execution_count": null,
      "outputs": [
        {
          "output_type": "execute_result",
          "data": {
            "text/plain": [
              "False"
            ]
          },
          "metadata": {},
          "execution_count": 8
        }
      ]
    },
    {
      "cell_type": "markdown",
      "source": [
        "#2. 할당연산자"
      ],
      "metadata": {
        "id": "QAH5b4zPEo30"
      }
    },
    {
      "cell_type": "code",
      "source": [
        "x = 5\n",
        "y = 2\n",
        "z = 10\n",
        "\n",
        "x1 = y * z # 20 = 2 * 10\n",
        "x2 = x + (y * z) # 25 = 5 + (2*10)\n",
        "x += y * z  # y * z 연산 후 x에 값을 더한 뒤에 할당합니다.\n",
        "\n",
        "print(x1)\n",
        "print(x2)\n",
        "print(x)  # 결과: 25"
      ],
      "metadata": {
        "colab": {
          "base_uri": "https://localhost:8080/"
        },
        "id": "H0cL5ZqCD22l",
        "outputId": "b0ca08fe-e82c-4b30-ebd5-4179980478d8"
      },
      "execution_count": null,
      "outputs": [
        {
          "output_type": "stream",
          "name": "stdout",
          "text": [
            "20\n",
            "25\n",
            "25\n"
          ]
        }
      ]
    },
    {
      "cell_type": "code",
      "source": [
        "x += y * z\n",
        "print(x)"
      ],
      "metadata": {
        "colab": {
          "base_uri": "https://localhost:8080/"
        },
        "id": "LgavrBidE5Yg",
        "outputId": "3bf9012b-7182-475d-b5b9-06e66fff96b1"
      },
      "execution_count": null,
      "outputs": [
        {
          "output_type": "stream",
          "name": "stdout",
          "text": [
            "45\n"
          ]
        }
      ]
    },
    {
      "cell_type": "code",
      "source": [
        "x = 5\n",
        "y = 2\n",
        "x //= y\n",
        "print(x)"
      ],
      "metadata": {
        "colab": {
          "base_uri": "https://localhost:8080/"
        },
        "id": "_t-pAfcZFQn5",
        "outputId": "a9ca8a15-ea0e-4e3c-b114-4368ee97f807"
      },
      "execution_count": null,
      "outputs": [
        {
          "output_type": "stream",
          "name": "stdout",
          "text": [
            "2\n"
          ]
        }
      ]
    },
    {
      "cell_type": "code",
      "source": [
        "x = 5\n",
        "y = 2\n",
        "x /= y\n",
        "print(x)"
      ],
      "metadata": {
        "colab": {
          "base_uri": "https://localhost:8080/"
        },
        "id": "0QTkZjfrGcEV",
        "outputId": "8540ce55-7036-4e06-bcbf-d6a87b3bcc8a"
      },
      "execution_count": null,
      "outputs": [
        {
          "output_type": "stream",
          "name": "stdout",
          "text": [
            "2.5\n"
          ]
        }
      ]
    },
    {
      "cell_type": "code",
      "source": [
        " a = 2\n",
        " a **= 3\n",
        " print(a)"
      ],
      "metadata": {
        "colab": {
          "base_uri": "https://localhost:8080/"
        },
        "id": "TV-LG9sfGjQF",
        "outputId": "65384e7b-e830-4943-87c4-bb1b6643139d"
      },
      "execution_count": null,
      "outputs": [
        {
          "output_type": "stream",
          "name": "stdout",
          "text": [
            "8\n"
          ]
        }
      ]
    },
    {
      "cell_type": "markdown",
      "source": [
        "#3. 식별연산"
      ],
      "metadata": {
        "id": "9o4givSfH4Ao"
      }
    },
    {
      "cell_type": "code",
      "source": [
        "# 1. 동일 인물 확인\n",
        "\n",
        "coffee_employee = \"Brand\"\n",
        "orange_employee = \"Brand\"\n",
        "\n",
        "print(coffee_employee is orange_employee) # 주소가 같은지\n",
        "print(coffee_employee == orange_employee) # 실제 값이 같은지"
      ],
      "metadata": {
        "colab": {
          "base_uri": "https://localhost:8080/"
        },
        "id": "QF3rxWtcHCzx",
        "outputId": "f708e7f8-0392-41e4-f92d-19c97aa98c8e"
      },
      "execution_count": null,
      "outputs": [
        {
          "output_type": "stream",
          "name": "stdout",
          "text": [
            "True\n",
            "True\n"
          ]
        }
      ]
    },
    {
      "cell_type": "code",
      "source": [
        "print(id(coffee_employee))\n",
        "print(id(orange_employee))"
      ],
      "metadata": {
        "colab": {
          "base_uri": "https://localhost:8080/"
        },
        "id": "v-PH3S33IlAD",
        "outputId": "642de4b9-5530-4495-8aef-247d70619913"
      },
      "execution_count": null,
      "outputs": [
        {
          "output_type": "stream",
          "name": "stdout",
          "text": [
            "139682981805744\n",
            "139682981805744\n"
          ]
        }
      ]
    },
    {
      "cell_type": "code",
      "source": [
        "# 2. -5 ~ 256 같은 주소를 바라고 있지만 그 범위 이하 이상일때는 주소가 달라진다.\n",
        "\n",
        "coffee_employee = 0\n",
        "orange_employee = 0\n",
        "\n",
        "print(coffee_employee is orange_employee) # 주소가 같은지\n",
        "print(coffee_employee == orange_employee) # 실제 값이 같은지"
      ],
      "metadata": {
        "colab": {
          "base_uri": "https://localhost:8080/"
        },
        "id": "mzRO6I_UIBiE",
        "outputId": "5f4b6ffb-53b1-4ce0-d978-441ea9c977d6"
      },
      "execution_count": null,
      "outputs": [
        {
          "output_type": "stream",
          "name": "stdout",
          "text": [
            "True\n",
            "True\n"
          ]
        }
      ]
    },
    {
      "cell_type": "code",
      "source": [
        "coffee_employee = -6\n",
        "orange_employee = -6\n",
        "\n",
        "print(coffee_employee is orange_employee) # 주소가 같은지\n",
        "print(coffee_employee == orange_employee) # 실제 값이 같은지"
      ],
      "metadata": {
        "colab": {
          "base_uri": "https://localhost:8080/"
        },
        "id": "e_PzkbBCIKXG",
        "outputId": "ac92a37d-bbcd-46c4-e363-1b46e25b91ad"
      },
      "execution_count": null,
      "outputs": [
        {
          "output_type": "stream",
          "name": "stdout",
          "text": [
            "False\n",
            "True\n"
          ]
        }
      ]
    },
    {
      "cell_type": "code",
      "source": [
        "coffee_employee = 1000\n",
        "orange_employee = 1000\n",
        "\n",
        "print(coffee_employee is orange_employee) # 주소가 같은지\n",
        "print(coffee_employee == orange_employee) # 실제 값이 같은지"
      ],
      "metadata": {
        "colab": {
          "base_uri": "https://localhost:8080/"
        },
        "id": "f-Fi541_IM8x",
        "outputId": "e49e9a31-f110-41e6-c44a-5f9a8a03e5c4"
      },
      "execution_count": null,
      "outputs": [
        {
          "output_type": "stream",
          "name": "stdout",
          "text": [
            "False\n",
            "True\n"
          ]
        }
      ]
    },
    {
      "cell_type": "code",
      "source": [
        "#2. 예시 2\n",
        "\n",
        "a = [1, 2, 3] #리스트 형인 [1,2,3]\n",
        "b = [1, 2, 3] #리스트 형인 [1,2,3]\n",
        "c = a #리스트 형인 [1,2,3] 다만 a에 있는 것을 재할당!\n"
      ],
      "metadata": {
        "id": "6X3CC2SSIPrN"
      },
      "execution_count": null,
      "outputs": []
    },
    {
      "cell_type": "code",
      "source": [
        "print(a,b,c)"
      ],
      "metadata": {
        "colab": {
          "base_uri": "https://localhost:8080/"
        },
        "id": "7X55jsbjI-DC",
        "outputId": "18d44f95-be71-42c6-9b88-33aeff06a46c"
      },
      "execution_count": null,
      "outputs": [
        {
          "output_type": "stream",
          "name": "stdout",
          "text": [
            "[1, 2, 3] [1, 2, 3] [1, 2, 3]\n"
          ]
        }
      ]
    },
    {
      "cell_type": "code",
      "source": [
        "print('a == b', a == b)"
      ],
      "metadata": {
        "colab": {
          "base_uri": "https://localhost:8080/"
        },
        "id": "VgRcDlH4JCHY",
        "outputId": "7725b1ab-4c3b-4f20-802e-331664112e0e"
      },
      "execution_count": null,
      "outputs": [
        {
          "output_type": "stream",
          "name": "stdout",
          "text": [
            "a == b True\n"
          ]
        }
      ]
    },
    {
      "cell_type": "code",
      "source": [
        "print('a == c', a == c)"
      ],
      "metadata": {
        "colab": {
          "base_uri": "https://localhost:8080/"
        },
        "id": "_YXkOWXoJEQ2",
        "outputId": "ab5ba814-5c5e-4da7-8319-ffa66807249f"
      },
      "execution_count": null,
      "outputs": [
        {
          "output_type": "stream",
          "name": "stdout",
          "text": [
            "a == c True\n"
          ]
        }
      ]
    },
    {
      "cell_type": "code",
      "source": [
        "print('b == c', b == c)"
      ],
      "metadata": {
        "colab": {
          "base_uri": "https://localhost:8080/"
        },
        "id": "T5Xnrkp9JF3x",
        "outputId": "857e0062-e916-41dc-e873-d0f891506110"
      },
      "execution_count": null,
      "outputs": [
        {
          "output_type": "stream",
          "name": "stdout",
          "text": [
            "b == c True\n"
          ]
        }
      ]
    },
    {
      "cell_type": "code",
      "source": [
        "print('a is b', a is b)"
      ],
      "metadata": {
        "colab": {
          "base_uri": "https://localhost:8080/"
        },
        "id": "fnB1RFbAJLVD",
        "outputId": "e523832c-2071-44ee-f144-5b223834bf89"
      },
      "execution_count": null,
      "outputs": [
        {
          "output_type": "stream",
          "name": "stdout",
          "text": [
            "a is b False\n"
          ]
        }
      ]
    },
    {
      "cell_type": "code",
      "source": [
        "print('a is c', a is c)"
      ],
      "metadata": {
        "colab": {
          "base_uri": "https://localhost:8080/"
        },
        "id": "WDMKT0lZJOxP",
        "outputId": "97dcc0ba-fb94-4a85-fee8-87927d7097c5"
      },
      "execution_count": null,
      "outputs": [
        {
          "output_type": "stream",
          "name": "stdout",
          "text": [
            "a is c True\n"
          ]
        }
      ]
    },
    {
      "cell_type": "code",
      "source": [
        "print('b is c', b is c)"
      ],
      "metadata": {
        "colab": {
          "base_uri": "https://localhost:8080/"
        },
        "id": "jNzfwF_uI25S",
        "outputId": "a1033f50-3516-475f-a3b6-15433d44ccc7"
      },
      "execution_count": null,
      "outputs": [
        {
          "output_type": "stream",
          "name": "stdout",
          "text": [
            "b is c False\n"
          ]
        }
      ]
    },
    {
      "cell_type": "code",
      "source": [
        "print(id(a),id(b),id(c))"
      ],
      "metadata": {
        "id": "Yf0IwrV4JVqS",
        "outputId": "04dbb071-0aa3-4804-af7b-0f7b8055afab",
        "colab": {
          "base_uri": "https://localhost:8080/"
        }
      },
      "execution_count": null,
      "outputs": [
        {
          "output_type": "stream",
          "name": "stdout",
          "text": [
            "139682619543232 139682619687808 139682619543232\n"
          ]
        }
      ]
    },
    {
      "cell_type": "markdown",
      "source": [
        "#4. 맴버연산"
      ],
      "metadata": {
        "id": "WEUM_TeSQF5_"
      }
    },
    {
      "cell_type": "code",
      "source": [
        "# 기본 예시\n",
        "a = [1, 2, 3, 4]\n",
        "b = [1, 2, 3, 4]\n",
        "c = 'hello world'\n",
        "\n",
        "print(1 in a) # 출력: True"
      ],
      "metadata": {
        "id": "N93NsXcbJaym",
        "colab": {
          "base_uri": "https://localhost:8080/"
        },
        "outputId": "51aac847-9ade-435b-caa4-8e57a693ed54"
      },
      "execution_count": 33,
      "outputs": [
        {
          "output_type": "stream",
          "name": "stdout",
          "text": [
            "True\n"
          ]
        }
      ]
    },
    {
      "cell_type": "code",
      "source": [
        "print(0 not in a) # 출력: True"
      ],
      "metadata": {
        "colab": {
          "base_uri": "https://localhost:8080/"
        },
        "id": "yqqKGCpHQQJA",
        "outputId": "f6319bad-7136-437d-9cc4-441d2e20fcef"
      },
      "execution_count": 34,
      "outputs": [
        {
          "output_type": "stream",
          "name": "stdout",
          "text": [
            "True\n"
          ]
        }
      ]
    },
    {
      "cell_type": "code",
      "source": [
        "print([2] in b) # 출력: False"
      ],
      "metadata": {
        "colab": {
          "base_uri": "https://localhost:8080/"
        },
        "id": "KyHjD4shQTQv",
        "outputId": "d0da98e8-db92-4e93-f1e8-887727847dd9"
      },
      "execution_count": 37,
      "outputs": [
        {
          "output_type": "stream",
          "name": "stdout",
          "text": [
            "False\n"
          ]
        }
      ]
    },
    {
      "cell_type": "code",
      "source": [
        "# 자료형태를 잘 파악하셔서 In을 사용하셔야 된다.\n",
        "a_1 = [[1,2], 3, 4]\n",
        "#리스트 안에 있는 값은 정수형 1, 3 ,4 / 리스트형 [2]"
      ],
      "metadata": {
        "id": "Kb7hBL85QaEj"
      },
      "execution_count": 42,
      "outputs": []
    },
    {
      "cell_type": "code",
      "source": [
        "print([2] in a_1) # 출력: False"
      ],
      "metadata": {
        "colab": {
          "base_uri": "https://localhost:8080/"
        },
        "id": "cEGd2MuCQs8r",
        "outputId": "713e1dfa-b3b5-4834-9a41-a48b00e808a6"
      },
      "execution_count": 40,
      "outputs": [
        {
          "output_type": "stream",
          "name": "stdout",
          "text": [
            "True\n"
          ]
        }
      ]
    },
    {
      "cell_type": "code",
      "source": [
        "print([1, 2] in a_1) # 출력: False\n"
      ],
      "metadata": {
        "colab": {
          "base_uri": "https://localhost:8080/"
        },
        "id": "9ZK5TbptQ5RX",
        "outputId": "c4535140-86a4-4521-ee8b-56e5d5b587d5"
      },
      "execution_count": 43,
      "outputs": [
        {
          "output_type": "stream",
          "name": "stdout",
          "text": [
            "True\n"
          ]
        }
      ]
    },
    {
      "cell_type": "code",
      "source": [
        "print('h' in c) # 출력: True\n",
        "print('hello  ' in c) # 출력: True"
      ],
      "metadata": {
        "colab": {
          "base_uri": "https://localhost:8080/"
        },
        "id": "LlY7JO6UQKeZ",
        "outputId": "51b201f5-4922-408c-bbaa-70095238529b"
      },
      "execution_count": 45,
      "outputs": [
        {
          "output_type": "stream",
          "name": "stdout",
          "text": [
            "True\n",
            "False\n"
          ]
        }
      ]
    },
    {
      "cell_type": "markdown",
      "source": [
        "# 5.연산자 순서"
      ],
      "metadata": {
        "id": "C0LVUssyST6U"
      }
    },
    {
      "cell_type": "code",
      "source": [
        "-2 ** 2 # 출력: -4, -(2 ** 2)"
      ],
      "metadata": {
        "colab": {
          "base_uri": "https://localhost:8080/"
        },
        "id": "H1lvhEGXRB7S",
        "outputId": "5baf388c-88cf-4855-c6ef-b229c6abf9d6"
      },
      "execution_count": 46,
      "outputs": [
        {
          "output_type": "execute_result",
          "data": {
            "text/plain": [
              "-4"
            ]
          },
          "metadata": {},
          "execution_count": 46
        }
      ]
    },
    {
      "cell_type": "code",
      "source": [
        "(-2) ** 2 # 출력: -4, -(2 ** 2)"
      ],
      "metadata": {
        "colab": {
          "base_uri": "https://localhost:8080/"
        },
        "id": "VL0d-L1dSVfd",
        "outputId": "0717a34a-be31-4be1-cd2f-c06bd2bcf9aa"
      },
      "execution_count": 47,
      "outputs": [
        {
          "output_type": "execute_result",
          "data": {
            "text/plain": [
              "4"
            ]
          },
          "metadata": {},
          "execution_count": 47
        }
      ]
    },
    {
      "cell_type": "code",
      "source": [
        "True * True and True + False"
      ],
      "metadata": {
        "colab": {
          "base_uri": "https://localhost:8080/"
        },
        "id": "W-J3SSmBSZed",
        "outputId": "d5e2e600-d7d6-420a-c798-e4aa5e5d3162"
      },
      "execution_count": 48,
      "outputs": [
        {
          "output_type": "execute_result",
          "data": {
            "text/plain": [
              "1"
            ]
          },
          "metadata": {},
          "execution_count": 48
        }
      ]
    },
    {
      "cell_type": "code",
      "source": [
        "(True * True) and (True + False)"
      ],
      "metadata": {
        "colab": {
          "base_uri": "https://localhost:8080/"
        },
        "id": "yHkcnV4dSePc",
        "outputId": "518b97db-f4b8-40b4-f310-7aa83994720b"
      },
      "execution_count": 49,
      "outputs": [
        {
          "output_type": "execute_result",
          "data": {
            "text/plain": [
              "1"
            ]
          },
          "metadata": {},
          "execution_count": 49
        }
      ]
    },
    {
      "cell_type": "code",
      "source": [
        "a = 10\n",
        "a *= 10 + 100\n",
        "a # 출력: 1100"
      ],
      "metadata": {
        "colab": {
          "base_uri": "https://localhost:8080/"
        },
        "id": "7lmMZAZqSg3M",
        "outputId": "4951a71c-225d-4cc3-878c-dcffb8a8fab4"
      },
      "execution_count": 50,
      "outputs": [
        {
          "output_type": "execute_result",
          "data": {
            "text/plain": [
              "1100"
            ]
          },
          "metadata": {},
          "execution_count": 50
        }
      ]
    },
    {
      "cell_type": "code",
      "source": [
        "# 퀴즈\n",
        "\n",
        "fruits = [\"사과\", \"바나나\", \"포도\"]\n",
        "print(\"체리\" not in fruits)"
      ],
      "metadata": {
        "colab": {
          "base_uri": "https://localhost:8080/"
        },
        "id": "VdXr5RTPSpYX",
        "outputId": "e6d8b00c-be8d-420c-bef2-dc62c8fa9903"
      },
      "execution_count": 52,
      "outputs": [
        {
          "output_type": "stream",
          "name": "stdout",
          "text": [
            "True\n"
          ]
        }
      ]
    },
    {
      "cell_type": "code",
      "source": [
        "greeting = \"안녕하세요\"\n",
        "print(\"안녕\" in greeting)"
      ],
      "metadata": {
        "colab": {
          "base_uri": "https://localhost:8080/"
        },
        "id": "q3XsPu8rTfU4",
        "outputId": "7dae864b-73bb-4544-9dc5-cdd471a1f050"
      },
      "execution_count": 53,
      "outputs": [
        {
          "output_type": "stream",
          "name": "stdout",
          "text": [
            "True\n"
          ]
        }
      ]
    },
    {
      "cell_type": "code",
      "source": [
        "result = 2 + 3 * 4\n",
        "print(result)"
      ],
      "metadata": {
        "colab": {
          "base_uri": "https://localhost:8080/"
        },
        "id": "NHWJneEETkBB",
        "outputId": "77cac099-3e50-494b-ad65-e980c47a5b69"
      },
      "execution_count": 54,
      "outputs": [
        {
          "output_type": "stream",
          "name": "stdout",
          "text": [
            "14\n"
          ]
        }
      ]
    },
    {
      "cell_type": "code",
      "source": [
        "result = 10 / 2 * 4 - 3\n",
        "print(result)"
      ],
      "metadata": {
        "colab": {
          "base_uri": "https://localhost:8080/"
        },
        "id": "HVpZdh-MT98n",
        "outputId": "83c2ff4a-19b9-4356-b149-8cea215f8fc2"
      },
      "execution_count": 55,
      "outputs": [
        {
          "output_type": "stream",
          "name": "stdout",
          "text": [
            "17.0\n"
          ]
        }
      ]
    },
    {
      "cell_type": "code",
      "source": [
        "a = 17\n",
        "b = 17.0"
      ],
      "metadata": {
        "id": "i1emfC61UTCo"
      },
      "execution_count": 58,
      "outputs": []
    },
    {
      "cell_type": "code",
      "source": [
        "print(a == b) # 확인 요망!"
      ],
      "metadata": {
        "colab": {
          "base_uri": "https://localhost:8080/"
        },
        "id": "62XLHgs6UUZV",
        "outputId": "91b5bedc-d5e4-4117-87cf-ce402a25631e"
      },
      "execution_count": 60,
      "outputs": [
        {
          "output_type": "stream",
          "name": "stdout",
          "text": [
            "False\n"
          ]
        }
      ]
    },
    {
      "cell_type": "code",
      "source": [
        "result = 2 ** 3 * 3 + 4 / 2 - 5\n",
        "print(result)"
      ],
      "metadata": {
        "colab": {
          "base_uri": "https://localhost:8080/"
        },
        "id": "jI6CH5UCUcBD",
        "outputId": "64d15555-82e6-467a-f311-821a209b1309"
      },
      "execution_count": 61,
      "outputs": [
        {
          "output_type": "stream",
          "name": "stdout",
          "text": [
            "21.0\n"
          ]
        }
      ]
    },
    {
      "cell_type": "markdown",
      "source": [
        "# 퀴즈"
      ],
      "metadata": {
        "id": "WX3Y4Y6YbKI_"
      }
    },
    {
      "cell_type": "code",
      "source": [
        "#1번\n",
        "a = 100\n",
        "print((a > 100) and (a < 200)) # a > 100이 잘못됨\n",
        "print((a > 100) or (a < 200)) # o\n",
        "print((a >= 100) and (a <= 200)) # o\n",
        "print((a >= 100) or (a <= 200)) # o"
      ],
      "metadata": {
        "colab": {
          "base_uri": "https://localhost:8080/"
        },
        "id": "EeM6sQZIVIFG",
        "outputId": "da0c538d-8945-4704-ee3d-71ec3d825fd4"
      },
      "execution_count": 62,
      "outputs": [
        {
          "output_type": "stream",
          "name": "stdout",
          "text": [
            "False\n",
            "True\n",
            "True\n",
            "True\n"
          ]
        }
      ]
    },
    {
      "cell_type": "code",
      "source": [
        "#2번\n",
        "b = 25\n",
        "print((b % 2 == 0) and (b % 5 == 0))"
      ],
      "metadata": {
        "colab": {
          "base_uri": "https://localhost:8080/"
        },
        "id": "WMmjrOF2bSsc",
        "outputId": "da38f920-306f-48df-80ee-f35e0cc3df87"
      },
      "execution_count": 63,
      "outputs": [
        {
          "output_type": "stream",
          "name": "stdout",
          "text": [
            "False\n"
          ]
        }
      ]
    },
    {
      "cell_type": "code",
      "source": [
        "#3번 100원 거스름돈\n",
        "\n",
        "c = 1000\n",
        "c // 100"
      ],
      "metadata": {
        "colab": {
          "base_uri": "https://localhost:8080/"
        },
        "id": "7T6TEjqcbtwc",
        "outputId": "3a1302cf-1e9c-47ab-d521-940ab2cc9648"
      },
      "execution_count": 65,
      "outputs": [
        {
          "output_type": "execute_result",
          "data": {
            "text/plain": [
              "10"
            ]
          },
          "metadata": {},
          "execution_count": 65
        }
      ]
    },
    {
      "cell_type": "code",
      "source": [
        "#4번 (심화문제) 입력한 금액을 5000원, 1000원, 500원, 100원으로 교환하는 프로그램을 만들어주세요.\n",
        "#1. 금액을 입력 받는다. Or 금액에 대한 변수 필요\n",
        "#2. 5000부터 100까지 거스름돈을 어떻게 줄지 생각해본다.\n",
        "#3. 결론적으로 모든 거스름돈을 출력해서 -> (서비스) 캐셔 지폐교환기 -> 돈을 거슬러주면\n",
        "\n",
        "money = int(input(\"거스름돈을 출력하세요\"))"
      ],
      "metadata": {
        "colab": {
          "base_uri": "https://localhost:8080/"
        },
        "id": "x6A9-Gb9b5_L",
        "outputId": "ce0a111a-8a3f-4355-cd3c-c1230aaa7e23"
      },
      "execution_count": 66,
      "outputs": [
        {
          "name": "stdout",
          "output_type": "stream",
          "text": [
            "거스름돈을 출력하세요9980\n"
          ]
        }
      ]
    },
    {
      "cell_type": "code",
      "source": [
        "print(money)"
      ],
      "metadata": {
        "colab": {
          "base_uri": "https://localhost:8080/"
        },
        "id": "mExhNUKAci20",
        "outputId": "f5f877b3-e9f5-421d-dd20-2723f0fdc3d3"
      },
      "execution_count": 67,
      "outputs": [
        {
          "output_type": "stream",
          "name": "stdout",
          "text": [
            "9980\n"
          ]
        }
      ]
    },
    {
      "cell_type": "code",
      "source": [
        "# 5000원 지폐 개수 개산!\n",
        "# 5000으로 나눠서 나눗셈된 값(몫) -> 5000원권 얼마나 거슬러 줘야하는가?\n",
        "num_5000 = money // 5000"
      ],
      "metadata": {
        "id": "fh0FVe6uclcR"
      },
      "execution_count": 68,
      "outputs": []
    },
    {
      "cell_type": "code",
      "source": [
        "print(num_5000)"
      ],
      "metadata": {
        "colab": {
          "base_uri": "https://localhost:8080/"
        },
        "id": "uLzdav_iczvi",
        "outputId": "68f7e9b7-685c-4bb4-fa98-4b08520cb7b1"
      },
      "execution_count": 69,
      "outputs": [
        {
          "output_type": "stream",
          "name": "stdout",
          "text": [
            "1\n"
          ]
        }
      ]
    },
    {
      "cell_type": "code",
      "source": [
        "money -= (num_5000 * 5000)"
      ],
      "metadata": {
        "id": "kUKbracvc0xP"
      },
      "execution_count": 70,
      "outputs": []
    },
    {
      "cell_type": "code",
      "source": [
        "print(money)"
      ],
      "metadata": {
        "colab": {
          "base_uri": "https://localhost:8080/"
        },
        "id": "ks5DaAzzc-Y2",
        "outputId": "6a5bdbf1-ccbe-47bb-c103-a536ece3fab7"
      },
      "execution_count": 71,
      "outputs": [
        {
          "output_type": "stream",
          "name": "stdout",
          "text": [
            "4980\n"
          ]
        }
      ]
    },
    {
      "cell_type": "code",
      "source": [
        "num_1000 = money // 1000\n",
        "money -= (num_1000 * 1000)"
      ],
      "metadata": {
        "id": "3flayCfzc_Yf"
      },
      "execution_count": 72,
      "outputs": []
    },
    {
      "cell_type": "code",
      "source": [
        "print(num_1000, money)"
      ],
      "metadata": {
        "colab": {
          "base_uri": "https://localhost:8080/"
        },
        "id": "JmGquXBudFeO",
        "outputId": "9e43511a-1b67-482c-84e6-eddae50f60c1"
      },
      "execution_count": 73,
      "outputs": [
        {
          "output_type": "stream",
          "name": "stdout",
          "text": [
            "4 980\n"
          ]
        }
      ]
    },
    {
      "cell_type": "code",
      "source": [
        "num_500 = money // 500\n",
        "money -= (num_500 * 500)"
      ],
      "metadata": {
        "id": "fhP9RUnpdIKA"
      },
      "execution_count": 74,
      "outputs": []
    },
    {
      "cell_type": "code",
      "source": [
        "print(num_500, money)"
      ],
      "metadata": {
        "colab": {
          "base_uri": "https://localhost:8080/"
        },
        "id": "u4_zH1xRdM1F",
        "outputId": "38f75047-726a-416f-c88a-c7f1dd48307b"
      },
      "execution_count": 75,
      "outputs": [
        {
          "output_type": "stream",
          "name": "stdout",
          "text": [
            "1 480\n"
          ]
        }
      ]
    },
    {
      "cell_type": "code",
      "source": [
        "num_100 = money // 100\n",
        "money -= (num_100 * 100)\n",
        "print(num_100, money)"
      ],
      "metadata": {
        "colab": {
          "base_uri": "https://localhost:8080/"
        },
        "id": "cqAqbXmldOXD",
        "outputId": "0caee2aa-1d65-435a-c356-b598e3fc0b45"
      },
      "execution_count": 76,
      "outputs": [
        {
          "output_type": "stream",
          "name": "stdout",
          "text": [
            "4 80\n"
          ]
        }
      ]
    },
    {
      "cell_type": "code",
      "source": [
        "num_10 = money // 10\n",
        "money -= (num_10 * 10)\n",
        "print(num_10, money)"
      ],
      "metadata": {
        "colab": {
          "base_uri": "https://localhost:8080/"
        },
        "id": "BmS5vny5dR54",
        "outputId": "4016633a-0cb5-4eb5-9783-2a6e9d206935"
      },
      "execution_count": 77,
      "outputs": [
        {
          "output_type": "stream",
          "name": "stdout",
          "text": [
            "8 0\n"
          ]
        }
      ]
    },
    {
      "cell_type": "code",
      "source": [
        "print(f\"5000원의 개수는 \",num_5000,\"개 입니다.\") #9,980원\n",
        "print(f\"5000원의 개수는 {num_5000} 개 입니다.\") #9,980원"
      ],
      "metadata": {
        "colab": {
          "base_uri": "https://localhost:8080/"
        },
        "id": "E2uqBtZ4dVH_",
        "outputId": "54c60eda-f976-4fb4-ef89-5d40e4328929"
      },
      "execution_count": 82,
      "outputs": [
        {
          "output_type": "stream",
          "name": "stdout",
          "text": [
            "5000원의 개수는  1 개 입니다.\n",
            "5000원의 개수는 1 개 입니다.\n"
          ]
        }
      ]
    },
    {
      "cell_type": "markdown",
      "source": [
        "## 실습 2"
      ],
      "metadata": {
        "id": "om5BcREpeSjy"
      }
    },
    {
      "cell_type": "markdown",
      "source": [
        "1. **사용자 입력 받기**:\n",
        "    - **`input()`** 함수를 사용하여 제품의 원가와 할인율을 입력받습니다.\n",
        "2. **문자열을 숫자로 변환**:\n",
        "    - 입력받은 원가와 할인율을 각각 **`float()`** 함수를 사용하여 실수로 변환합니다.\n",
        "3. **할인된 가격 계산**:\n",
        "    - 할인된 가격을 계산하는 공식을 사용합니다. (할인된 가격 = 원가 - (원가 × 할인율 / 100))\n",
        "4. **결과 출력**:\n",
        "    - 계산된 할인된 가격을 **`print()`** 함수를 사용하여 출력합니다."
      ],
      "metadata": {
        "id": "fep6ZGpSeRfn"
      }
    },
    {
      "cell_type": "code",
      "source": [
        "# Step1: 제품의 원가와 할인율 입력 받기 #28개\n",
        "original_price = float(input(\"제품의 원가를 입력하세요\")) # input -> 문자열 계산을 위해서 소수형/정수형\n",
        "discount_rate = float(input(\"제품의 할인율을 입력하세요\"))"
      ],
      "metadata": {
        "colab": {
          "base_uri": "https://localhost:8080/"
        },
        "id": "UA5CU07mewex",
        "outputId": "8109cb37-55a3-49db-e9e2-d08cecc3b423"
      },
      "execution_count": 83,
      "outputs": [
        {
          "name": "stdout",
          "output_type": "stream",
          "text": [
            "제품의 원가를 입력하세요10000\n",
            "제품의 할인율을 입력하세요10\n"
          ]
        }
      ]
    },
    {
      "cell_type": "code",
      "source": [
        "print(original_price, discount_rate)"
      ],
      "metadata": {
        "colab": {
          "base_uri": "https://localhost:8080/"
        },
        "id": "Ekz7hDTZhljk",
        "outputId": "6291cc76-05f6-4eea-ba34-5c8f7bb9c54c"
      },
      "execution_count": 84,
      "outputs": [
        {
          "output_type": "stream",
          "name": "stdout",
          "text": [
            "10000.0 10.0\n"
          ]
        }
      ]
    },
    {
      "cell_type": "code",
      "source": [
        "# Step2: 할인된 가격 계산 #28개\n",
        "discounted_price = original_price - (original_price * discount_rate/100) # 10000.0 - (10000.0 * 10.0/100->0.1) -> (1000.0)"
      ],
      "metadata": {
        "id": "Suw0Sa-Be3uB"
      },
      "execution_count": 85,
      "outputs": []
    },
    {
      "cell_type": "code",
      "source": [],
      "metadata": {
        "id": "HWPh4iHCiGs4"
      },
      "execution_count": null,
      "outputs": []
    },
    {
      "cell_type": "code",
      "source": [
        "print(discounted_price)"
      ],
      "metadata": {
        "colab": {
          "base_uri": "https://localhost:8080/"
        },
        "id": "Aiq7Q7n8hvam",
        "outputId": "8185e3ba-58e9-47c2-e367-20f8dc27423f"
      },
      "execution_count": 86,
      "outputs": [
        {
          "output_type": "stream",
          "name": "stdout",
          "text": [
            "9000.0\n"
          ]
        }
      ]
    },
    {
      "cell_type": "code",
      "source": [
        "# Step3: 결과 출력 #28개\n",
        "print(f'할인된 가격은 {int(discounted_price)} 원 입니다.')"
      ],
      "metadata": {
        "colab": {
          "base_uri": "https://localhost:8080/"
        },
        "id": "hXt2meule3na",
        "outputId": "ca2a10c2-1371-43a8-f0d4-5ca936df5a9f"
      },
      "execution_count": 89,
      "outputs": [
        {
          "output_type": "stream",
          "name": "stdout",
          "text": [
            "할인된 가격은 9000 원 입니다.\n"
          ]
        }
      ]
    },
    {
      "cell_type": "markdown",
      "source": [
        "단계별 가이드\n",
        "* 사용자 입력 받기:\n",
        "-- input() 함수를 사용하여 사용자의 이름과 나이를 입력받습니다.\n",
        "* 문자열을 숫자로 변환:\n",
        "-- 입력받은 나이(문자열)를 int() 함수를 사용하여 정수로 변환합니다.\n",
        "* 산술 연산 수행:\n",
        "-- 변환된 나이에 1을 더하여 다음 해의 나이를 계산합니다.\n",
        "* 문자열 길이 계산:\n",
        "-- len() 함수를 사용하여 사용자 이름의 길이를 계산합니다.\n",
        "* 성인 여부 판단:\n",
        "-- 나이를 기준으로 성인 여부를 판단하여 불리언 값으로 표시합니다. (예: 18세 -- 이상이면 True, 그렇지 않으면 False)\n",
        "* 결과 출력:\n",
        "-- 계산된 나이, 이름의 길이, 성인 여부를 print() 함수를 사용하여 출력합니다."
      ],
      "metadata": {
        "id": "uCTxGo8RiTBT"
      }
    },
    {
      "cell_type": "code",
      "source": [
        "# Step 1\n",
        "name = input(\"이름을 입력해주세요\")\n",
        "age = input(\"나이를 입력해주세요\")\n",
        "# Step 2\n",
        "age = int(age)"
      ],
      "metadata": {
        "colab": {
          "base_uri": "https://localhost:8080/"
        },
        "id": "IfEsgcuLj5sl",
        "outputId": "56d07b54-d276-44f7-9a96-dc4ff5686b5b"
      },
      "execution_count": 95,
      "outputs": [
        {
          "name": "stdout",
          "output_type": "stream",
          "text": [
            "이름을 입력해주세요김진환\n",
            "나이를 입력해주세요100\n"
          ]
        }
      ]
    },
    {
      "cell_type": "code",
      "source": [
        "# Step 3\n",
        "next_year_age = age + 1 # 덧셈"
      ],
      "metadata": {
        "id": "nUWYfz2ZkJcT"
      },
      "execution_count": 96,
      "outputs": []
    },
    {
      "cell_type": "code",
      "source": [
        "# Step 4\n",
        "name_length = len(name)"
      ],
      "metadata": {
        "id": "5g6YCD86kVUP"
      },
      "execution_count": 98,
      "outputs": []
    },
    {
      "cell_type": "code",
      "source": [
        "# Step 5\n",
        "is_adult =  age >= 18     #비교 연산자"
      ],
      "metadata": {
        "id": "37djz_qIkfsV"
      },
      "execution_count": 100,
      "outputs": []
    },
    {
      "cell_type": "code",
      "source": [
        "# Step 6\n",
        "print(f'제 이름은 {name} 입니다.')\n",
        "print(f'제 나이는 {next_year_age}입니다. 작년에는 {age} 였습니다.')\n",
        "print(f'성인여부는 {is_adult}입니다.')"
      ],
      "metadata": {
        "colab": {
          "base_uri": "https://localhost:8080/"
        },
        "id": "7eM3mHMdkp91",
        "outputId": "d505f5bd-743e-4215-ffd0-8479d93d307b"
      },
      "execution_count": 102,
      "outputs": [
        {
          "output_type": "stream",
          "name": "stdout",
          "text": [
            "제 이름은 김진환 입니다.\n",
            "제 나이는 101입니다. 작년에는 100 였습니다.\n",
            "성인여부는 True입니다.\n"
          ]
        }
      ]
    },
    {
      "cell_type": "markdown",
      "source": [
        "# Chat GPT가 우리한테 주는 영향?!\n",
        "\n",
        "* 코드를 생성하는 역할\n",
        "* 업무 자동화\n",
        "* 글도 쓸수 있고\n",
        "* 이미지도 생성\n",
        "* 음악도 만들 수 있다.\n",
        "\n",
        "-------\n",
        "\n",
        "저는 최근에 데이터분석 외에 AI디자이너\n",
        "미드저니 -> 로고/디자인작업\n",
        "\n",
        "1.\n",
        "2.\n",
        "3."
      ],
      "metadata": {
        "id": "O1tODz3z3l-1"
      }
    }
  ]
}