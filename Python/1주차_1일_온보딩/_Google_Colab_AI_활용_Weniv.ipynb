{
  "nbformat": 4,
  "nbformat_minor": 0,
  "metadata": {
    "colab": {
      "provenance": []
    },
    "kernelspec": {
      "name": "python3",
      "display_name": "Python 3"
    },
    "language_info": {
      "name": "python"
    }
  },
  "cells": [
    {
      "cell_type": "markdown",
      "source": [
        "\n",
        "\n",
        "```\n",
        "이제 더 이상 Chat GPT가 필요없다?!\n",
        "구글 코랩에서도 이제 Chat GPT연동 없이 기능을 사용할 수 있다?!\n",
        "```\n",
        "\n"
      ],
      "metadata": {
        "id": "DjxqvHEnHqB9"
      }
    },
    {
      "cell_type": "markdown",
      "source": [
        "# 개요. 구글 코랩 AI 기능\n",
        "\n",
        "* Colab 내에서 구글이 공개한 Codey 모델을 이용하여 사람의 명령(프롬프트 작성)으로 AI기반 코딩을 할수 있음\n",
        "\n",
        "* 코드 자동완성, 챗봇기능, Chat GPT와 동일한 방식으로 사용 가능\n",
        "* Colab 내에서 언제든지 활용 가능\n",
        "* 원래는 코랩 프로 유료 구독자들에게만 제공되었으나 얼마전에 무료로 기능을 사용할 수 있게 되었음"
      ],
      "metadata": {
        "id": "z3UNs_nyHKrw"
      }
    },
    {
      "cell_type": "code",
      "source": [],
      "metadata": {
        "id": "JEWTaOz1OooX"
      },
      "execution_count": null,
      "outputs": []
    },
    {
      "cell_type": "markdown",
      "source": [
        "# 1. 기본 코드 작성하기\n",
        "\n",
        "* 한글로도 간단한 구문을 잘 구현하는 것을 볼 수 있음\n",
        "* 1가지만 추천할때도 있지만 여러가지를 추천할때도 있음"
      ],
      "metadata": {
        "id": "UrDep_DRI_iW"
      }
    },
    {
      "cell_type": "code",
      "source": [
        "# prompt: 머신러닝을 구현하는 샘플 예제 코드를 작성해줘\n",
        "\n",
        "import numpy as np\n",
        "import pandas as pd\n",
        "from sklearn.linear_model import LinearRegression\n",
        "\n",
        "# 데이터 준비\n",
        "x = np.array([[1, 2, 3], [4, 5, 6]])\n",
        "y = np.array([7, 8])\n",
        "\n",
        "# 모델 훈련\n",
        "model = LinearRegression()\n",
        "model.fit(x, y)\n",
        "\n",
        "# 예측\n",
        "y_pred = model.predict(x)\n",
        "\n",
        "# 결과 출력\n",
        "print(y_pred)\n"
      ],
      "metadata": {
        "id": "jJnvLnonQfcp"
      },
      "execution_count": null,
      "outputs": []
    },
    {
      "cell_type": "markdown",
      "source": [
        "# 2. 데이터 프레임 활용\n",
        "\n",
        "* 구글 코랩으로 읽어진 데이터 프레임이나 샘플 데이터 프레임을 생성하면 그 내용을 가지고 분석을 이어갈수 있음"
      ],
      "metadata": {
        "id": "ohzy9wokKAIC"
      }
    },
    {
      "cell_type": "code",
      "source": [
        "# prompt: 판다스를 Import하고, 샘플 데이터 프레임 하나 만들어줘\n",
        "\n",
        "import pandas as pd\n",
        "df = pd.DataFrame({\n",
        "    'Name': ['Alice', 'Bob', 'Carol'],\n",
        "    'Age': [20, 25, 30]\n",
        "})\n"
      ],
      "metadata": {
        "id": "Z4QX4yFgSlxp"
      },
      "execution_count": null,
      "outputs": []
    },
    {
      "cell_type": "code",
      "source": [
        "# prompt: df DataFrame 사용: 이 데이터에 대해서 막대그래프를 그리고 싶어\n",
        "\n",
        "df.plot.bar(x='Name', y='Age')\n"
      ],
      "metadata": {
        "colab": {
          "base_uri": "https://localhost:8080/",
          "height": 490
        },
        "id": "kFPLG1xlTjpM",
        "outputId": "859db316-2a41-4823-abeb-4e65eeabdea3"
      },
      "execution_count": null,
      "outputs": [
        {
          "output_type": "execute_result",
          "data": {
            "text/plain": [
              "<Axes: xlabel='Name'>"
            ]
          },
          "metadata": {},
          "execution_count": 3
        },
        {
          "output_type": "display_data",
          "data": {
            "text/plain": [
              "<Figure size 640x480 with 1 Axes>"
            ],
            "image/png": "[encoded data removed]"
          },
          "metadata": {}
        }
      ]
    },
    {
      "cell_type": "code",
      "source": [],
      "metadata": {
        "id": "-Rq2Q5C7UCeR"
      },
      "execution_count": null,
      "outputs": []
    }
  ]
}