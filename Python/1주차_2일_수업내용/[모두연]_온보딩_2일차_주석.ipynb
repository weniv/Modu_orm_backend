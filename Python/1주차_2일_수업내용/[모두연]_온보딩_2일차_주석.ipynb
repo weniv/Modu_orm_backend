{
  "nbformat": 4,
  "nbformat_minor": 0,
  "metadata": {
    "colab": {
      "provenance": []
    },
    "kernelspec": {
      "name": "python3",
      "display_name": "Python 3"
    },
    "language_info": {
      "name": "python"
    }
  },
  "cells": [
    {
      "cell_type": "markdown",
      "source": [
        "# 1. 주석"
      ],
      "metadata": {
        "id": "7Sl_67PlCqtT"
      }
    },
    {
      "cell_type": "markdown",
      "source": [
        "## 1.1 한줄 주석\n",
        "\n",
        "한 줄 주석은 # 기호로 시작합니다. 이 기호 뒤에 따라오는 텍스트는 모두 주석으로 처리됩니다. 아래처럼 입력하고 Alt + Enter를 입력하도록 하겠습니다. 그러면 Hello, World 1! 과 Hello, World 2!가 출력된 것을 확인하실 수 있습니다."
      ],
      "metadata": {
        "id": "PfCqE-R1DgxC"
      }
    },
    {
      "cell_type": "code",
      "source": [
        "'''\n",
        "이것은 주석입니다.(특이사항, 전체적인 것들, 업데이트 내용)\n",
        "주석은 # 기호로 시작됩니다.\n",
        "주석의 설명이 끝났습니다.\n",
        "'''\n",
        "\n",
        "print('Hello, World 1!') # 이것도 주석입니다.(해당 코드의 설명)\n",
        "print('Hello, World 2!') # 코드의 에러 / 향후 수정! / 임시 주석!"
      ],
      "metadata": {
        "colab": {
          "base_uri": "https://localhost:8080/"
        },
        "id": "-FdkG1zOFwtR",
        "outputId": "8fbda512-a083-4dca-9cde-52005015687c"
      },
      "execution_count": 12,
      "outputs": [
        {
          "output_type": "stream",
          "name": "stdout",
          "text": [
            "Hello, World 1!\n",
            "Hello, World 2!\n"
          ]
        }
      ]
    },
    {
      "cell_type": "code",
      "execution_count": 11,
      "metadata": {
        "colab": {
          "base_uri": "https://localhost:8080/",
          "height": 144
        },
        "id": "TYoLQOwxCmqV",
        "outputId": "6e06b48d-befb-40d8-8653-7fe9bc7c8af0"
      },
      "outputs": [
        {
          "output_type": "error",
          "ename": "SyntaxError",
          "evalue": "ignored",
          "traceback": [
            "\u001b[0;36m  File \u001b[0;32m\"<ipython-input-11-58f09d939de4>\"\u001b[0;36m, line \u001b[0;32m3\u001b[0m\n\u001b[0;31m    print('Hello, World 2!') ''' 이건 Hello world 입니다.'''\u001b[0m\n\u001b[0m                             ^\u001b[0m\n\u001b[0;31mSyntaxError\u001b[0m\u001b[0;31m:\u001b[0m invalid syntax\n"
          ]
        }
      ],
      "source": [
        "# 이것은 주석입니다.(특이사항, 전체적인 것들, 업데이트 내용)\n",
        "# 주석은 # 기호로 시작됩니다.\n",
        "# 주석의 설명이 끝났습니다.\n",
        "\n",
        "print('Hello, World 1!') # 이것도 주석입니다.(해당 코드의 설명)\n",
        "print('Hello, World 2!') # 코드의 에러 / 향후 수정! / 임시 주석!"
      ]
    },
    {
      "cell_type": "markdown",
      "source": [
        "## 1.2 여러 줄 주석\n",
        "이번에는 여러 줄 주석을 사용하겠습니다. '''는 여러 줄 주석에 사용합니다. 여기서 주의해야 할 점이 '''는 앞뒤로 감싸주어야 한다는 것입니다. 역시나 Alt + Enter를 사용해서 실행해주세요.\n"
      ],
      "metadata": {
        "id": "xCzRjATvEv1e"
      }
    },
    {
      "cell_type": "code",
      "source": [
        "'''\n",
        "# 이것은 주석입니다.(특이사항, 전체적인 것들, 업데이트 내용)\n",
        "print('Hello, World 1!')\n",
        "print('Hello, World 2!')\n",
        "print('Hello, World 3!')\n",
        "'''\n",
        "print('Real Hello World')"
      ],
      "metadata": {
        "colab": {
          "base_uri": "https://localhost:8080/"
        },
        "id": "ntaovAwgD7oK",
        "outputId": "bb59be15-d00c-49e9-c0a4-3349152e3bce"
      },
      "execution_count": 8,
      "outputs": [
        {
          "output_type": "stream",
          "name": "stdout",
          "text": [
            "Real Hello World\n"
          ]
        }
      ]
    },
    {
      "cell_type": "code",
      "source": [
        "\"\"\"\n",
        "print('Hello, World 1!')\n",
        "print('Hello, World 2!')\n",
        "print('Hello, World 3!')\n",
        "\"\"\""
      ],
      "metadata": {
        "colab": {
          "base_uri": "https://localhost:8080/",
          "height": 54
        },
        "id": "qhZeIWzgDxgA",
        "outputId": "fd1c3e98-03fc-4099-d985-12a215af4414"
      },
      "execution_count": 10,
      "outputs": [
        {
          "output_type": "execute_result",
          "data": {
            "text/plain": [
              "\"\\nprint('Hello, World 1!')\\nprint('Hello, World 2!')\\nprint('Hello, World 3!')\\n\""
            ],
            "application/vnd.google.colaboratory.intrinsic+json": {
              "type": "string"
            }
          },
          "metadata": {},
          "execution_count": 10
        }
      ]
    },
    {
      "cell_type": "code",
      "source": [],
      "metadata": {
        "id": "B8BlzafwFTT8"
      },
      "execution_count": null,
      "outputs": []
    }
  ]
}